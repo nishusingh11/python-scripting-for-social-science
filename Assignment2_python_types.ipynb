{
  "nbformat": 4,
  "nbformat_minor": 0,
  "metadata": {
    "kernelspec": {
      "display_name": "Python 3",
      "language": "python",
      "name": "python3"
    },
    "language_info": {
      "codemirror_mode": {
        "name": "ipython",
        "version": 3
      },
      "file_extension": ".py",
      "mimetype": "text/x-python",
      "name": "python",
      "nbconvert_exporter": "python",
      "pygments_lexer": "ipython3",
      "version": "3.7.6"
    },
    "toc": {
      "base_numbering": 1,
      "nav_menu": {
        "height": "67px",
        "width": "252px"
      },
      "number_sections": true,
      "sideBar": true,
      "skip_h1_title": false,
      "title_cell": "Table of Contents",
      "title_sidebar": "Contents",
      "toc_cell": false,
      "toc_position": {},
      "toc_section_display": "block",
      "toc_window_display": false
    },
    "colab": {
      "name": "Assignment2_python_types.ipynb",
      "provenance": [],
      "include_colab_link": true
    }
  },
  "cells": [
    {
      "cell_type": "markdown",
      "metadata": {
        "id": "view-in-github",
        "colab_type": "text"
      },
      "source": [
        "<a href=\"https://colab.research.google.com/github/nishusingh11/python-scripting-for-social-science/blob/main/Assignment2_python_types.ipynb\" target=\"_parent\"><img src=\"https://colab.research.google.com/assets/colab-badge.svg\" alt=\"Open In Colab\"/></a>"
      ]
    },
    {
      "cell_type": "markdown",
      "metadata": {
        "id": "ZIBX7u_RW74U"
      },
      "source": [
        "# Python Types Assignment 2020"
      ]
    },
    {
      "cell_type": "markdown",
      "metadata": {
        "id": "nIt_8QZrW74V"
      },
      "source": [
        "Name/RedID: Nishu Singh / 826991926"
      ]
    },
    {
      "cell_type": "markdown",
      "metadata": {
        "id": "_3Sm1M10W74W"
      },
      "source": [
        "## Part One"
      ]
    },
    {
      "cell_type": "markdown",
      "metadata": {
        "id": "kWYWYfMiW74W"
      },
      "source": [
        "For the problems in Part One, assume all the definitions in the next cell, and check your answers by evaluating the next cell and verifying that your answers give the required results."
      ]
    },
    {
      "cell_type": "code",
      "metadata": {
        "id": "19mvC4k2W74X"
      },
      "source": [
        "friends_network = {'susan': {'alex': 8, 'louis': 5, 'plato': 1, 'giuseppe':3},\n",
        "                   'alex': {'louis': 5, 'susan': 3, 'giuseppe':3},\n",
        "                   'louis': {'alex': 4, 'plato': 4, },\n",
        "                   'plato': { 'louis': 8,  'giuseppe':2, 'susan': 2},\n",
        "                   'giuseppe' : {}\n",
        "                  }\n",
        "language_decade_pairs = [ ('50s', 'fortran'), ('60s', 'pascal'), ('70s', 'C'),  ('80s', 'C++'),\n",
        "                          ('90s', 'java'), ('00s', 'perl'), ('10s', 'python')]\n",
        "dominant_computer_languages = dict(language_decade_pairs)\n",
        "awards = ('grammy', 'emmy', 'pulitzer','hugo','baseball_mvp','edgar', 'nobel_prize','oscar')\n",
        "secret_word = \"White House\"\n",
        "personnel_files = [{'name':'Fred Flinstone',\n",
        "                     'spouse': 'Wilma',\n",
        "                      'town of residence': 'Bedrock'},\n",
        "                    {'name':'Barney Rubble',\n",
        "                     'spouse': 'Betty',\n",
        "                      'town of residence': 'Bedrock'},\n",
        "                  ]"
      ],
      "execution_count": 21,
      "outputs": []
    },
    {
      "cell_type": "markdown",
      "metadata": {
        "id": "ipI_NV8pW74b"
      },
      "source": [
        "In the problems below,  when you are asked to write an expression that \"accesses\". a particular name, that means your answer should **use** that name.  For if asked:\n",
        "\n",
        "\n",
        "   Write an expression that accesses `awards` and return the value `'baseball_mvp'`.\n",
        "\n",
        "\n",
        "You might answer:\n",
        "\n",
        "```\n",
        "awards[4]\n",
        "```\n",
        "\n",
        "because that is an expression that uses the name `awards` and returns the value\n",
        "`\"baseball_mvp\"`, as illustrated in the next cell."
      ]
    },
    {
      "cell_type": "code",
      "metadata": {
        "id": "PLZS5ol9W74c",
        "outputId": "1ad83f58-7559-4f78-e4ec-8ce51afd93da",
        "colab": {
          "base_uri": "https://localhost:8080/",
          "height": 35
        }
      },
      "source": [
        "awards[4]    # tuples are ordered collection of element so we can access element by index.  \"baseball_mvp\" is present at index 4."
      ],
      "execution_count": 22,
      "outputs": [
        {
          "output_type": "execute_result",
          "data": {
            "application/vnd.google.colaboratory.intrinsic+json": {
              "type": "string"
            },
            "text/plain": [
              "'baseball_mvp'"
            ]
          },
          "metadata": {},
          "execution_count": 22
        }
      ]
    },
    {
      "cell_type": "markdown",
      "metadata": {
        "id": "-SdNV4DNW74i"
      },
      "source": [
        "In the next cell, write expression that accesses `awards` and returns the value `\"pulitzer\"`."
      ]
    },
    {
      "cell_type": "code",
      "metadata": {
        "id": "Ic5AnNKuW74j",
        "colab": {
          "base_uri": "https://localhost:8080/",
          "height": 35
        },
        "outputId": "e456a6e7-21f8-4c87-bec0-ebcd00acb265"
      },
      "source": [
        "awards[2]    # award is a tuples type oject. tuples are ordered collection of element so we can access element by index.  \"pulitzer\" is present at index 2."
      ],
      "execution_count": 23,
      "outputs": [
        {
          "output_type": "execute_result",
          "data": {
            "application/vnd.google.colaboratory.intrinsic+json": {
              "type": "string"
            },
            "text/plain": [
              "'pulitzer'"
            ]
          },
          "metadata": {},
          "execution_count": 23
        }
      ]
    },
    {
      "cell_type": "markdown",
      "metadata": {
        "id": "nrb4FrpQW74m"
      },
      "source": [
        " "
      ]
    },
    {
      "cell_type": "markdown",
      "metadata": {
        "id": "gyonsXZjW74m"
      },
      "source": [
        "In the next cell, write an expression that accesses `secret_words` and returns the value `\"H\"\n",
        "`."
      ]
    },
    {
      "cell_type": "code",
      "metadata": {
        "id": "dLKwzgMKW74n",
        "outputId": "39a20d6f-fbec-4b43-d45c-f008c162d5e6",
        "colab": {
          "base_uri": "https://localhost:8080/",
          "height": 35
        }
      },
      "source": [
        "secret_word[6]   # secret_word is string type object, we can access element by index. \"H\" is present at index 6."
      ],
      "execution_count": 24,
      "outputs": [
        {
          "output_type": "execute_result",
          "data": {
            "application/vnd.google.colaboratory.intrinsic+json": {
              "type": "string"
            },
            "text/plain": [
              "'H'"
            ]
          },
          "metadata": {},
          "execution_count": 24
        }
      ]
    },
    {
      "cell_type": "markdown",
      "metadata": {
        "id": "SqgeJc1jW74p"
      },
      "source": [
        " "
      ]
    },
    {
      "cell_type": "markdown",
      "metadata": {
        "id": "IFmMMNrVW74q"
      },
      "source": [
        "In the next cell, write an expression that accesses `awards` and produces an `IndexError`.  Try to make the index you use to access `awards` as small as possible."
      ]
    },
    {
      "cell_type": "code",
      "metadata": {
        "scrolled": true,
        "id": "DC5oXusOW74r",
        "colab": {
          "base_uri": "https://localhost:8080/",
          "height": 166
        },
        "outputId": "57f48500-ac2e-4d65-a6e6-b5c69b3f6db6"
      },
      "source": [
        "awards[-9]  # IndexError means code is trying to access the index which is invalid. awards is tuple type object, storing 0-7 elements. At index 8 or -9 we will get index error"
      ],
      "execution_count": 25,
      "outputs": [
        {
          "output_type": "error",
          "ename": "IndexError",
          "evalue": "ignored",
          "traceback": [
            "\u001b[0;31m---------------------------------------------------------------------------\u001b[0m",
            "\u001b[0;31mIndexError\u001b[0m                                Traceback (most recent call last)",
            "\u001b[0;32m<ipython-input-25-98c825f54aa9>\u001b[0m in \u001b[0;36m<module>\u001b[0;34m()\u001b[0m\n\u001b[0;32m----> 1\u001b[0;31m \u001b[0mawards\u001b[0m\u001b[0;34m[\u001b[0m\u001b[0;34m-\u001b[0m\u001b[0;36m9\u001b[0m\u001b[0;34m]\u001b[0m   \u001b[0;31m# IndexError means code is trying to access the index which is invalid. awards is tuple type object, storing 0-7 elements. At index 8 or -9 we will get index error\u001b[0m\u001b[0;34m\u001b[0m\u001b[0;34m\u001b[0m\u001b[0m\n\u001b[0m",
            "\u001b[0;31mIndexError\u001b[0m: tuple index out of range"
          ]
        }
      ]
    },
    {
      "cell_type": "markdown",
      "metadata": {
        "id": "SRhYiXRJW74t"
      },
      "source": [
        "In the next cell, write an expression that accesses `awards` and returns `\"oscar\"`.  There is more than one answer.  See if you can find two."
      ]
    },
    {
      "cell_type": "code",
      "metadata": {
        "id": "sb81tMbDW74u",
        "outputId": "a02e38af-8216-4bc0-cdc0-2b1be61d304a",
        "colab": {
          "base_uri": "https://localhost:8080/",
          "height": 35
        }
      },
      "source": [
        "awards[7]    # award is a tuples type oject. tuples are ordered collection of element so we can access element by index. At index 7 'oscar' is stored"
      ],
      "execution_count": 26,
      "outputs": [
        {
          "output_type": "execute_result",
          "data": {
            "application/vnd.google.colaboratory.intrinsic+json": {
              "type": "string"
            },
            "text/plain": [
              "'oscar'"
            ]
          },
          "metadata": {},
          "execution_count": 26
        }
      ]
    },
    {
      "cell_type": "markdown",
      "metadata": {
        "id": "Yd_mC2AHW74w"
      },
      "source": [
        " In the next cell, write an expression that accesses `awards` and returns `\"s\"`. "
      ]
    },
    {
      "cell_type": "code",
      "metadata": {
        "id": "tRmFvB_8W74x",
        "outputId": "92cf9d72-1877-409a-829b-d2c58bec061a",
        "colab": {
          "base_uri": "https://localhost:8080/",
          "height": 35
        }
      },
      "source": [
        "awards[4][2]   # By one [] we can get stored string value, using [][] we can access character of string. "
      ],
      "execution_count": 27,
      "outputs": [
        {
          "output_type": "execute_result",
          "data": {
            "application/vnd.google.colaboratory.intrinsic+json": {
              "type": "string"
            },
            "text/plain": [
              "'s'"
            ]
          },
          "metadata": {},
          "execution_count": 27
        }
      ]
    },
    {
      "cell_type": "markdown",
      "metadata": {
        "id": "0c5-_POaW74z"
      },
      "source": [
        " "
      ]
    },
    {
      "cell_type": "markdown",
      "metadata": {
        "id": "TyoTDs0_W740"
      },
      "source": [
        "Explain what happens  when the following expression is evaluated.  Edit it to be an expression that returns `\"n\"`."
      ]
    },
    {
      "cell_type": "code",
      "metadata": {
        "id": "jwYjbhIcW740",
        "outputId": "a62de441-0d76-4350-f353-954a8813e2a4",
        "colab": {
          "base_uri": "https://localhost:8080/",
          "height": 35
        }
      },
      "source": [
        "# awards[6]['n'] Here second subscript must be an index of value that we want to access.\n",
        "awards[6][0]"
      ],
      "execution_count": 28,
      "outputs": [
        {
          "output_type": "execute_result",
          "data": {
            "application/vnd.google.colaboratory.intrinsic+json": {
              "type": "string"
            },
            "text/plain": [
              "'n'"
            ]
          },
          "metadata": {},
          "execution_count": 28
        }
      ]
    },
    {
      "cell_type": "markdown",
      "metadata": {
        "id": "VabiRPzPW743"
      },
      "source": [
        " "
      ]
    },
    {
      "cell_type": "markdown",
      "metadata": {
        "id": "GyNmzb8iW743"
      },
      "source": [
        "In the next cell, write an expression that accesses `awards[2]` and returns `True`. "
      ]
    },
    {
      "cell_type": "code",
      "metadata": {
        "id": "S5ObRPoaW744",
        "outputId": "46295842-38c1-42b7-aeff-8b583f794b86",
        "colab": {
          "base_uri": "https://localhost:8080/"
        }
      },
      "source": [
        "if awards[2]:               #  awards is tuple type object. Here we checking whether awards[2] is exists or not. \n",
        "    print(\"True\")"
      ],
      "execution_count": 29,
      "outputs": [
        {
          "output_type": "stream",
          "name": "stdout",
          "text": [
            "True\n"
          ]
        }
      ]
    },
    {
      "cell_type": "markdown",
      "metadata": {
        "id": "BHPox3R5W747"
      },
      "source": [
        " "
      ]
    },
    {
      "cell_type": "markdown",
      "metadata": {
        "id": "MTSVrHjiW747"
      },
      "source": [
        "In the next cell, write an expression that accesses `language_decade_pairs` and raises\n",
        "a `TypeError`."
      ]
    },
    {
      "cell_type": "code",
      "metadata": {
        "id": "dQlgKSz1W748",
        "colab": {
          "base_uri": "https://localhost:8080/",
          "height": 183
        },
        "outputId": "6646eff0-ebe9-44a5-dc14-1138936f9d27"
      },
      "source": [
        "element = language_decade_pairs[0][0]    # Here accessing the string value stored in language_decade_pairs[0][0] which is '50's. \n",
        "element + 1    # trying to perform addition on string and interger which will give type error."
      ],
      "execution_count": 30,
      "outputs": [
        {
          "output_type": "error",
          "ename": "TypeError",
          "evalue": "ignored",
          "traceback": [
            "\u001b[0;31m---------------------------------------------------------------------------\u001b[0m",
            "\u001b[0;31mTypeError\u001b[0m                                 Traceback (most recent call last)",
            "\u001b[0;32m<ipython-input-30-edfb9049d1fd>\u001b[0m in \u001b[0;36m<module>\u001b[0;34m()\u001b[0m\n\u001b[1;32m      1\u001b[0m \u001b[0melement\u001b[0m \u001b[0;34m=\u001b[0m \u001b[0mlanguage_decade_pairs\u001b[0m\u001b[0;34m[\u001b[0m\u001b[0;36m0\u001b[0m\u001b[0;34m]\u001b[0m\u001b[0;34m[\u001b[0m\u001b[0;36m0\u001b[0m\u001b[0;34m]\u001b[0m    \u001b[0;31m# Here accessing the string value stored in language_decade_pairs[0][0] which is '50's.\u001b[0m\u001b[0;34m\u001b[0m\u001b[0;34m\u001b[0m\u001b[0m\n\u001b[0;32m----> 2\u001b[0;31m \u001b[0melement\u001b[0m \u001b[0;34m+\u001b[0m \u001b[0;36m1\u001b[0m     \u001b[0;31m# trying to perform addition on string and interger which will give type error.\u001b[0m\u001b[0;34m\u001b[0m\u001b[0;34m\u001b[0m\u001b[0m\n\u001b[0m",
            "\u001b[0;31mTypeError\u001b[0m: can only concatenate str (not \"int\") to str"
          ]
        }
      ]
    },
    {
      "cell_type": "markdown",
      "metadata": {
        "id": "o0uOi3F1W74-"
      },
      "source": [
        " "
      ]
    },
    {
      "cell_type": "markdown",
      "metadata": {
        "id": "BAs0bfXxW75D"
      },
      "source": [
        "In the next cell, write an expression that accesses `friends_network` and returns `8`. "
      ]
    },
    {
      "cell_type": "code",
      "metadata": {
        "id": "hVFy1awGW75D",
        "colab": {
          "base_uri": "https://localhost:8080/"
        },
        "outputId": "74d1fe04-01cb-45bf-fe59-b37ea03f0b52"
      },
      "source": [
        "friends_network['plato']['louis']  # friends_network nested dictionary, unordered collection of elements. 8 is stored at 2 locations wich are: friends_network['susan']['alex'] and friends_network['plato']['louis'] "
      ],
      "execution_count": 31,
      "outputs": [
        {
          "output_type": "execute_result",
          "data": {
            "text/plain": [
              "8"
            ]
          },
          "metadata": {},
          "execution_count": 31
        }
      ]
    },
    {
      "cell_type": "markdown",
      "metadata": {
        "id": "g-20RA33W75G"
      },
      "source": [
        " "
      ]
    },
    {
      "cell_type": "markdown",
      "metadata": {
        "id": "CIlyrl7EW75H"
      },
      "source": [
        "In the next cell, write an expression that accesses `friends_network` and returns `4`. "
      ]
    },
    {
      "cell_type": "code",
      "metadata": {
        "id": "Ho-bG6cQW75H",
        "colab": {
          "base_uri": "https://localhost:8080/"
        },
        "outputId": "ae17ea3e-c814-46f8-9aa1-14d121d66d8d"
      },
      "source": [
        "friends_network['louis']['plato']  # 4 is stored at 2 locations, which are : friends_network['louis']['alex'] and friends_network['louis']['plato']"
      ],
      "execution_count": 32,
      "outputs": [
        {
          "output_type": "execute_result",
          "data": {
            "text/plain": [
              "4"
            ]
          },
          "metadata": {},
          "execution_count": 32
        }
      ]
    },
    {
      "cell_type": "markdown",
      "metadata": {
        "id": "5rxYWbcJW75L"
      },
      "source": [
        " "
      ]
    },
    {
      "cell_type": "markdown",
      "metadata": {
        "id": "s4HBqIahW75M"
      },
      "source": [
        "In the next cell, write an expression that accesses `personnel_files` and returns `Barney Rubble`. "
      ]
    },
    {
      "cell_type": "code",
      "metadata": {
        "id": "gVKYQYLVW75M",
        "outputId": "feb8c85b-46d9-45df-e8d7-66eb62ff7b6c",
        "colab": {
          "base_uri": "https://localhost:8080/",
          "height": 35
        }
      },
      "source": [
        "personnel_files[1]['name']   # personnel_files is list type object, storing dict type object. 'Barney Rubble' is present at personnel_files[1]['name'], where first [] is index of list and 2'nd [] key which is stored at index 1."
      ],
      "execution_count": 33,
      "outputs": [
        {
          "output_type": "execute_result",
          "data": {
            "application/vnd.google.colaboratory.intrinsic+json": {
              "type": "string"
            },
            "text/plain": [
              "'Barney Rubble'"
            ]
          },
          "metadata": {},
          "execution_count": 33
        }
      ]
    },
    {
      "cell_type": "markdown",
      "metadata": {
        "id": "-7xecYYuW75P"
      },
      "source": [
        " "
      ]
    },
    {
      "cell_type": "markdown",
      "metadata": {
        "id": "5WCkETk-W75P"
      },
      "source": [
        "In the next cell, write an expression that accesses `personnel_files` and returns `\"roc\"`. "
      ]
    },
    {
      "cell_type": "code",
      "metadata": {
        "id": "gL-f2FucW75P",
        "outputId": "9d220117-91df-4edc-bd35-b1d1fdce47b0",
        "colab": {
          "base_uri": "https://localhost:8080/",
          "height": 35
        }
      },
      "source": [
        "personnel_files[0]['town of residence'][3:-1]  # 3'rd [] is used to slice the value which is mapped by key 'town of residence' stored at index 0."
      ],
      "execution_count": 34,
      "outputs": [
        {
          "output_type": "execute_result",
          "data": {
            "application/vnd.google.colaboratory.intrinsic+json": {
              "type": "string"
            },
            "text/plain": [
              "'roc'"
            ]
          },
          "metadata": {},
          "execution_count": 34
        }
      ]
    },
    {
      "cell_type": "markdown",
      "metadata": {
        "id": "JbtVOFMCW75S"
      },
      "source": [
        " "
      ]
    },
    {
      "cell_type": "markdown",
      "metadata": {
        "id": "NiSCfU1BW75T"
      },
      "source": [
        "Can you write an expression that sets the first element of `awards` to be `\"national_book_award\"`.  If not, why not?\n",
        "\n",
        "You may use the next cell to illustrate your answer."
      ]
    },
    {
      "cell_type": "code",
      "metadata": {
        "id": "EgggrwskW75U"
      },
      "source": [
        "# awards are declared as tuple, tuples are immutable so we can change the elements of tuples"
      ],
      "execution_count": 35,
      "outputs": []
    },
    {
      "cell_type": "markdown",
      "metadata": {
        "id": "H7lDWVTTW75X"
      },
      "source": [
        " "
      ]
    },
    {
      "cell_type": "markdown",
      "metadata": {
        "id": "rehiuvcXW75Y"
      },
      "source": [
        "In the next cell, write an expression that accesses `awards[-2]` and returns `True`. "
      ]
    },
    {
      "cell_type": "code",
      "metadata": {
        "id": "jJNlecohW75Z",
        "outputId": "0c0906cc-47f9-4fac-f9f2-f827d3337a6d",
        "colab": {
          "base_uri": "https://localhost:8080/"
        }
      },
      "source": [
        "if awards[-1]:     # cheking whether awards[-1] exists or not.\n",
        "    print(\"True\")\n",
        "else:\n",
        "    print(\"False\")"
      ],
      "execution_count": 36,
      "outputs": [
        {
          "output_type": "stream",
          "name": "stdout",
          "text": [
            "True\n"
          ]
        }
      ]
    },
    {
      "cell_type": "markdown",
      "metadata": {
        "id": "Un339aJjW75c"
      },
      "source": [
        " "
      ]
    },
    {
      "cell_type": "markdown",
      "metadata": {
        "id": "olFPDUg7W75c"
      },
      "source": [
        "In the next cell, write an expression that accesses `friends_n etwork` and returns \n",
        "a dictionary with three keys. "
      ]
    },
    {
      "cell_type": "code",
      "metadata": {
        "id": "urLfNBrpW75d",
        "colab": {
          "base_uri": "https://localhost:8080/"
        },
        "outputId": "d254fd2b-8401-45d8-90c9-a218f186c9c2"
      },
      "source": [
        "friends_network['plato']    # There are 2 keys which are mapped to dictionary with 3 keys. friends_network['alex'] and friends_network['plato'].\n"
      ],
      "execution_count": 37,
      "outputs": [
        {
          "output_type": "execute_result",
          "data": {
            "text/plain": [
              "{'giuseppe': 2, 'louis': 8, 'susan': 2}"
            ]
          },
          "metadata": {},
          "execution_count": 37
        }
      ]
    },
    {
      "cell_type": "markdown",
      "metadata": {
        "id": "-SmuZa2HW75g"
      },
      "source": [
        " "
      ]
    },
    {
      "cell_type": "markdown",
      "metadata": {
        "id": "qwn17TUFW75h"
      },
      "source": [
        "##       Part Two"
      ]
    },
    {
      "cell_type": "markdown",
      "metadata": {
        "id": "Ma_hoftyW75h"
      },
      "source": [
        "Write down expressions to retrieve the given values from the given variables."
      ]
    },
    {
      "cell_type": "markdown",
      "metadata": {
        "id": "XvH9JnpVW75i"
      },
      "source": [
        "1) `'mm'` from `awards`"
      ]
    },
    {
      "cell_type": "code",
      "metadata": {
        "id": "grPenshDW75i",
        "outputId": "308a468b-17ae-4dea-d632-31b65e5e3321",
        "colab": {
          "base_uri": "https://localhost:8080/",
          "height": 35
        }
      },
      "source": [
        "awards[1][1:-1]   # 1st [] is represent index of awards and 2'nd [] is used to slice the input string."
      ],
      "execution_count": 38,
      "outputs": [
        {
          "output_type": "execute_result",
          "data": {
            "application/vnd.google.colaboratory.intrinsic+json": {
              "type": "string"
            },
            "text/plain": [
              "'mm'"
            ]
          },
          "metadata": {},
          "execution_count": 38
        }
      ]
    },
    {
      "cell_type": "markdown",
      "metadata": {
        "id": "hCEFKZu0W75k"
      },
      "source": [
        "2) `'yth'` from `dominant_computer_languages`"
      ]
    },
    {
      "cell_type": "code",
      "metadata": {
        "id": "YfPfNTfrW75k",
        "outputId": "72baebf0-b98e-4277-eb8d-d9987d20100c",
        "colab": {
          "base_uri": "https://localhost:8080/",
          "height": 35
        }
      },
      "source": [
        "dominant_computer_languages['10s'][1:4]    #  Here 1'st [] represent the key of dominant_computer_languages. 2'nd [] is used to slice the string value mapped with key."
      ],
      "execution_count": 39,
      "outputs": [
        {
          "output_type": "execute_result",
          "data": {
            "application/vnd.google.colaboratory.intrinsic+json": {
              "type": "string"
            },
            "text/plain": [
              "'yth'"
            ]
          },
          "metadata": {},
          "execution_count": 39
        }
      ]
    },
    {
      "cell_type": "markdown",
      "metadata": {
        "id": "AziVAtqLW75n"
      },
      "source": [
        "3) `'yth'` from `language_decade_pairs`"
      ]
    },
    {
      "cell_type": "code",
      "metadata": {
        "id": "Kd0ImWxkW75o",
        "outputId": "0fd9e64e-7d84-4ea5-a798-852214372262",
        "colab": {
          "base_uri": "https://localhost:8080/",
          "height": 35
        }
      },
      "source": [
        "language_decade_pairs[6][1][1:4]   # language_decade_pairs is tist type object storing the tuples values. 1st [] is used to access the tuple the 2'n [] is used to access the value of tuple and 3rd [] is used to slice the string stored."
      ],
      "execution_count": 40,
      "outputs": [
        {
          "output_type": "execute_result",
          "data": {
            "application/vnd.google.colaboratory.intrinsic+json": {
              "type": "string"
            },
            "text/plain": [
              "'yth'"
            ]
          },
          "metadata": {},
          "execution_count": 40
        }
      ]
    },
    {
      "cell_type": "markdown",
      "metadata": {
        "id": "FAG5HtfyW75q"
      },
      "source": [
        "4) `'mvp'` from `awards`"
      ]
    },
    {
      "cell_type": "code",
      "metadata": {
        "id": "1RbAp7uVW75r",
        "outputId": "25a57058-bfc0-42db-ba6f-57bd21127a14",
        "colab": {
          "base_uri": "https://localhost:8080/",
          "height": 35
        }
      },
      "source": [
        "awards[4][-3:]      # 1st [] is represent index and 2'nd [] is used to slice the input string."
      ],
      "execution_count": 41,
      "outputs": [
        {
          "output_type": "execute_result",
          "data": {
            "application/vnd.google.colaboratory.intrinsic+json": {
              "type": "string"
            },
            "text/plain": [
              "'mvp'"
            ]
          },
          "metadata": {},
          "execution_count": 41
        }
      ]
    },
    {
      "cell_type": "markdown",
      "metadata": {
        "id": "7ZMgB6DRW75t"
      },
      "source": [
        "5) `'edr'` from `personnel_files`"
      ]
    },
    {
      "cell_type": "code",
      "metadata": {
        "id": "S0LjtauVW75t",
        "outputId": "86801a66-99c0-4cb1-c3be-a9997033eda9",
        "colab": {
          "base_uri": "https://localhost:8080/",
          "height": 35
        }
      },
      "source": [
        "personnel_files[0]['town of residence'][1:4]    # personnel_files is list type object, storing dict type object. 1st [] is used to access the dictionary, 2nd[] is used to access the key and 3rd [] is used to access the sliced string stored mapped with the key."
      ],
      "execution_count": 42,
      "outputs": [
        {
          "output_type": "execute_result",
          "data": {
            "application/vnd.google.colaboratory.intrinsic+json": {
              "type": "string"
            },
            "text/plain": [
              "'edr'"
            ]
          },
          "metadata": {},
          "execution_count": 42
        }
      ]
    },
    {
      "cell_type": "markdown",
      "metadata": {
        "id": "VJQo1KOhW75w"
      },
      "source": [
        "  "
      ]
    }
  ]
}