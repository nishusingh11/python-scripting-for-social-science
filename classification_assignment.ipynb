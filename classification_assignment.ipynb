{
  "cells": [
    {
      "cell_type": "markdown",
      "metadata": {
        "id": "view-in-github",
        "colab_type": "text"
      },
      "source": [
        "<a href=\"https://colab.research.google.com/github/nishusingh11/python-scripting-for-social-science/blob/main/classification_assignment.ipynb\" target=\"_parent\"><img src=\"https://colab.research.google.com/assets/colab-badge.svg\" alt=\"Open In Colab\"/></a>"
      ]
    },
    {
      "cell_type": "markdown",
      "metadata": {
        "id": "5DeYXbqK-rRW"
      },
      "source": [
        "## Analyzing insults with Naive Bayes: pandas and sklearn"
      ]
    },
    {
      "cell_type": "code",
      "execution_count": null,
      "metadata": {
        "scrolled": true,
        "id": "MejilF82-rRZ"
      },
      "outputs": [],
      "source": [
        "import numpy as np\n",
        "import pandas as pd\n",
        "import sklearn\n",
        "from sklearn.model_selection import train_test_split\n",
        "from sklearn.model_selection import GridSearchCV as gs\n",
        "import sklearn.feature_extraction.text as text\n",
        "import sklearn.naive_bayes as nb\n",
        "import matplotlib.pyplot as plt\n",
        "from sklearn.metrics import precision_score, recall_score, accuracy_score\n",
        "%matplotlib inline"
      ]
    },
    {
      "cell_type": "markdown",
      "metadata": {
        "id": "qildTjvw-rRb"
      },
      "source": [
        "## Loading and preparing the data"
      ]
    },
    {
      "cell_type": "markdown",
      "metadata": {
        "id": "28jZSTW_-rRb"
      },
      "source": [
        "Let's open the CSV file with `pandas`."
      ]
    },
    {
      "cell_type": "code",
      "execution_count": null,
      "metadata": {
        "id": "MtGQlB1q-rRc"
      },
      "outputs": [],
      "source": [
        "import os.path\n",
        "site = 'https://gawron.sdsu.edu/python_for_ss/course_core/book_draft/_static/'\n",
        "df = pd.read_csv(os.path.join(site,\"troll.csv\"))"
      ]
    },
    {
      "cell_type": "markdown",
      "metadata": {
        "id": "M3ncLUYx-rRc"
      },
      "source": [
        "Each row is a comment  taken from a blog or online forum. There are three columns: whether the comment is insulting (1) or not (0), the data, and the unicode-encoded contents of the comment."
      ]
    },
    {
      "cell_type": "code",
      "execution_count": null,
      "metadata": {
        "id": "pFeNaW-m-rRd",
        "outputId": "a1c33c95-e1e9-4d2b-cd88-7e5e5c9e348e",
        "colab": {
          "base_uri": "https://localhost:8080/",
          "height": 206
        }
      },
      "outputs": [
        {
          "output_type": "execute_result",
          "data": {
            "text/plain": [
              "      Insult                                            Comment\n",
              "3942       1  \"you are both morons and that is never happening\"\n",
              "3943       0  \"Many toolbars include spell check, like Yahoo...\n",
              "3944       0  \"@LambeauOrWrigley\\xa0\\xa0@K.Moss\\xa0\\nSioux F...\n",
              "3945       0  \"How about Felix? He is sure turning into one ...\n",
              "3946       0  \"You're all upset, defending this hipster band..."
            ],
            "text/html": [
              "\n",
              "  <div id=\"df-85285f82-fccc-4dcf-8895-1c157d619914\">\n",
              "    <div class=\"colab-df-container\">\n",
              "      <div>\n",
              "<style scoped>\n",
              "    .dataframe tbody tr th:only-of-type {\n",
              "        vertical-align: middle;\n",
              "    }\n",
              "\n",
              "    .dataframe tbody tr th {\n",
              "        vertical-align: top;\n",
              "    }\n",
              "\n",
              "    .dataframe thead th {\n",
              "        text-align: right;\n",
              "    }\n",
              "</style>\n",
              "<table border=\"1\" class=\"dataframe\">\n",
              "  <thead>\n",
              "    <tr style=\"text-align: right;\">\n",
              "      <th></th>\n",
              "      <th>Insult</th>\n",
              "      <th>Comment</th>\n",
              "    </tr>\n",
              "  </thead>\n",
              "  <tbody>\n",
              "    <tr>\n",
              "      <th>3942</th>\n",
              "      <td>1</td>\n",
              "      <td>\"you are both morons and that is never happening\"</td>\n",
              "    </tr>\n",
              "    <tr>\n",
              "      <th>3943</th>\n",
              "      <td>0</td>\n",
              "      <td>\"Many toolbars include spell check, like Yahoo...</td>\n",
              "    </tr>\n",
              "    <tr>\n",
              "      <th>3944</th>\n",
              "      <td>0</td>\n",
              "      <td>\"@LambeauOrWrigley\\xa0\\xa0@K.Moss\\xa0\\nSioux F...</td>\n",
              "    </tr>\n",
              "    <tr>\n",
              "      <th>3945</th>\n",
              "      <td>0</td>\n",
              "      <td>\"How about Felix? He is sure turning into one ...</td>\n",
              "    </tr>\n",
              "    <tr>\n",
              "      <th>3946</th>\n",
              "      <td>0</td>\n",
              "      <td>\"You're all upset, defending this hipster band...</td>\n",
              "    </tr>\n",
              "  </tbody>\n",
              "</table>\n",
              "</div>\n",
              "      <button class=\"colab-df-convert\" onclick=\"convertToInteractive('df-85285f82-fccc-4dcf-8895-1c157d619914')\"\n",
              "              title=\"Convert this dataframe to an interactive table.\"\n",
              "              style=\"display:none;\">\n",
              "        \n",
              "  <svg xmlns=\"http://www.w3.org/2000/svg\" height=\"24px\"viewBox=\"0 0 24 24\"\n",
              "       width=\"24px\">\n",
              "    <path d=\"M0 0h24v24H0V0z\" fill=\"none\"/>\n",
              "    <path d=\"M18.56 5.44l.94 2.06.94-2.06 2.06-.94-2.06-.94-.94-2.06-.94 2.06-2.06.94zm-11 1L8.5 8.5l.94-2.06 2.06-.94-2.06-.94L8.5 2.5l-.94 2.06-2.06.94zm10 10l.94 2.06.94-2.06 2.06-.94-2.06-.94-.94-2.06-.94 2.06-2.06.94z\"/><path d=\"M17.41 7.96l-1.37-1.37c-.4-.4-.92-.59-1.43-.59-.52 0-1.04.2-1.43.59L10.3 9.45l-7.72 7.72c-.78.78-.78 2.05 0 2.83L4 21.41c.39.39.9.59 1.41.59.51 0 1.02-.2 1.41-.59l7.78-7.78 2.81-2.81c.8-.78.8-2.07 0-2.86zM5.41 20L4 18.59l7.72-7.72 1.47 1.35L5.41 20z\"/>\n",
              "  </svg>\n",
              "      </button>\n",
              "      \n",
              "  <style>\n",
              "    .colab-df-container {\n",
              "      display:flex;\n",
              "      flex-wrap:wrap;\n",
              "      gap: 12px;\n",
              "    }\n",
              "\n",
              "    .colab-df-convert {\n",
              "      background-color: #E8F0FE;\n",
              "      border: none;\n",
              "      border-radius: 50%;\n",
              "      cursor: pointer;\n",
              "      display: none;\n",
              "      fill: #1967D2;\n",
              "      height: 32px;\n",
              "      padding: 0 0 0 0;\n",
              "      width: 32px;\n",
              "    }\n",
              "\n",
              "    .colab-df-convert:hover {\n",
              "      background-color: #E2EBFA;\n",
              "      box-shadow: 0px 1px 2px rgba(60, 64, 67, 0.3), 0px 1px 3px 1px rgba(60, 64, 67, 0.15);\n",
              "      fill: #174EA6;\n",
              "    }\n",
              "\n",
              "    [theme=dark] .colab-df-convert {\n",
              "      background-color: #3B4455;\n",
              "      fill: #D2E3FC;\n",
              "    }\n",
              "\n",
              "    [theme=dark] .colab-df-convert:hover {\n",
              "      background-color: #434B5C;\n",
              "      box-shadow: 0px 1px 3px 1px rgba(0, 0, 0, 0.15);\n",
              "      filter: drop-shadow(0px 1px 2px rgba(0, 0, 0, 0.3));\n",
              "      fill: #FFFFFF;\n",
              "    }\n",
              "  </style>\n",
              "\n",
              "      <script>\n",
              "        const buttonEl =\n",
              "          document.querySelector('#df-85285f82-fccc-4dcf-8895-1c157d619914 button.colab-df-convert');\n",
              "        buttonEl.style.display =\n",
              "          google.colab.kernel.accessAllowed ? 'block' : 'none';\n",
              "\n",
              "        async function convertToInteractive(key) {\n",
              "          const element = document.querySelector('#df-85285f82-fccc-4dcf-8895-1c157d619914');\n",
              "          const dataTable =\n",
              "            await google.colab.kernel.invokeFunction('convertToInteractive',\n",
              "                                                     [key], {});\n",
              "          if (!dataTable) return;\n",
              "\n",
              "          const docLinkHtml = 'Like what you see? Visit the ' +\n",
              "            '<a target=\"_blank\" href=https://colab.research.google.com/notebooks/data_table.ipynb>data table notebook</a>'\n",
              "            + ' to learn more about interactive tables.';\n",
              "          element.innerHTML = '';\n",
              "          dataTable['output_type'] = 'display_data';\n",
              "          await google.colab.output.renderOutput(dataTable, element);\n",
              "          const docLink = document.createElement('div');\n",
              "          docLink.innerHTML = docLinkHtml;\n",
              "          element.appendChild(docLink);\n",
              "        }\n",
              "      </script>\n",
              "    </div>\n",
              "  </div>\n",
              "  "
            ]
          },
          "metadata": {},
          "execution_count": 4
        }
      ],
      "source": [
        "df[['Insult', 'Comment']].tail()"
      ]
    },
    {
      "cell_type": "markdown",
      "metadata": {
        "id": "7sEjygA0-rRe"
      },
      "source": [
        "Write a pandas command to give you just the insults."
      ]
    },
    {
      "cell_type": "code",
      "execution_count": null,
      "metadata": {
        "id": "b8QDhTRJ-rRe"
      },
      "outputs": [],
      "source": [
        "# Solution replaces df on the RHS\n",
        "insult_df = df[df['Insult'] ==1]"
      ]
    },
    {
      "cell_type": "code",
      "execution_count": null,
      "metadata": {
        "scrolled": true,
        "id": "9Mse4iGA-rRf",
        "outputId": "ddda11b5-0008-44af-ef67-ceb4b69a106f",
        "colab": {
          "base_uri": "https://localhost:8080/",
          "height": 833
        }
      },
      "outputs": [
        {
          "output_type": "execute_result",
          "data": {
            "text/plain": [
              "    Insult             Date                                            Comment\n",
              "0        1  20120618192155Z                               \"You fuck your dad.\"\n",
              "7        1              NaN  \"shut the fuck up. you and the rest of your fa...\n",
              "8        1  20120502173553Z  \"Either you are fake or extremely stupid...may...\n",
              "9        1  20120620160512Z  \"That you are an idiot who understands neither...\n",
              "15       1  20120611090207Z  \"FOR SOME REASON U SOUND RETARDED. LOL. DAMN. ...\n",
              "16       1  20120320162532Z  \"You with the 'racist' screen name\\n\\nYou are ...\n",
              "18       1  20120320075347Z                          \"your such a dickhead...\"\n",
              "19       1  20120320203947Z     \"Your a retard go post your head up your #%&*\"\n",
              "34       1  20120515132156Z  \"Allinit123, your\\xa0hypocrisy\\xa0is sickening...\n",
              "37       1  20120620161958Z  \"I can't believe the stupid people on this sit...\n",
              "38       1  20120609163743Z                   \"fucking behave then you prick!\"\n",
              "41       1  20120620075045Z  \"Is that it??  your sum total to any conversat...\n",
              "45       1  20120619074710Z                                           \"faggot\"\n",
              "47       1  20120529130844Z  \"Aimless Abe you are a delusion weirdo that sh...\n",
              "51       1  20120320131007Z      \"Even as a troll you are a pathetic failure.\"\n",
              "55       1  20120502173058Z       \"You're a moron, truth is beyond your reach\"\n",
              "59       1  20120619203151Z  \"Your anti-Semitic rants are not welcomed here...\n",
              "61       1  20120619033424Z     \"god, you're tiresome. get a life, you loser.\"\n",
              "79       1  20120619194023Z  \"Fact : Georgia passed a strict immigration po...\n",
              "80       1  20120530000452Z            \"Of course you would bottom feeder ...\"\n",
              "82       1  20120619162450Z  \"You are\\xa0 a fukin moron. \\xa0\\xa0 You are j...\n",
              "88       1  20120619171832Z  \"You are a fucking dumb ass!.  Go back to you ...\n",
              "93       1  20120502203704Z  \"Lets see your papers arealconservati.\\n\\nTill...\n",
              "95       1              NaN  \"Correction Bitch! You don't think it's superb...\n",
              "96       1  20120611215519Z  \"I think the only trickle that effected you wa..."
            ],
            "text/html": [
              "\n",
              "  <div id=\"df-ee4d5e30-9882-4727-9756-d859c7115024\">\n",
              "    <div class=\"colab-df-container\">\n",
              "      <div>\n",
              "<style scoped>\n",
              "    .dataframe tbody tr th:only-of-type {\n",
              "        vertical-align: middle;\n",
              "    }\n",
              "\n",
              "    .dataframe tbody tr th {\n",
              "        vertical-align: top;\n",
              "    }\n",
              "\n",
              "    .dataframe thead th {\n",
              "        text-align: right;\n",
              "    }\n",
              "</style>\n",
              "<table border=\"1\" class=\"dataframe\">\n",
              "  <thead>\n",
              "    <tr style=\"text-align: right;\">\n",
              "      <th></th>\n",
              "      <th>Insult</th>\n",
              "      <th>Date</th>\n",
              "      <th>Comment</th>\n",
              "    </tr>\n",
              "  </thead>\n",
              "  <tbody>\n",
              "    <tr>\n",
              "      <th>0</th>\n",
              "      <td>1</td>\n",
              "      <td>20120618192155Z</td>\n",
              "      <td>\"You fuck your dad.\"</td>\n",
              "    </tr>\n",
              "    <tr>\n",
              "      <th>7</th>\n",
              "      <td>1</td>\n",
              "      <td>NaN</td>\n",
              "      <td>\"shut the fuck up. you and the rest of your fa...</td>\n",
              "    </tr>\n",
              "    <tr>\n",
              "      <th>8</th>\n",
              "      <td>1</td>\n",
              "      <td>20120502173553Z</td>\n",
              "      <td>\"Either you are fake or extremely stupid...may...</td>\n",
              "    </tr>\n",
              "    <tr>\n",
              "      <th>9</th>\n",
              "      <td>1</td>\n",
              "      <td>20120620160512Z</td>\n",
              "      <td>\"That you are an idiot who understands neither...</td>\n",
              "    </tr>\n",
              "    <tr>\n",
              "      <th>15</th>\n",
              "      <td>1</td>\n",
              "      <td>20120611090207Z</td>\n",
              "      <td>\"FOR SOME REASON U SOUND RETARDED. LOL. DAMN. ...</td>\n",
              "    </tr>\n",
              "    <tr>\n",
              "      <th>16</th>\n",
              "      <td>1</td>\n",
              "      <td>20120320162532Z</td>\n",
              "      <td>\"You with the 'racist' screen name\\n\\nYou are ...</td>\n",
              "    </tr>\n",
              "    <tr>\n",
              "      <th>18</th>\n",
              "      <td>1</td>\n",
              "      <td>20120320075347Z</td>\n",
              "      <td>\"your such a dickhead...\"</td>\n",
              "    </tr>\n",
              "    <tr>\n",
              "      <th>19</th>\n",
              "      <td>1</td>\n",
              "      <td>20120320203947Z</td>\n",
              "      <td>\"Your a retard go post your head up your #%&amp;*\"</td>\n",
              "    </tr>\n",
              "    <tr>\n",
              "      <th>34</th>\n",
              "      <td>1</td>\n",
              "      <td>20120515132156Z</td>\n",
              "      <td>\"Allinit123, your\\xa0hypocrisy\\xa0is sickening...</td>\n",
              "    </tr>\n",
              "    <tr>\n",
              "      <th>37</th>\n",
              "      <td>1</td>\n",
              "      <td>20120620161958Z</td>\n",
              "      <td>\"I can't believe the stupid people on this sit...</td>\n",
              "    </tr>\n",
              "    <tr>\n",
              "      <th>38</th>\n",
              "      <td>1</td>\n",
              "      <td>20120609163743Z</td>\n",
              "      <td>\"fucking behave then you prick!\"</td>\n",
              "    </tr>\n",
              "    <tr>\n",
              "      <th>41</th>\n",
              "      <td>1</td>\n",
              "      <td>20120620075045Z</td>\n",
              "      <td>\"Is that it??  your sum total to any conversat...</td>\n",
              "    </tr>\n",
              "    <tr>\n",
              "      <th>45</th>\n",
              "      <td>1</td>\n",
              "      <td>20120619074710Z</td>\n",
              "      <td>\"faggot\"</td>\n",
              "    </tr>\n",
              "    <tr>\n",
              "      <th>47</th>\n",
              "      <td>1</td>\n",
              "      <td>20120529130844Z</td>\n",
              "      <td>\"Aimless Abe you are a delusion weirdo that sh...</td>\n",
              "    </tr>\n",
              "    <tr>\n",
              "      <th>51</th>\n",
              "      <td>1</td>\n",
              "      <td>20120320131007Z</td>\n",
              "      <td>\"Even as a troll you are a pathetic failure.\"</td>\n",
              "    </tr>\n",
              "    <tr>\n",
              "      <th>55</th>\n",
              "      <td>1</td>\n",
              "      <td>20120502173058Z</td>\n",
              "      <td>\"You're a moron, truth is beyond your reach\"</td>\n",
              "    </tr>\n",
              "    <tr>\n",
              "      <th>59</th>\n",
              "      <td>1</td>\n",
              "      <td>20120619203151Z</td>\n",
              "      <td>\"Your anti-Semitic rants are not welcomed here...</td>\n",
              "    </tr>\n",
              "    <tr>\n",
              "      <th>61</th>\n",
              "      <td>1</td>\n",
              "      <td>20120619033424Z</td>\n",
              "      <td>\"god, you're tiresome. get a life, you loser.\"</td>\n",
              "    </tr>\n",
              "    <tr>\n",
              "      <th>79</th>\n",
              "      <td>1</td>\n",
              "      <td>20120619194023Z</td>\n",
              "      <td>\"Fact : Georgia passed a strict immigration po...</td>\n",
              "    </tr>\n",
              "    <tr>\n",
              "      <th>80</th>\n",
              "      <td>1</td>\n",
              "      <td>20120530000452Z</td>\n",
              "      <td>\"Of course you would bottom feeder ...\"</td>\n",
              "    </tr>\n",
              "    <tr>\n",
              "      <th>82</th>\n",
              "      <td>1</td>\n",
              "      <td>20120619162450Z</td>\n",
              "      <td>\"You are\\xa0 a fukin moron. \\xa0\\xa0 You are j...</td>\n",
              "    </tr>\n",
              "    <tr>\n",
              "      <th>88</th>\n",
              "      <td>1</td>\n",
              "      <td>20120619171832Z</td>\n",
              "      <td>\"You are a fucking dumb ass!.  Go back to you ...</td>\n",
              "    </tr>\n",
              "    <tr>\n",
              "      <th>93</th>\n",
              "      <td>1</td>\n",
              "      <td>20120502203704Z</td>\n",
              "      <td>\"Lets see your papers arealconservati.\\n\\nTill...</td>\n",
              "    </tr>\n",
              "    <tr>\n",
              "      <th>95</th>\n",
              "      <td>1</td>\n",
              "      <td>NaN</td>\n",
              "      <td>\"Correction Bitch! You don't think it's superb...</td>\n",
              "    </tr>\n",
              "    <tr>\n",
              "      <th>96</th>\n",
              "      <td>1</td>\n",
              "      <td>20120611215519Z</td>\n",
              "      <td>\"I think the only trickle that effected you wa...</td>\n",
              "    </tr>\n",
              "  </tbody>\n",
              "</table>\n",
              "</div>\n",
              "      <button class=\"colab-df-convert\" onclick=\"convertToInteractive('df-ee4d5e30-9882-4727-9756-d859c7115024')\"\n",
              "              title=\"Convert this dataframe to an interactive table.\"\n",
              "              style=\"display:none;\">\n",
              "        \n",
              "  <svg xmlns=\"http://www.w3.org/2000/svg\" height=\"24px\"viewBox=\"0 0 24 24\"\n",
              "       width=\"24px\">\n",
              "    <path d=\"M0 0h24v24H0V0z\" fill=\"none\"/>\n",
              "    <path d=\"M18.56 5.44l.94 2.06.94-2.06 2.06-.94-2.06-.94-.94-2.06-.94 2.06-2.06.94zm-11 1L8.5 8.5l.94-2.06 2.06-.94-2.06-.94L8.5 2.5l-.94 2.06-2.06.94zm10 10l.94 2.06.94-2.06 2.06-.94-2.06-.94-.94-2.06-.94 2.06-2.06.94z\"/><path d=\"M17.41 7.96l-1.37-1.37c-.4-.4-.92-.59-1.43-.59-.52 0-1.04.2-1.43.59L10.3 9.45l-7.72 7.72c-.78.78-.78 2.05 0 2.83L4 21.41c.39.39.9.59 1.41.59.51 0 1.02-.2 1.41-.59l7.78-7.78 2.81-2.81c.8-.78.8-2.07 0-2.86zM5.41 20L4 18.59l7.72-7.72 1.47 1.35L5.41 20z\"/>\n",
              "  </svg>\n",
              "      </button>\n",
              "      \n",
              "  <style>\n",
              "    .colab-df-container {\n",
              "      display:flex;\n",
              "      flex-wrap:wrap;\n",
              "      gap: 12px;\n",
              "    }\n",
              "\n",
              "    .colab-df-convert {\n",
              "      background-color: #E8F0FE;\n",
              "      border: none;\n",
              "      border-radius: 50%;\n",
              "      cursor: pointer;\n",
              "      display: none;\n",
              "      fill: #1967D2;\n",
              "      height: 32px;\n",
              "      padding: 0 0 0 0;\n",
              "      width: 32px;\n",
              "    }\n",
              "\n",
              "    .colab-df-convert:hover {\n",
              "      background-color: #E2EBFA;\n",
              "      box-shadow: 0px 1px 2px rgba(60, 64, 67, 0.3), 0px 1px 3px 1px rgba(60, 64, 67, 0.15);\n",
              "      fill: #174EA6;\n",
              "    }\n",
              "\n",
              "    [theme=dark] .colab-df-convert {\n",
              "      background-color: #3B4455;\n",
              "      fill: #D2E3FC;\n",
              "    }\n",
              "\n",
              "    [theme=dark] .colab-df-convert:hover {\n",
              "      background-color: #434B5C;\n",
              "      box-shadow: 0px 1px 3px 1px rgba(0, 0, 0, 0.15);\n",
              "      filter: drop-shadow(0px 1px 2px rgba(0, 0, 0, 0.3));\n",
              "      fill: #FFFFFF;\n",
              "    }\n",
              "  </style>\n",
              "\n",
              "      <script>\n",
              "        const buttonEl =\n",
              "          document.querySelector('#df-ee4d5e30-9882-4727-9756-d859c7115024 button.colab-df-convert');\n",
              "        buttonEl.style.display =\n",
              "          google.colab.kernel.accessAllowed ? 'block' : 'none';\n",
              "\n",
              "        async function convertToInteractive(key) {\n",
              "          const element = document.querySelector('#df-ee4d5e30-9882-4727-9756-d859c7115024');\n",
              "          const dataTable =\n",
              "            await google.colab.kernel.invokeFunction('convertToInteractive',\n",
              "                                                     [key], {});\n",
              "          if (!dataTable) return;\n",
              "\n",
              "          const docLinkHtml = 'Like what you see? Visit the ' +\n",
              "            '<a target=\"_blank\" href=https://colab.research.google.com/notebooks/data_table.ipynb>data table notebook</a>'\n",
              "            + ' to learn more about interactive tables.';\n",
              "          element.innerHTML = '';\n",
              "          dataTable['output_type'] = 'display_data';\n",
              "          await google.colab.output.renderOutput(dataTable, element);\n",
              "          const docLink = document.createElement('div');\n",
              "          docLink.innerHTML = docLinkHtml;\n",
              "          element.appendChild(docLink);\n",
              "        }\n",
              "      </script>\n",
              "    </div>\n",
              "  </div>\n",
              "  "
            ]
          },
          "metadata": {},
          "execution_count": 6
        }
      ],
      "source": [
        "insult_df[:25]"
      ]
    },
    {
      "cell_type": "code",
      "execution_count": null,
      "metadata": {
        "id": "m8skwNYM-rRf",
        "outputId": "f320ed2f-6f25-42e1-9460-c36d46d388c9",
        "colab": {
          "base_uri": "https://localhost:8080/"
        }
      },
      "outputs": [
        {
          "output_type": "execute_result",
          "data": {
            "text/plain": [
              "79    \"Fact : Georgia passed a strict immigration po...\n",
              "80              \"Of course you would bottom feeder ...\"\n",
              "81    \"M\\xe1tenlos!!\\nhttp://1.bp.blogspot.com/-YVSZ...\n",
              "82    \"You are\\xa0 a fukin moron. \\xa0\\xa0 You are j...\n",
              "83    \"He is doing what any president doe's on this ...\n",
              "84    \"...yeah, and you're a f'ing expert.....go bac...\n",
              "Name: Comment, dtype: object"
            ]
          },
          "metadata": {},
          "execution_count": 7
        }
      ],
      "source": [
        "df['Comment'][79:85]"
      ]
    },
    {
      "cell_type": "code",
      "execution_count": null,
      "metadata": {
        "id": "uPevaZIm-rRg",
        "outputId": "facf8c78-3946-4730-cc34-2f62d0f32910",
        "colab": {
          "base_uri": "https://localhost:8080/",
          "height": 70
        }
      },
      "outputs": [
        {
          "output_type": "execute_result",
          "data": {
            "text/plain": [
              "'\"Fact : Georgia passed a strict immigration policy and most of the Latino farm workers left the area. Vidalia Georgia now has over 3000 agriculture job openings and they have been able to fill about 250 of them in past year. All you White Real Americans who are looking for work that the Latinos stole from you..Where are you ? The jobs are i Vadalia just waiting for you..Or maybe its the fact that you would rather collect unemployment like the rest of the Tea Klaners.. You scream..you complain..and you sit at home in your wife beaters and drink beer..Typical Real White Tea Klan....\"'"
            ],
            "application/vnd.google.colaboratory.intrinsic+json": {
              "type": "string"
            }
          },
          "metadata": {},
          "execution_count": 8
        }
      ],
      "source": [
        "df['Comment'][79]"
      ]
    },
    {
      "cell_type": "markdown",
      "metadata": {
        "id": "LDqCa2aZ-rRg"
      },
      "source": [
        "NB:  `insult_df` is **not** modified by the following sort."
      ]
    },
    {
      "cell_type": "code",
      "source": [
        "insult_df = df"
      ],
      "metadata": {
        "id": "g5VCWd2g-8iS"
      },
      "execution_count": null,
      "outputs": []
    },
    {
      "cell_type": "code",
      "execution_count": null,
      "metadata": {
        "id": "6AWuiuBO-rRg",
        "outputId": "59b101ae-363d-4be6-f0a7-8a4e0647a25e",
        "colab": {
          "base_uri": "https://localhost:8080/"
        }
      },
      "outputs": [
        {
          "output_type": "execute_result",
          "data": {
            "text/plain": [
              "2004    17805\n",
              "3416    10716\n",
              "1305     4769\n",
              "3068     4312\n",
              "3208     4016\n",
              "        ...  \n",
              "3919        8\n",
              "755         8\n",
              "45          8\n",
              "2937        6\n",
              "3112        6\n",
              "Name: Size, Length: 3947, dtype: int64"
            ]
          },
          "metadata": {},
          "execution_count": 11
        }
      ],
      "source": [
        "insult_df['Size'] = df['Comment'].apply(len)\n",
        "insult_df['Size'].sort_values(ascending = False)"
      ]
    },
    {
      "cell_type": "markdown",
      "metadata": {
        "id": "Ibxc3U3K-rRh"
      },
      "source": [
        "Now we define the feature matrix $\\mathbf{X}$ and the labels $\\mathbf{y}$."
      ]
    },
    {
      "cell_type": "code",
      "execution_count": null,
      "metadata": {
        "id": "wty7pj42-rRh",
        "outputId": "2b8c6074-f858-4847-c585-a45ee3a16237",
        "colab": {
          "base_uri": "https://localhost:8080/"
        }
      },
      "outputs": [
        {
          "output_type": "execute_result",
          "data": {
            "text/plain": [
              "703"
            ]
          },
          "metadata": {},
          "execution_count": 12
        }
      ],
      "source": [
        "len(insult_df.loc[3208]['Comment'].split())"
      ]
    },
    {
      "cell_type": "code",
      "execution_count": null,
      "metadata": {
        "id": "I_PkM5-Y-rRh",
        "outputId": "7dedb521-f42d-4e0a-d440-42ace4aac0ce",
        "colab": {
          "base_uri": "https://localhost:8080/"
        }
      },
      "outputs": [
        {
          "output_type": "execute_result",
          "data": {
            "text/plain": [
              "Insult                   1\n",
              "Date       20120620121441Z\n",
              "Comment           \"Retard\"\n",
              "Size                     8\n",
              "Name: 755, dtype: object"
            ]
          },
          "metadata": {},
          "execution_count": 13
        }
      ],
      "source": [
        "insult_df.loc[755]"
      ]
    },
    {
      "cell_type": "code",
      "execution_count": null,
      "metadata": {
        "id": "Tata-Y2o-rRh",
        "outputId": "09dca9dc-4170-4a3c-f619-7cb106196ce7",
        "colab": {
          "base_uri": "https://localhost:8080/"
        }
      },
      "outputs": [
        {
          "output_type": "execute_result",
          "data": {
            "text/plain": [
              "Insult                   1\n",
              "Date       20120619074710Z\n",
              "Comment           \"faggot\"\n",
              "Size                     8\n",
              "Name: 45, dtype: object"
            ]
          },
          "metadata": {},
          "execution_count": 14
        }
      ],
      "source": [
        "insult_df.loc[45]"
      ]
    },
    {
      "cell_type": "code",
      "execution_count": null,
      "metadata": {
        "id": "-8xJstOo-rRi"
      },
      "outputs": [],
      "source": [
        "y = df['Insult']"
      ]
    },
    {
      "cell_type": "markdown",
      "metadata": {
        "id": "-jPBwaTr-rRi"
      },
      "source": [
        "We want to use one of the linear classifiers in `sklearn`,\n",
        "bit the learners in `sklearn` only work with numerical arrays. How to convert text into a matrix of numbers?\n",
        "As discussed in lecture and in our text,\n",
        "obtaining the feature matrix from the text is not trivial. "
      ]
    },
    {
      "cell_type": "markdown",
      "metadata": {
        "id": "DSvV0ToN-rRi"
      },
      "source": [
        "The classical solution is to first extract a **vocabulary**: a list of words used throughout the corpus. Then, we can count, for each document in the sample, the frequency of each word. We end up with a **sparse matrix**: a huge matrix containing mostly zeros. Here, `sklearn` and `pandas` make it possible to do this in two lines. "
      ]
    },
    {
      "cell_type": "code",
      "execution_count": null,
      "metadata": {
        "id": "Rk9HaGLJ-rRk",
        "outputId": "2ba3a7a1-b0a8-48a5-a133-2ff7152ba849",
        "colab": {
          "base_uri": "https://localhost:8080/"
        }
      },
      "outputs": [
        {
          "output_type": "stream",
          "name": "stdout",
          "text": [
            "Convert a collection of raw documents to a matrix of TF-IDF features.\n",
            "\n",
            "    Equivalent to :class:`CountVectorizer` followed by\n",
            "    :class:`TfidfTransformer`.\n",
            "\n",
            "    Read more in the :ref:`User Guide <text_feature_extraction>`.\n",
            "\n",
            "    Parameters\n",
            "    ----------\n",
            "    input : {'filename', 'file', 'content'}, default='content'\n",
            "        - If `'filename'`, the sequence passed as an argument to fit is\n",
            "          expected to be a list of filenames that need reading to fetch\n",
            "          the raw content to analyze.\n",
            "\n",
            "        - If `'file'`, the sequence items must have a 'read' method (file-like\n",
            "          object) that is called to fetch the bytes in memory.\n",
            "\n",
            "        - If `'content'`, the input is expected to be a sequence of items that\n",
            "          can be of type string or byte.\n",
            "\n",
            "    encoding : str, default='utf-8'\n",
            "        If bytes or files are given to analyze, this encoding is used to\n",
            "        decode.\n",
            "\n",
            "    decode_error : {'strict', 'ignore', 'replace'}, default='strict'\n",
            "        Instruction on what to do if a byte sequence is given to analyze that\n",
            "        contains characters not of the given `encoding`. By default, it is\n",
            "        'strict', meaning that a UnicodeDecodeError will be raised. Other\n",
            "        values are 'ignore' and 'replace'.\n",
            "\n",
            "    strip_accents : {'ascii', 'unicode'}, default=None\n",
            "        Remove accents and perform other character normalization\n",
            "        during the preprocessing step.\n",
            "        'ascii' is a fast method that only works on characters that have\n",
            "        an direct ASCII mapping.\n",
            "        'unicode' is a slightly slower method that works on any characters.\n",
            "        None (default) does nothing.\n",
            "\n",
            "        Both 'ascii' and 'unicode' use NFKD normalization from\n",
            "        :func:`unicodedata.normalize`.\n",
            "\n",
            "    lowercase : bool, default=True\n",
            "        Convert all characters to lowercase before tokenizing.\n",
            "\n",
            "    preprocessor : callable, default=None\n",
            "        Override the preprocessing (string transformation) stage while\n",
            "        preserving the tokenizing and n-grams generation steps.\n",
            "        Only applies if ``analyzer`` is not callable.\n",
            "\n",
            "    tokenizer : callable, default=None\n",
            "        Override the string tokenization step while preserving the\n",
            "        preprocessing and n-grams generation steps.\n",
            "        Only applies if ``analyzer == 'word'``.\n",
            "\n",
            "    analyzer : {'word', 'char', 'char_wb'} or callable, default='word'\n",
            "        Whether the feature should be made of word or character n-grams.\n",
            "        Option 'char_wb' creates character n-grams only from text inside\n",
            "        word boundaries; n-grams at the edges of words are padded with space.\n",
            "\n",
            "        If a callable is passed it is used to extract the sequence of features\n",
            "        out of the raw, unprocessed input.\n",
            "\n",
            "        .. versionchanged:: 0.21\n",
            "            Since v0.21, if ``input`` is ``'filename'`` or ``'file'``, the data\n",
            "            is first read from the file and then passed to the given callable\n",
            "            analyzer.\n",
            "\n",
            "    stop_words : {'english'}, list, default=None\n",
            "        If a string, it is passed to _check_stop_list and the appropriate stop\n",
            "        list is returned. 'english' is currently the only supported string\n",
            "        value.\n",
            "        There are several known issues with 'english' and you should\n",
            "        consider an alternative (see :ref:`stop_words`).\n",
            "\n",
            "        If a list, that list is assumed to contain stop words, all of which\n",
            "        will be removed from the resulting tokens.\n",
            "        Only applies if ``analyzer == 'word'``.\n",
            "\n",
            "        If None, no stop words will be used. max_df can be set to a value\n",
            "        in the range [0.7, 1.0) to automatically detect and filter stop\n",
            "        words based on intra corpus document frequency of terms.\n",
            "\n",
            "    token_pattern : str, default=r\"(?u)\\\\b\\\\w\\\\w+\\\\b\"\n",
            "        Regular expression denoting what constitutes a \"token\", only used\n",
            "        if ``analyzer == 'word'``. The default regexp selects tokens of 2\n",
            "        or more alphanumeric characters (punctuation is completely ignored\n",
            "        and always treated as a token separator).\n",
            "\n",
            "        If there is a capturing group in token_pattern then the\n",
            "        captured group content, not the entire match, becomes the token.\n",
            "        At most one capturing group is permitted.\n",
            "\n",
            "    ngram_range : tuple (min_n, max_n), default=(1, 1)\n",
            "        The lower and upper boundary of the range of n-values for different\n",
            "        n-grams to be extracted. All values of n such that min_n <= n <= max_n\n",
            "        will be used. For example an ``ngram_range`` of ``(1, 1)`` means only\n",
            "        unigrams, ``(1, 2)`` means unigrams and bigrams, and ``(2, 2)`` means\n",
            "        only bigrams.\n",
            "        Only applies if ``analyzer`` is not callable.\n",
            "\n",
            "    max_df : float or int, default=1.0\n",
            "        When building the vocabulary ignore terms that have a document\n",
            "        frequency strictly higher than the given threshold (corpus-specific\n",
            "        stop words).\n",
            "        If float in range [0.0, 1.0], the parameter represents a proportion of\n",
            "        documents, integer absolute counts.\n",
            "        This parameter is ignored if vocabulary is not None.\n",
            "\n",
            "    min_df : float or int, default=1\n",
            "        When building the vocabulary ignore terms that have a document\n",
            "        frequency strictly lower than the given threshold. This value is also\n",
            "        called cut-off in the literature.\n",
            "        If float in range of [0.0, 1.0], the parameter represents a proportion\n",
            "        of documents, integer absolute counts.\n",
            "        This parameter is ignored if vocabulary is not None.\n",
            "\n",
            "    max_features : int, default=None\n",
            "        If not None, build a vocabulary that only consider the top\n",
            "        max_features ordered by term frequency across the corpus.\n",
            "\n",
            "        This parameter is ignored if vocabulary is not None.\n",
            "\n",
            "    vocabulary : Mapping or iterable, default=None\n",
            "        Either a Mapping (e.g., a dict) where keys are terms and values are\n",
            "        indices in the feature matrix, or an iterable over terms. If not\n",
            "        given, a vocabulary is determined from the input documents.\n",
            "\n",
            "    binary : bool, default=False\n",
            "        If True, all non-zero term counts are set to 1. This does not mean\n",
            "        outputs will have only 0/1 values, only that the tf term in tf-idf\n",
            "        is binary. (Set idf and normalization to False to get 0/1 outputs).\n",
            "\n",
            "    dtype : dtype, default=float64\n",
            "        Type of the matrix returned by fit_transform() or transform().\n",
            "\n",
            "    norm : {'l1', 'l2'}, default='l2'\n",
            "        Each output row will have unit norm, either:\n",
            "\n",
            "        - 'l2': Sum of squares of vector elements is 1. The cosine\n",
            "          similarity between two vectors is their dot product when l2 norm has\n",
            "          been applied.\n",
            "        - 'l1': Sum of absolute values of vector elements is 1.\n",
            "          See :func:`preprocessing.normalize`.\n",
            "\n",
            "    use_idf : bool, default=True\n",
            "        Enable inverse-document-frequency reweighting. If False, idf(t) = 1.\n",
            "\n",
            "    smooth_idf : bool, default=True\n",
            "        Smooth idf weights by adding one to document frequencies, as if an\n",
            "        extra document was seen containing every term in the collection\n",
            "        exactly once. Prevents zero divisions.\n",
            "\n",
            "    sublinear_tf : bool, default=False\n",
            "        Apply sublinear tf scaling, i.e. replace tf with 1 + log(tf).\n",
            "\n",
            "    Attributes\n",
            "    ----------\n",
            "    vocabulary_ : dict\n",
            "        A mapping of terms to feature indices.\n",
            "\n",
            "    fixed_vocabulary_ : bool\n",
            "        True if a fixed vocabulary of term to indices mapping\n",
            "        is provided by the user.\n",
            "\n",
            "    idf_ : array of shape (n_features,)\n",
            "        The inverse document frequency (IDF) vector; only defined\n",
            "        if ``use_idf`` is True.\n",
            "\n",
            "    stop_words_ : set\n",
            "        Terms that were ignored because they either:\n",
            "\n",
            "          - occurred in too many documents (`max_df`)\n",
            "          - occurred in too few documents (`min_df`)\n",
            "          - were cut off by feature selection (`max_features`).\n",
            "\n",
            "        This is only available if no vocabulary was given.\n",
            "\n",
            "    See Also\n",
            "    --------\n",
            "    CountVectorizer : Transforms text into a sparse matrix of n-gram counts.\n",
            "\n",
            "    TfidfTransformer : Performs the TF-IDF transformation from a provided\n",
            "        matrix of counts.\n",
            "\n",
            "    Notes\n",
            "    -----\n",
            "    The ``stop_words_`` attribute can get large and increase the model size\n",
            "    when pickling. This attribute is provided only for introspection and can\n",
            "    be safely removed using delattr or set to None before pickling.\n",
            "\n",
            "    Examples\n",
            "    --------\n",
            "    >>> from sklearn.feature_extraction.text import TfidfVectorizer\n",
            "    >>> corpus = [\n",
            "    ...     'This is the first document.',\n",
            "    ...     'This document is the second document.',\n",
            "    ...     'And this is the third one.',\n",
            "    ...     'Is this the first document?',\n",
            "    ... ]\n",
            "    >>> vectorizer = TfidfVectorizer()\n",
            "    >>> X = vectorizer.fit_transform(corpus)\n",
            "    >>> vectorizer.get_feature_names_out()\n",
            "    array(['and', 'document', 'first', 'is', 'one', 'second', 'the', 'third',\n",
            "           'this'], ...)\n",
            "    >>> print(X.shape)\n",
            "    (4, 9)\n",
            "    \n"
          ]
        }
      ],
      "source": [
        "print(text.TfidfVectorizer.__doc__)"
      ]
    },
    {
      "cell_type": "code",
      "execution_count": null,
      "metadata": {
        "id": "H-fPVjYV-rRl"
      },
      "outputs": [],
      "source": [
        "tf = text.TfidfVectorizer()\n",
        "X = tf.fit_transform(df['Comment'])\n"
      ]
    },
    {
      "cell_type": "code",
      "source": [
        "X.shape"
      ],
      "metadata": {
        "id": "xUihdpHIgA7e",
        "outputId": "7aa04341-a366-407e-9086-f5109a91428f",
        "colab": {
          "base_uri": "https://localhost:8080/"
        }
      },
      "execution_count": null,
      "outputs": [
        {
          "output_type": "execute_result",
          "data": {
            "text/plain": [
              "(3947, 16469)"
            ]
          },
          "metadata": {},
          "execution_count": 18
        }
      ]
    },
    {
      "cell_type": "code",
      "source": [
        "y.shape"
      ],
      "metadata": {
        "colab": {
          "base_uri": "https://localhost:8080/"
        },
        "id": "KovCx989pa92",
        "outputId": "e850fdf4-7ebc-476d-909b-975f7c5ec6f8"
      },
      "execution_count": null,
      "outputs": [
        {
          "output_type": "execute_result",
          "data": {
            "text/plain": [
              "(3947,)"
            ]
          },
          "metadata": {},
          "execution_count": 78
        }
      ]
    },
    {
      "cell_type": "markdown",
      "metadata": {
        "id": "pKgEXAZV-rRl"
      },
      "source": [
        "\n",
        "The TFIDF vectorizer uses a simple formula to assign a significance score to the\n",
        "count of each vocabulary item in each document. Our TFIDF matrix is stored in `X`.\n",
        "\n",
        "Say a word occurs n times in a document.\n",
        "TFIDF is a very popular measure of the significance of that fact\n",
        "first proven to be useful in\n",
        "document retrieval.  It has some competitors in classification, but\n",
        "we have used it here mainly because it's the easiest **feature weighting scheme**\n",
        "to use in `sklearn`."
      ]
    },
    {
      "cell_type": "code",
      "execution_count": null,
      "metadata": {
        "id": "4p8xlL7b-rRl",
        "outputId": "fb367e8c-309f-49cb-95a2-2852d6d08ce2",
        "colab": {
          "base_uri": "https://localhost:8080/"
        }
      },
      "outputs": [
        {
          "output_type": "stream",
          "name": "stdout",
          "text": [
            "Shape: (3,947 x 16,469)  Non-zero entries: 100,269\n"
          ]
        }
      ],
      "source": [
        "# Shape and Number of non zero entries\n",
        "print(f'Shape: ({X.shape[0]:,} x {X.shape[1]:,})  Non-zero entries: {X.nnz:,}')"
      ]
    },
    {
      "cell_type": "markdown",
      "metadata": {
        "id": "wfUbNDjt-rRm"
      },
      "source": [
        "There are 3,947 comments and 16,469 different words. Let's estimate the sparsity of this feature matrix."
      ]
    },
    {
      "cell_type": "code",
      "execution_count": null,
      "metadata": {
        "id": "7o8Oa6JP-rRm",
        "outputId": "10020b96-5620-447d-e00f-6662d77df489",
        "colab": {
          "base_uri": "https://localhost:8080/"
        }
      },
      "outputs": [
        {
          "output_type": "stream",
          "name": "stdout",
          "text": [
            "The document matrix X is ~0.15% non-zero features.\n"
          ]
        }
      ],
      "source": [
        "print((\"The document matrix X is ~{0:.2%} non-zero features.\".format(\n",
        "          X.nnz / float(X.shape[0] * X.shape[1]))))"
      ]
    },
    {
      "cell_type": "markdown",
      "metadata": {
        "id": "d4dXO87k-rRm"
      },
      "source": [
        "A `TdidfVectorizer` instance stores its `decode` dictionary in the attribute `vocabulary_` (note\n",
        "the trailing underscore!):"
      ]
    },
    {
      "cell_type": "code",
      "execution_count": null,
      "metadata": {
        "id": "_4DfZgRC-rRm",
        "outputId": "520ef693-a1ff-4f4e-eec2-a67f2d3e1724",
        "colab": {
          "base_uri": "https://localhost:8080/"
        }
      },
      "outputs": [
        {
          "output_type": "execute_result",
          "data": {
            "text/plain": [
              "8704"
            ]
          },
          "metadata": {},
          "execution_count": 21
        }
      ],
      "source": [
        "tf.vocabulary_['moron']"
      ]
    },
    {
      "cell_type": "markdown",
      "metadata": {
        "id": "21HEUruW-rRm"
      },
      "source": [
        "The `sklearn` module stores many of its internally computed arrays as **sparse matrices**.  This is basically a \n",
        "very clever computer science device for not wasting all the space that very sparse matrices \n",
        "waste.  Natural language representations are often **quite** sparse.  The .15% non zero features\n",
        "firgure we just looked at was typical.  Sparse matrices come at a cost, however; although some\n",
        "computations can be done while the matrix is in sparse form, some cannot, and to do those\n",
        "you have to convert the matrix to a nonsparse matrix, do what you need to do, and then, probably,\n",
        "convert it back.  This is costly.  We're going to do it now, but only because we're goofing\n",
        "around. Conversion to non-sparse format should in general be avoided whenever possible."
      ]
    },
    {
      "cell_type": "code",
      "execution_count": null,
      "metadata": {
        "id": "s501JX4y-rRn"
      },
      "outputs": [],
      "source": [
        "XA = X.toarray()"
      ]
    },
    {
      "cell_type": "markdown",
      "metadata": {
        "id": "UlqPV8sk-rRn"
      },
      "source": [
        "Consider Tweet 3942:"
      ]
    },
    {
      "cell_type": "code",
      "execution_count": null,
      "metadata": {
        "id": "ozDJxuBt-rRn",
        "outputId": "f62feda5-d4ce-46ab-c783-52fe4540f2f7",
        "colab": {
          "base_uri": "https://localhost:8080/",
          "height": 35
        }
      },
      "outputs": [
        {
          "output_type": "execute_result",
          "data": {
            "text/plain": [
              "'\"you are both morons and that is never happening\"'"
            ],
            "application/vnd.google.colaboratory.intrinsic+json": {
              "type": "string"
            }
          },
          "metadata": {},
          "execution_count": 23
        }
      ],
      "source": [
        "insult_df.loc[3942]['Comment']"
      ]
    },
    {
      "cell_type": "markdown",
      "metadata": {
        "id": "83msbB2F-rRn"
      },
      "source": [
        "Ok, now we can check the TFIDF matrix for the statistic for `'moron'` in this tweet:"
      ]
    },
    {
      "cell_type": "code",
      "execution_count": null,
      "metadata": {
        "id": "pkOJ8G5l-rRn",
        "outputId": "a3b1ebbf-eb8d-4867-cd99-b0150b2a717d",
        "colab": {
          "base_uri": "https://localhost:8080/"
        }
      },
      "outputs": [
        {
          "output_type": "execute_result",
          "data": {
            "text/plain": [
              "0.0"
            ]
          },
          "metadata": {},
          "execution_count": 24
        }
      ],
      "source": [
        "XA[3942][8704]"
      ]
    },
    {
      "cell_type": "markdown",
      "metadata": {
        "id": "dwJGxnst-rRn"
      },
      "source": [
        "Oh, maybe we didn't learn that:"
      ]
    },
    {
      "cell_type": "code",
      "execution_count": null,
      "metadata": {
        "id": "ObsyKu1n-rRo",
        "outputId": "5e52fc87-dba9-42cb-fd23-1d84b8d87781",
        "colab": {
          "base_uri": "https://localhost:8080/"
        }
      },
      "outputs": [
        {
          "output_type": "execute_result",
          "data": {
            "text/plain": [
              "8707"
            ]
          },
          "metadata": {},
          "execution_count": 25
        }
      ],
      "source": [
        "tf.vocabulary_['morons']"
      ]
    },
    {
      "cell_type": "markdown",
      "metadata": {
        "id": "gmLm4OTm-rRo"
      },
      "source": [
        "Totally different word, found at a totally different place in XA:"
      ]
    },
    {
      "cell_type": "code",
      "execution_count": null,
      "metadata": {
        "id": "vKxndHoW-rRo",
        "outputId": "b006cbae-3c9e-4ac5-fa35-39224e2c2a47",
        "colab": {
          "base_uri": "https://localhost:8080/"
        }
      },
      "outputs": [
        {
          "output_type": "execute_result",
          "data": {
            "text/plain": [
              "0.5139224706716653"
            ]
          },
          "metadata": {},
          "execution_count": 26
        }
      ],
      "source": [
        "XA[3942][8707]"
      ]
    },
    {
      "cell_type": "markdown",
      "metadata": {
        "id": "k0wp6RbS-rRo"
      },
      "source": [
        "## Training"
      ]
    },
    {
      "cell_type": "markdown",
      "metadata": {
        "id": "88mG_1C0-rRo"
      },
      "source": [
        "Now, we are going to train a classifier as usual. We first split the data into a train and test set."
      ]
    },
    {
      "cell_type": "code",
      "execution_count": null,
      "metadata": {
        "id": "la2tlDoC-rRo"
      },
      "outputs": [],
      "source": [
        "X_train,X_test, y_train,y_test = train_test_split(X,y)"
      ]
    },
    {
      "cell_type": "code",
      "source": [
        "y_test.shape"
      ],
      "metadata": {
        "colab": {
          "base_uri": "https://localhost:8080/"
        },
        "id": "Yu5EC3qkzU8b",
        "outputId": "dbbd51ea-47d1-4ded-ff2e-536e50b03f3b"
      },
      "execution_count": null,
      "outputs": [
        {
          "output_type": "execute_result",
          "data": {
            "text/plain": [
              "(987,)"
            ]
          },
          "metadata": {},
          "execution_count": 28
        }
      ]
    },
    {
      "cell_type": "markdown",
      "metadata": {
        "id": "Xf-3XQDN-rRo"
      },
      "source": [
        "We use a **Bernoulli Naive Bayes classifier**."
      ]
    },
    {
      "cell_type": "code",
      "execution_count": null,
      "metadata": {
        "id": "uj7vvTS--rRo"
      },
      "outputs": [],
      "source": [
        "bnb =nb.BernoulliNB()\n",
        "\n",
        "bnb.fit(X_train, y_train);"
      ]
    },
    {
      "cell_type": "code",
      "execution_count": null,
      "metadata": {
        "id": "rewbP2vT-rRp",
        "outputId": "81f27e7b-65aa-41e7-cb92-c5c1b806b2b8",
        "colab": {
          "base_uri": "https://localhost:8080/"
        }
      },
      "outputs": [
        {
          "output_type": "execute_result",
          "data": {
            "text/plain": [
              "0.7213779128672746"
            ]
          },
          "metadata": {},
          "execution_count": 92
        }
      ],
      "source": [
        "bnb.score(X_test, y_test)"
      ]
    },
    {
      "cell_type": "markdown",
      "metadata": {
        "id": "p38bf79W-rRp"
      },
      "source": [
        "Now try re-executing the previous three cells.  The results shoudl be the same, right?\n",
        "\n",
        "Well, are they?  \n",
        "\n",
        "Ok, re-execute the same three cells again.  Now one more time.  Now try the following\n",
        "piece of code:"
      ]
    },
    {
      "cell_type": "markdown",
      "source": [
        "#### Basic train and test loop"
      ],
      "metadata": {
        "id": "r-bt36GeMpFW"
      }
    },
    {
      "cell_type": "code",
      "execution_count": null,
      "metadata": {
        "id": "hwsayH6F-rRp",
        "outputId": "634a2485-a62f-498b-a460-080320cc7384",
        "colab": {
          "base_uri": "https://localhost:8080/"
        }
      },
      "outputs": [
        {
          "output_type": "stream",
          "name": "stdout",
          "text": [
            "0.7354430379746836\n",
            "0.7556962025316456\n",
            "0.7455696202531645\n",
            "0.740506329113924\n",
            "0.740506329113924\n",
            "0.7278481012658228\n",
            "0.7379746835443038\n",
            "0.7734177215189874\n",
            "0.7443037974683544\n",
            "0.7481012658227848\n"
          ]
        }
      ],
      "source": [
        "def split_and_fit(X,Y,test_size=.2):\n",
        "    (X_train, X_test,\n",
        "       y_train, y_test) = train_test_split(X, y,\n",
        "                                         test_size=test_size)\n",
        "    bnb = nb.BernoulliNB()\n",
        "    return bnb.fit(X_train, y_train),X_train, X_test, y_train,y_test\n",
        "\n",
        "num_runs = 10\n",
        "for test_run in range(num_runs):\n",
        "    clf, X_train, X_test, y_train,y_test = split_and_fit(X,y)\n",
        "    print('{0}'.format(clf.score(X_test, y_test)))"
      ]
    },
    {
      "cell_type": "markdown",
      "metadata": {
        "id": "PdxesQwr-rRp"
      },
      "source": [
        "What's happening?  How should we deal this with this when we report our evaluations?\n",
        "\n",
        "Explain the purpose of the code in the next cell."
      ]
    },
    {
      "cell_type": "markdown",
      "source": [
        "Ans:\n",
        "\n",
        "Every time splitted data producing different accuracy. So it is better to split the data multiple times and calculate the average of accuracy for for more accurate result."
      ],
      "metadata": {
        "id": "TM_GOYos5ssy"
      }
    },
    {
      "cell_type": "markdown",
      "source": [
        "#### Refined train and test loop"
      ],
      "metadata": {
        "id": "R2SjpCsKMvfh"
      }
    },
    {
      "cell_type": "code",
      "execution_count": null,
      "metadata": {
        "id": "r3HVmOUb-rRp",
        "outputId": "7c4fb888-324c-4bf1-a845-57dc4b945b3e",
        "colab": {
          "base_uri": "https://localhost:8080/"
        }
      },
      "outputs": [
        {
          "output_type": "stream",
          "name": "stdout",
          "text": [
            "Accuracy 0.75\n",
            "Precision 0.16\n",
            "Recall 0.61\n",
            "Pct Insults 0.26\n"
          ]
        }
      ],
      "source": [
        "num_runs = 100\n",
        "#a_total = 0\n",
        "#p_total = 0\n",
        "#r_total = 0\n",
        "#insults_total = 0\n",
        "\n",
        "stats = np.zeros((4,))\n",
        "for test_run in range(num_runs):\n",
        "    clf, X_train, X_test, y_train,y_test = split_and_fit(X,y)\n",
        "    #score = clf.score(X_test, y_test)\n",
        "    predicted = clf.predict(X_test)\n",
        "    y_array = y_test.values\n",
        "    prop_insults = y_array.sum()/len(y_array)\n",
        "    stats = stats + np.array([clf.score(X_test, y_test),\n",
        "                              precision_score(predicted, y_test),\n",
        "                              recall_score(predicted, y_test),\n",
        "                              prop_insults])\n",
        "    #p_score = precision_score(predicted, y_test)\n",
        "    #r_score = recall_score(predicted, y_test)\n",
        "    #a_total += score\n",
        "    #p_total += p_score\n",
        "    #r_total += r_score\n",
        "    #insults_total += prop_insults\n",
        "normed_stats = stats/num_runs\n",
        "labels = ['Accuracy','Precision','Recall','Pct Insults']\n",
        "for (i,s) in enumerate(normed_stats):\n",
        "    print(f'{labels[i]} {s:.2f}')\n",
        "#print('Accuracy {:.2%}'.format(a_total/num_runs))\n",
        "#print('Precision {:.2%}'.format(p_total/num_runs))\n",
        "#print('Recall {:.2%}'.format(r_total/num_runs))\n",
        "#print('Avg Pct Insults {:.2%}'.format(insults_total/num_runs))"
      ]
    },
    {
      "cell_type": "markdown",
      "metadata": {
        "id": "cvxe-F1n-rRp"
      },
      "source": [
        "Let's take a look at the words corresponding to the largest coefficients (the words we find frequently in insulting comments)."
      ]
    },
    {
      "cell_type": "code",
      "execution_count": null,
      "metadata": {
        "id": "sH4qNRcD-rRq",
        "outputId": "b4ad438e-854c-488f-95ca-32e93f270f8e"
      },
      "outputs": [
        {
          "data": {
            "text/plain": [
              "['__abstractmethods__',\n",
              " '__class__',\n",
              " '__delattr__',\n",
              " '__dict__',\n",
              " '__dir__',\n",
              " '__doc__',\n",
              " '__eq__',\n",
              " '__format__',\n",
              " '__ge__',\n",
              " '__getattribute__',\n",
              " '__getstate__',\n",
              " '__gt__',\n",
              " '__hash__',\n",
              " '__init__',\n",
              " '__init_subclass__',\n",
              " '__le__',\n",
              " '__lt__',\n",
              " '__module__',\n",
              " '__ne__',\n",
              " '__new__',\n",
              " '__reduce__',\n",
              " '__reduce_ex__',\n",
              " '__repr__',\n",
              " '__setattr__',\n",
              " '__setstate__',\n",
              " '__sizeof__',\n",
              " '__str__',\n",
              " '__subclasshook__',\n",
              " '__weakref__',\n",
              " '_abc_impl',\n",
              " '_check_X',\n",
              " '_check_X_y',\n",
              " '_check_alpha',\n",
              " '_check_n_features',\n",
              " '_count',\n",
              " '_estimator_type',\n",
              " '_get_param_names',\n",
              " '_get_tags',\n",
              " '_init_counters',\n",
              " '_joint_log_likelihood',\n",
              " '_more_tags',\n",
              " '_repr_html_',\n",
              " '_repr_html_inner',\n",
              " '_repr_mimebundle_',\n",
              " '_update_class_log_prior',\n",
              " '_update_feature_log_prob',\n",
              " '_validate_data',\n",
              " 'alpha',\n",
              " 'binarize',\n",
              " 'class_count_',\n",
              " 'class_log_prior_',\n",
              " 'class_prior',\n",
              " 'classes_',\n",
              " 'coef_',\n",
              " 'feature_count_',\n",
              " 'feature_log_prob_',\n",
              " 'fit',\n",
              " 'fit_prior',\n",
              " 'get_params',\n",
              " 'intercept_',\n",
              " 'n_features_',\n",
              " 'n_features_in_',\n",
              " 'partial_fit',\n",
              " 'predict',\n",
              " 'predict_log_proba',\n",
              " 'predict_proba',\n",
              " 'score',\n",
              " 'set_params']"
            ]
          },
          "execution_count": 40,
          "metadata": {},
          "output_type": "execute_result"
        }
      ],
      "source": [
        "dir(bnb)"
      ]
    },
    {
      "cell_type": "code",
      "execution_count": null,
      "metadata": {
        "id": "KhhtIfMM-rRq",
        "outputId": "3904c505-6a7c-41dd-fead-de21ca4f129a"
      },
      "outputs": [
        {
          "data": {
            "text/plain": [
              "(2, 16469)"
            ]
          },
          "execution_count": 42,
          "metadata": {},
          "output_type": "execute_result"
        }
      ],
      "source": [
        "bnb.feature_count_.shape"
      ]
    },
    {
      "cell_type": "code",
      "execution_count": null,
      "metadata": {
        "id": "YbVBZK00-rRq",
        "outputId": "90adbf13-6407-4ea2-d47d-7caafad82f9a",
        "colab": {
          "base_uri": "https://localhost:8080/"
        }
      },
      "outputs": [
        {
          "output_type": "stream",
          "name": "stdout",
          "text": [
            "(16469,)\n",
            "you,your,are,the,to,and,of,that,is,it,in,like,have,on,for,re,not,just,so,an,xa0,idiot,this,up,all,go,fuck,what,with,get,do,be,no,don,but,can,or,if,ass,as,stupid,bitch,about,know,me,because,who,little,my,out\n"
          ]
        },
        {
          "output_type": "stream",
          "name": "stderr",
          "text": [
            "/usr/local/lib/python3.7/dist-packages/sklearn/utils/deprecation.py:87: FutureWarning: Function get_feature_names is deprecated; get_feature_names is deprecated in 1.0 and will be removed in 1.2. Please use get_feature_names_out instead.\n",
            "  warnings.warn(msg, category=FutureWarning)\n",
            "/usr/local/lib/python3.7/dist-packages/sklearn/utils/deprecation.py:103: FutureWarning: Attribute `coef_` was deprecated in version 0.24 and will be removed in 1.1 (renaming of 0.26).\n",
            "  warnings.warn(msg, category=FutureWarning)\n"
          ]
        }
      ],
      "source": [
        "# We first get the words corresponding to each feature.\n",
        "names = np.asarray(tf.get_feature_names())\n",
        "# Next, we display the 50 words with the largest\n",
        "# coefficients.\n",
        "# NB Wajnt to switch over to using bnb.feature_count_.shape[0]\n",
        "coefficient_matrix = bnb.coef_[0,:]\n",
        "print(coefficient_matrix.shape)\n",
        "# Sorting gives us smallest first, we reverse the order and take top 50\n",
        "top_fifty_feat_indices = np.argsort(coefficient_matrix)[::-1][:50]\n",
        "print((','.join(names[top_fifty_feat_indices])))"
      ]
    },
    {
      "cell_type": "markdown",
      "metadata": {
        "id": "X0th-hPo-rRq"
      },
      "source": [
        "Finally, let's test our estimator on a few test sentences.\n"
      ]
    },
    {
      "cell_type": "code",
      "execution_count": null,
      "metadata": {
        "id": "9PkNvp0m-rRq",
        "outputId": "2249a37b-87aa-4d3e-b995-461a40af89c4",
        "colab": {
          "base_uri": "https://localhost:8080/"
        }
      },
      "outputs": [
        {
          "output_type": "stream",
          "name": "stdout",
          "text": [
            "[0 0 0]\n"
          ]
        }
      ],
      "source": [
        "predicted = bnb.predict(tf.transform([\n",
        "    \"I totally agree with you.\",\n",
        "    \"You are so stupid.\",\n",
        "    \"I love you.\"\n",
        "    ]))\n",
        "\n",
        "print(predicted)"
      ]
    },
    {
      "cell_type": "code",
      "execution_count": null,
      "metadata": {
        "id": "45IEP284-rRr",
        "outputId": "8c2af7c5-3368-410a-e41d-3e5e6cba05c9"
      },
      "outputs": [
        {
          "name": "stdout",
          "output_type": "stream",
          "text": [
            "[0 0 0]\n",
            "1768    0\n",
            "2378    0\n",
            "350     1\n",
            "Name: Insult, dtype: int64\n"
          ]
        }
      ],
      "source": [
        "print(predicted)\n",
        "print(y_test[:3])"
      ]
    },
    {
      "cell_type": "markdown",
      "metadata": {
        "id": "HoYRjj7n-rRr"
      },
      "source": [
        "Not real impressive.  The word *stupid* was not recognized as an insult."
      ]
    },
    {
      "cell_type": "markdown",
      "metadata": {
        "id": "PD0NyUZm-rRr"
      },
      "source": [
        "> You'll find all the explanations, figures, references, and much more in the book (to be released later this summer).\n",
        "\n",
        "> [IPython Cookbook](http://ipython-books.github.io/), by [Cyrille Rossant](http://cyrille.rossant.net), Packt Publishing, 2014 (500 pages)."
      ]
    },
    {
      "cell_type": "code",
      "execution_count": null,
      "metadata": {
        "id": "nYQikcgv-rRr",
        "outputId": "cb5278de-0a7d-4c67-8a6a-8a1a9805c703"
      },
      "outputs": [
        {
          "name": "stdout",
          "output_type": "stream",
          "text": [
            "[0 0 0]\n"
          ]
        }
      ],
      "source": [
        "print((bnb.predict(tf.transform([ \"I totally agree with you.\", \"You are so stupid.\", \"I love you.\" ]))))"
      ]
    },
    {
      "cell_type": "markdown",
      "metadata": {
        "collapsed": true,
        "id": "zaE0KDK5-rRr"
      },
      "source": [
        "## Homework"
      ]
    },
    {
      "cell_type": "markdown",
      "metadata": {
        "id": "Fg50G61U-rRr"
      },
      "source": [
        "Read the on line book draft chapter about doing the movie review data,\n",
        "and try the clasifier used there, an SVM, on this data.  Be sure\n",
        "top stick with the scikit learn (it has an SVM implementation).\n",
        "\n",
        "Show your code, and print out results.  Which classifier does better?"
      ]
    },
    {
      "cell_type": "markdown",
      "source": [
        ""
      ],
      "metadata": {
        "id": "OFiJ959X5B3-"
      }
    },
    {
      "cell_type": "markdown",
      "source": [
        "#### Help with getting the movie reviews data.\n",
        "\n",
        "Execute the next two cells."
      ],
      "metadata": {
        "id": "Z_wazBGWTsS4"
      }
    },
    {
      "cell_type": "code",
      "source": [
        "import numpy as np\n",
        "import pandas as pd\n",
        "import sklearn\n",
        "from sklearn.model_selection import train_test_split\n",
        "from sklearn.model_selection import GridSearchCV as gs\n",
        "import sklearn.feature_extraction.text as text\n",
        "import sklearn.naive_bayes as nb\n",
        "import matplotlib.pyplot as plt\n",
        "from sklearn.metrics import precision_score, recall_score, accuracy_score\n",
        "%matplotlib inline"
      ],
      "metadata": {
        "id": "HjrJLahb7cgL"
      },
      "execution_count": null,
      "outputs": []
    },
    {
      "cell_type": "code",
      "execution_count": null,
      "metadata": {
        "collapsed": true,
        "id": "xvlkaI1x-rRr",
        "colab": {
          "base_uri": "https://localhost:8080/"
        },
        "outputId": "f7ec849c-a4c4-47ce-e997-bb1ff0072ce0"
      },
      "outputs": [
        {
          "output_type": "stream",
          "name": "stdout",
          "text": [
            "[nltk_data] Downloading package movie_reviews to /root/nltk_data...\n",
            "[nltk_data]   Package movie_reviews is already up-to-date!\n"
          ]
        },
        {
          "output_type": "execute_result",
          "data": {
            "text/plain": [
              "True"
            ]
          },
          "metadata": {},
          "execution_count": 8
        }
      ],
      "source": [
        "import nltk\n",
        "nltk.download('movie_reviews')"
      ]
    },
    {
      "cell_type": "code",
      "source": [
        "# Given\n",
        "from nltk.corpus import movie_reviews as mr\n",
        "\n",
        "def get_file_strings (corpus, file_ids):\n",
        "    return [corpus.raw(file_id) for file_id in file_ids]\n",
        "\n",
        "data = dict(pos = mr.fileids('pos'),\n",
        "            neg = mr.fileids('neg'))\n",
        "\n",
        "pos_file_ids = data['pos']\n",
        "neg_file_ids = data['neg']\n",
        "\n",
        "pos_file_ids[:5]"
      ],
      "metadata": {
        "colab": {
          "base_uri": "https://localhost:8080/"
        },
        "id": "8nQdcr4aH_dP",
        "outputId": "e554030d-77f2-4e98-e929-9d681c62454f"
      },
      "execution_count": null,
      "outputs": [
        {
          "output_type": "execute_result",
          "data": {
            "text/plain": [
              "['pos/cv000_29590.txt',\n",
              " 'pos/cv001_18431.txt',\n",
              " 'pos/cv002_15918.txt',\n",
              " 'pos/cv003_11664.txt',\n",
              " 'pos/cv004_11636.txt']"
            ]
          },
          "metadata": {},
          "execution_count": 9
        }
      ]
    },
    {
      "cell_type": "markdown",
      "source": [
        "This illustrates how to get all the positive reviews."
      ],
      "metadata": {
        "id": "U6BWtGUNT5_b"
      }
    },
    {
      "cell_type": "code",
      "source": [
        "# Given\n",
        "# Storing positive reviews and negative reviews\n",
        "pos_file_reviews = get_file_strings (mr, pos_file_ids)\n",
        "neg_file_reviews = get_file_strings (mr, neg_file_ids)\n"
      ],
      "metadata": {
        "id": "nDg_8NcmI77o"
      },
      "execution_count": null,
      "outputs": []
    },
    {
      "cell_type": "code",
      "source": [
        "# Given\n",
        "# Testing\n",
        "# First 20 words of first positive review\n",
        "print(pos_file_reviews[0][:20])\n",
        "print()\n",
        "# First 20 words of second positive review\n",
        "print(pos_file_reviews[1][:20])\n"
      ],
      "metadata": {
        "colab": {
          "base_uri": "https://localhost:8080/"
        },
        "id": "diRDvugvJOCp",
        "outputId": "4efc071c-777b-42c6-f060-a666faca5a49"
      },
      "execution_count": null,
      "outputs": [
        {
          "output_type": "stream",
          "name": "stdout",
          "text": [
            "films adapted from c\n",
            "\n",
            "every now and then a\n"
          ]
        }
      ]
    },
    {
      "cell_type": "code",
      "source": [
        "# Testing\n",
        "tf = text.TfidfVectorizer()\n",
        "X = tf.fit_transform(pos_file_reviews)"
      ],
      "metadata": {
        "id": "cMoaCLnGJZwM"
      },
      "execution_count": null,
      "outputs": []
    },
    {
      "cell_type": "markdown",
      "source": [
        "After executing the code above, the names `pos_file_reviews` and `neg_file_reviews` each contain a list of reviews.  Each review is a list of words.  A list of word lists like `pos_file_reviews`  can be passed to `text.TfidfVectorizer()` via the `fit_transform` method to train a vectorizer for machine learning.\n",
        "\n",
        "Just remember when testing the trained vectorizer use\n",
        "`transform` in place of `fit_transform`.\n",
        "\n",
        "What you will need to do to train the classifier (call it `clf`) is pass the matrix of vectorized training data\n",
        "(you will call `X`) to `clf`'s\n",
        "`fit(...)` method, along with an aligned sequence\n",
        "of labels `y`.  By saying the two sequences are aligned, I mean this:  `X[i][:]` is the vector representation for a review that has the class \n",
        "`y[i]`.\n",
        "\n",
        "The steps  are\n",
        "\n",
        "1.  Create training data: a sequence of reviews (the code above did this) and an aligned sequence of review labels(each label is either `pos` or `neg`)  The training sequence should be a balanced mix of positive and negative reviews.\n",
        "\n",
        "2.  Same procedure to create test data. Use 9 times as many training documents as test documnts (1000 positive reviews  + 1000 negative reviews means 1800 training examples and 200 test examples).\n",
        "\n",
        "3.  Train and test the models multiple times and take the averege precision. recall and accuracy scores as the measure of your model's performance. The cells above labeled **Training and Test loops** illustrate this step.\n",
        "\n",
        "\n",
        "The code cell below illustrates one way of \n",
        "getting randomly mixed data with\n",
        "aligned labels (steps 1 and 2)\n",
        "\n",
        "#### Help with steps 1 and 2"
      ],
      "metadata": {
        "id": "_PY6_uHMJvqC"
      }
    },
    {
      "cell_type": "code",
      "source": [
        "# Given\n",
        "# Testing\n",
        "# Lets work on letters instead of documents\n",
        "# There are 2 classes, letters from the first half of the\n",
        "# alphabet ('f') and letters frmm the last half ('l')\n",
        "\n",
        "from random import shuffle\n",
        "from string import ascii_lowercase\n",
        "f_lets = ascii_lowercase[:13]\n",
        "print(f_lets)\n",
        "l_lets = ascii_lowercase[13:]\n",
        "print(l_lets)\n",
        "f_pairs = [(let,'f') for let in f_lets]\n",
        "l_pairs = [(let,'l') for let in l_lets]\n",
        "# Way too orderly, the classes arent mixed yet.\n",
        "data = f_pairs + l_pairs\n",
        "shuffle(data)\n",
        "prepared_data, prepared_labels = zip(*data)\n",
        "print(prepared_data)\n",
        "print(prepared_labels)"
      ],
      "metadata": {
        "colab": {
          "base_uri": "https://localhost:8080/"
        },
        "id": "ZCdgmoToRV8z",
        "outputId": "1e6990e9-dd72-4b38-b8bc-2622973f9224"
      },
      "execution_count": null,
      "outputs": [
        {
          "output_type": "stream",
          "name": "stdout",
          "text": [
            "abcdefghijklm\n",
            "nopqrstuvwxyz\n",
            "('j', 'n', 'm', 'k', 'z', 't', 'a', 'i', 'v', 'y', 'c', 'r', 'o', 's', 'w', 'd', 'l', 'b', 'f', 'x', 'e', 'u', 'q', 'h', 'p', 'g')\n",
            "('f', 'l', 'f', 'f', 'l', 'l', 'f', 'f', 'l', 'l', 'f', 'l', 'l', 'l', 'l', 'f', 'f', 'f', 'f', 'l', 'f', 'l', 'l', 'f', 'l', 'f')\n"
          ]
        }
      ]
    },
    {
      "cell_type": "code",
      "source": [
        "# Homework\n",
        "from random import shuffle                                # using shuffle module\n",
        "pos_pair = [(i,'pos') for i in pos_file_reviews]          # Mapping positive reviews with label 'pos'.           \n",
        "neg_pair = [(i,'neg') for i in neg_file_reviews]          # Mapping negative reviews with lable 'neg'.\n",
        "all_data = pos_pair + neg_pair                            # Storing posiive and negative pair in all_data variable.\n",
        "\n",
        "shuffle(all_data)                                         # Shuffling the all_data using shuffle function.\n",
        "input, output = zip(*all_data)                            # Segregating input and output data\n"
      ],
      "metadata": {
        "id": "UAD4HFssNihO"
      },
      "execution_count": null,
      "outputs": []
    },
    {
      "cell_type": "code",
      "source": [
        "# Testing\n",
        "\n",
        "print(input[:20])\n",
        "print(output[:20])"
      ],
      "metadata": {
        "colab": {
          "base_uri": "https://localhost:8080/"
        },
        "id": "rOc2XSUmn_aV",
        "outputId": "dcacd472-3b7c-4284-877e-9319f9be2c70"
      },
      "execution_count": null,
      "outputs": [
        {
          "output_type": "stream",
          "name": "stdout",
          "text": [
            "('you know something , christmas is not about presents . \\nit\\'s about over-hyped holiday films with lots of merchandising and product tie-ins . \\nat least that would seem to be the message of \" the grinch , \" which has been advertised since last christmas and whose logo is currently plastered all over stores . \\nhollywood expects us to ignore this cynical greed as the movie scolds us about losing the true spirit of the season . \\nyou know the plot : there\\'s this evil furry green guy called the grinch ( jim carrey ) who lives on a mountain overlooking whoville . \\ndown below all the whos are preparing for their whobilation , but the grinch is determined to steal their christmas . \\nthe movie is , of course , a live-action version of the beloved children\\'s book , which was previously adapted into a 1966 tv special by looney tunes animator chuck jones . \\nit\\'s rare that a big budget hollywood release is shamed by a thirty-year-old half-hour cartoon , but that\\'s the case when jones\\' version is compared to ron howard\\'s . \\nthe tv grinch hit all the right notes : boris karloff\\'s soft , deep narration ; thurl ravenscroft singing \" mr . grinch \" ; max the dog weighed down by the gigantic antler tied to his head ; and the grinch\\'s wide , toothless grin . \\nby contrast , the movie hits one sour note after another . \\nfirst , there are the numerous bad choices that jeffrey price and peter seaman made in padding out the short book into a 105-minute movie . \\nyoung wide-eyed cindy lou who ( taylor momsen ) is depressed about the misplaced priorities of her parents ( bill irwin and molly shannon ) during the holiday season . \\nshe begins to sympathize with the grinch , who turns out to be surprisingly sympathetic . \\ncindy lou discovers that the grinch turned tearfully away from whoville in grammar school when he was publicly humiliated while expressing his love for the prettiest girl in the class , martha may whovier ( played as an adult by christine baranski ) . \\nare we expected to like the grinch , hate the whos , and want him to steal christmas ? \\nthe grinch isn\\'t even the villain here ; that role is filled by the corrupt mayor of whoville ( jeffrey tambor ) who was the grinch\\'s rival for martha\\'s affection . \\nnot only are the characters needlessly complex , but the once-simple plot becomes so convoluted that the actual theft of christmas seems like an afterthought . \\nthe casting choices aren\\'t any better than the screenwriting decisions . \\njim carrey seems woefully miscast . \\nwhile his face is so supple that the rubber make-up seems superfluous , carrey brings nothing else to the role . \\nhis accent keeps changing ; i assume he was shooting for karloff , but he ends up sounding like a weird slurry of richard nixon , sean connery , and cartman from \" south park . \" \\nnot knowing what else to do during his many scenes alone in the grinch\\'s home , carrey falls back on his stand-up comedy and clowns around ace ventura-style . \\nneedless to say , his wise-cracking antics don\\'t quite fit the character of the grinch , who is an embittered loner filled with hate . \\nlittle taylor momsen brings little to role of cindy lou except big eyes and a cute smile . \\nshe would have been fine if cindy lou was limited to her original purpose in the seuss story ( finding \" santa \" in her living room stealing the tree ) . \\nhowever , the expanded script makes cindy as important as the grinch , and momsen is not up to the challenge . \\nbottom line : when you\\'re stealing christmas ( movies ) , leave this one behind . \\n', 'sick : the life and death of bob flanagan , supermasochist \\nby fernando vallejo \\nstarring bob flanagan and sheree rose . \\ninterviews by kathe burkhart , kirby dick and rita valencia . \\nproduced and directed by kirby dick . \\nrunning time : 90 mins . \\nthis film is not rated . \\nthe central themes of \" sick : the life and death of bob flanagan , supermasochist \" are pain and love , and its subsequent effect on a person\\'s life . \\nits protagonist , bob flanagan , who died at the age of 52 , suffered from cystic fibrosis , a mortal disease which debilitates the lungs by saturating them with thick coats of mucus , preventing him from normal breathing . \\nthe movie is about much more than recouperating ( or attempting to ) from this disease . \\nan audacious , fabulously triumphant docudrama , \" sick \" chronicles the life of flanagan and his vicious , unthinkable acts of sadomasochism conducted with his mistress of 15 years , sheree rose , who amazingly provided much of the footage for the film . \\nflanagan\\'s idelogy crosses the realms of rebelliousness and becomes transcendental , similar to terry zwigoff\\'s brilliant 1994 \" crumb \" , which also explored the dysfunction of an artist by painting not a sympathetic portrait , but a realistic one . \\nboth crumb and flanagan revelled in their defects . \\nbut flanagan was not only a man content on enduring the pain via lungs , he inflicted acts of pain on himself at a very young age , courageously defying god ( he was an irish catholic ) and turning his body into a work of art , which he unraveled in museums and lectures . \\nbehold these works of physical art . \\namong them is a metal ball inserted inside his anus , and , --the most disturbing scene of the decade-- , nailing his penis to a board . \\nflanagan was a man of great intelligence , wit and humor , as well as adopting a sense of candidness scarcely seen in modern filmmaking . \\nnot only did he approach his disease with humor , peforming burlesque acts in front of an audience , he was also revitalized by his approachment . \\nmost with cystic fibrosis do not make it past their earlier twenties ( there\\'s also a subplot involving a female devotee who knew death was awaiting her . \\n ) \\nbut the most outstanding thing about \" sick \" is flanagan\\'s relationship with sheree . \\nbrimming with honesty , sensual stimulation and unapologetically sad moments of pain , their powerful bond lifts \" sick \" into a rare cinematic high , where we forget we are in an auditorium and become a part of these people . \\nthe last scene , where we see the hero murmuring the last words to his wife in a hospital bed , as he struggles for his last moments of life , is raw , tender , hideous . \\nit goes a step beyond cinematic intimacy . \\n', 'the previews for the movie are pretty good . \\nthey show a little plot , all the characters , and the emotional highlights , all spliced together to give a general impression of the script . \\nunfortunately , the full movie adds nothing but 115 minutes . \\nthe residents of mystery love hockey . \\nmystery and hockey go together like texas and high school football . \\nthe townsfolk love hockey so much that they even acquit a player who\\'s guilty of shooting another man ( yes , that\\'s one of the movie\\'s jokes . ) \\nevery saturday , the best players pair off for a game , and the whole town comes to watch . \\nthe town\\'s prodigal son charlie ( hank azaria ) wrote an article on the weekly game for sports illustrated . \\nmystery\\'s national fame has the town abuzz . \\na week later , charlie actually shows up in person , and he brings with him an offer from the nhl . \\nthe new york rangers will come to mystery to play the locals . \\nthe mysterians see this as both good and bad . \\non the one hand , they\\'d love to have the fame and the money of such an exhibition . \\non the other hand , they don\\'t want to turn up as the butt of leno and letterman jokes . \\nthe movie follows a handful of lives that are affected by the proposition . \\nbiebe ( russell crowe ) has just been retired from the team and is asked to coach the boys , including his new replacement . \\nhe\\'s already resentful , and to top it off charlie has been making eyes at his wife . \\ncrowe is not given a lot of room to act in this film , so he\\'s just kind of stuck with constantly brooding . \\ncharlie , meanwhile , is resentful of having born in a town where hockey is the only measure of a man\\'s worth . \\nhis \" gift \" of the feature story , and of the new york rangers , was his way of compensating for not being a better skater . \\nhe hoped it would earn him some respect and merit , but the townspeople find reasons to continue disliking him . \\nburt reynolds could have been interesting as walter , the judge whose courtroom was befouled by a moronic jury of hockey fans . \\nwalter actually has some experience with collegiate hockey , but he actively tries to put it behind him . \\nhe wants his son to take the game more seriously , but he wants his community to just get over it . \\nreynolds could have been good , but sloppy writing and/or editing keep walter in the corner , and so reynolds never really gets to pull his performance all together . \\none character actually was interesting . \\nbiebe\\'s wife ( mary mccormack ) , like the judge , understood that there was more to life than hockey . \\nbut unlike him she has come to accept the skewed view of the community . \\nshe chose the town and her husband with her eyes wide open . \\nher unique insight is verbalized once , and it lasts only a scene before it is gone , but her performance carries the hint of some deeper wisdom . \\nmysterty , alaska follows a handful of other characters , but none are well developed or worth mentioning . \\nthe biggest problem with this movie is that there is no real heart to the story , no underlying thing that the movie is really about . \\ninstead , roach and screenwriters david e . kelley and sean o\\'byrne try to cram the entire human condition into this sports comedy . \\nthey try to make you laugh and cry , to feel outrage and pride . \\nthey present the framing and cadence for jokes , but there\\'s nothing truly funny . \\nthey show appropriately staged scenes of sadness , but they give you nothing to be really sad about . \\nas columnist molly ivins would say , it\\'s all hat , no cattle . \\nthe perfect opportunity arises for roach to say what this movie is really about . \\nthere is a funeral scene , played with appropriate gravity and somber music . \\nit is a chance for the characters to reflect on their lives and decide what\\'s truly important . \\nrussell crowe steps forward to speak , about to spell out the movie\\'s metaphor for us . \\nhe says that what really matters in life is \" community . . . . \" \\nthen adds \" and hockey . \" \\ni guess these mysterians really are as shallow as they appear . \\nonly mildly bad , mystery , alaska probably deserves 2 stars . \\ni even laughed out loud , genuine laughs in places . \\nbut i docked it an extra half star when mike myers , a friend of roach , turned up in a role that didn\\'t suit him . \\nmyers is a comic character actor . \\nhe puts on masks , becomes an outrageous caricature , and is funny . \\nhe\\'s great as austin powers , dr . evil , or any of his scottish characters . \\nnobody else in mysterty , alaska is a comic caricature . \\nall the other people have the feel of dramatic characters in semi-serious roles . \\nfor roach to bring in myers for a few cheap laughs shows incredible contempt toward the rest of his cast , toward his audience , and indeed toward the film itself . \\nit\\'s an acknowledgment by the director that the film is not worth taking seriously . \\n', 'we\\'re back in blade runner territory with this one , conceptual artist robert longo\\'s vision of a william gibson-inspired future where information is the commodity to kill for . \\nfront and center is johnny ( keanu reeves ) , a \" cyber-courier \" who smuggles data via a \" wet-wired \" implant . \\nhe\\'s ready to quit the biz and get a portion of his long-term memory restored , but , first , he has to finish one last , dangerous job . . \\nthe pressing problem in johnny mnemonic is that keanu reeves seems to have forgotten how to play an action hero since his stint on speed . \\nhe\\'s walking wood in a forest of stiffs that includes henry rollins , ice-t , and dina meyer . \\n ( dolph lundgren\\'s street preacher is in an acting category all its own . \\n : - ) without a believable performance between them , all we can do is sit back and watch the atmosphere , which is pretty good in places . \\nthe vr sequences are way cool , but the physical fx--such as miniatures and mattes--leave a lot to be desired . \\nwatch out for those bad blue-screens ! \\nwe wouldn\\'t mind a minute of johnny mnemonic if the action played better . \\ntoo bad the debut director isn\\'t very strong in this de- partment . \\nhis big finale is a sloppy , silly mess that runs twenty minutes too long , which is way past the time that most of our \" wet- wired \" processors have already shut down . \\nbottom line : yatf ( yet another tortured future ) . \\nskip it . \\n', ' \" practical magic , \" is a film that is so misguided in so many ways that it makes you wonder how such talented and high-profile actors would even get involved in an embarrassing clap-trap like this one . \\nthe film stars sandra bullock and nicole kidman as sally and gillian owens , two sisters whose family comes from a long line of witches , spanning back 200 years . \\nat the start , their parents die when they are still children , and they go to live with their two zany aunts ( stockard channing and dianne wiest ) . \\nswitch to the present day , gillian , who is the stronger , more rebellious sibling , leaves home , and meets up with a dark , abusive guy ( goran visjnic ) , while sally stays in their hometown , meets and falls in love with a sweet , caring man , has two children , and then is devastated when her husband is hit by a truck and killed ( come to think of it , she\\'s not too devastated since she gets over it in about two minutes ) . \\nwhen gillian calls sally to come get her after having another abusive spat with visjnic , they accidentally murder him , and in desperation , bury the body in the backyard of their aunts\\' house . \\nadd to this wildly convoluted story subplots involving the dead rising and an exorcism , not to mention a spattering of \" light-hearted whimsy , \" and you have a pretty good idea how messy \" practical magic \" is . \\nafter seeing the film , i reflected that there was not even one scene , or element , that i liked or enjoyed . \\nit is a comedy , to be sure , but all of the humor falls astoundingly flat , and the occasional dramatic moments are the least bit touching . \\nit is not charming or entertaining in any way . \\nand then to top it off , we\\'ve got this dark , but bird-brained story of an evil spirit taking over gillian\\'s body . \\nwhatever . \\nthe characters are handled terribly , and actually , most of the actors do not have the fortune of even getting to be what you could call a character . \\nthere is no reason why channing and wiest should have decided to be in this film , and in every scene involving them , they are always standing side-by-side . \\nno attempt is made to flesh them out into actual people . \\nthe same goes for aidan quinn , as a handsome police investigator , who has the misfortune of being the romantic lead opposite bullock , even though he comes into it at around the 70-minute mark , and once again , there is no attempt to develop their relationship , or his character , in any way . \\nin fact , every line of dialogue in the film is in service of moving the plot along , rather than getting to know the people saying the lines . \\ni should have know i was headed for trouble during the opening credits , when i found out the screenplay was written by the deeply hated akiva goldsman , who managed to destroy the \" batman \" series with \" batman forever \" and \" batman and robin . \" \\n \" practical magic \" is directed by griffin dunne , primarily an actor , who last year made the contrived , clumsy romance , \" addicted to love , \" with meg ryan and matthew broderick . \\ni disliked that movie quite a bit , but since \" practical magic \" is even worse , that can only give you a taste of what a talentless filmmaker he is . \\ni\\'d tell him to quit while he\\'s ahead , but in these last two years , he\\'s ultimately already buried himself . \\n', \"good films are hard to find these days . \\ngreat films are beyond rare . \\nproof of life , russell crowe's one-two punch of a deft kidnap and rescue thriller , is one of those rare gems . \\na taut drama laced with strong and subtle acting , an intelligent script , and masterful directing , together it delivers something virtually unheard of in the film industry these days , genuine motivation in a story that rings true . \\nconsider the strange coincidence of russell crowe's character in proof of life making the moves on a distraught wife played by meg ryan's character in the film -- all while the real russell crowe was hitching up with married woman meg ryan in the outside world . \\ni haven't seen this much chemistry between actors since mcqueen and mcgraw teamed up in peckinpah's masterpiece , the getaway . \\nbut enough with the gossip , let's get to the review . \\nthe film revolves around the kidnapping of peter bowman ( david morse ) , an american engineer working in south america who is kidnapped during a mass ambush of civilians by anti-government soldiers . \\nupon discovering his identity , the rebel soldiers decide to ransom him for $6 million . \\nthe only problem is that the company peter bowman works for is being auctioned off , and no one will step forward with the money . \\nwith no choice available to her , bowman's wife alice ( ryan ) hires terry thorne ( crowe ) , a highly skilled negotiator and rescue operative , to arrange the return of her husband . \\nbut when things go wrong -- as they always do in these situations -- terry and his team ( which includes the most surprising casting choice of the year : david caruso ) take matters into their own hands . \\nthe film is notable in that it takes this very simple story line and creates a complex and intelligent character-driven vehicle filled with well-written dialogue , shades of motivation , and convincing acting by all the actors . \\nthe script is based on both a book ( the long march to freedom ) and a magazine article pertaining to kidnap/ransom situations , and the story has been sharply pieced together by tony gilroy , screenwriter of the devil's advocate and dolores claiborne . \\nthe biggest surprise for me was not the chemistry between crowe and ryan , but that between crowe and david caruso . \\ndug out from b-movie hell , caruso pulls off a gutsy performance as crowe's right hand gun while providing most of the film's humor . \\nryan cries a lot and smokes too many cigarettes , david morse ends up getting everyone at the guerilla camp to hate him , and crowe provides another memorable acting turn as the stoic , gunslinger character of terry thorne . \\nthe most memorable pieces of the film lie in its action scenes . \\nthe bulk of those scenes , which bookend the movie , work extremely well as establishment and closure devices for all of the story's characters . \\nthe scenes are skillfully crafted and executed with amazing accuracy and poise . \\ndirector taylor hackford mixes both his old-school style of filmmaking with the dizziness of a lars von trier film . \\nproof of life is a thinking man's action movie . \\nit is a film about the choices men and women make in the face of love and war , and the sacrifices one makes for those choices -- the sacrifices that help you sleep at night . \\n\", '\\'pleasantville\\' ( 1998 ) taps into hollywood\\'s lack of integrity with subtle messages that can be easily missed \\n ( www . pleasantville . com ) april 2 , 1999 ( friday ) \\ncast : tobey maguire , reese witherspoon , william h . macy , joan allen , j . t . \\nwalsh , jeff daniels \\nmpaa rating : pg-13 for sexual content and thematic elements \\ngenre : drama \\nin my opinion : \\nin short : it takes a lot of careful observation to see the true morals and lessons brought out in this film ; one can easily be misled as to what the real message is . \\nreview : in a literally colorless world with an almost mechanical population , there is no room for transitioning variety or even the customary happenings of everyday life , such as rain , fire , or emotions . \\nthe town of pleasantville has one adjective : pleasant . \\nthere is no sadness , no fear , no danger , no discomfort , no love , and no hate . \\nput simply , it\\'s a place alanis morissette could really work wonders for . \\nj one big note however is that it is only a 50\\'s sitcom that airs in reruns on an \" oldies \" tv station ? or is it ? \\ni had waited months to see this movie and after doing so on opening day i was not disappointed . \\ni found it quite intriguing and delightful and went back 3 more times in the period it endured at the box office . \\nbut it wasn\\'t until months later , when i slipped in for a small showing in one of those crummy \" dollar theaters \" after not having seen it for so long , that my eyes were opened to such a deeper meaning and perspective than i had previously experienced . \\nit is a far too feasible misconception that this is a film which forwards the idea that a world without some \" healthy \" immorality is not a world at all . \\ninstead , the actual message , which so far has not been recognized by many viewers that i know of , is that a world without immorality doesn\\'t give one the ability to discern right and wrong for himself , because everything is automatically right . \\nthere is no room for mistakes and growth and learning because there are no mistakes to be made , no space for growth , and never anything new to learn , and that is the key component to the entire purpose of the story . \\nnow i\\'m not saying that\\'s necessarily the way it was intended to be interpreted , but that is hands down the proper way in which it should be . \\nbesides a hidden symbolic depth and themes that go beyond what we can absorb from previews , this film has elements of physical wonder and strength that make it just so great to watch . \\nthe visual effects are indeed striking and what little color is revealed is impartially favorable . \\nafter spending the bulk of the movie staring at black and white , it\\'s hard not to identify and appreciate the fact that our own world allows for all that brilliance and more . \\na truly intelligent addition to it all , however , is the charming and ardently attainable cast that operates together like clockwork . \\nthat said , the plot goes as such . \\ndavid and jennifer are two very 90\\'s high school twins with the typical \" relationship \" outline of don\\'t-mess-with-my-life-and-i-won\\'t-mess-with-yours . \\nthey demonstrate the well-known teenage qualities of two of the common versions of adolescents today . \\ndavid is the shyer , subtler twin who would rather watch tv land than mtv , while jennifer is the wild , licentious one who spends her days at the mall and relishes in the pleasures of the offensive world of degradation . \\nbut when a freak accident enchantingly plops them smack dab in the middle of pleasantville as two of the main characters , they are forced to depend on each other to make it back home . \\nnevertheless , jennifer works her magic and introduces the town to a more unrestrained approach to life , and while david frantically tries to stop her and get them back home , he realizes that change was exactly what the town needed . \\nand , as said earlier , not to flip the town around into some corrupt society , but rather to give people the choice to decide between good and bad and to reap the results of their decisions and learn from them . \\nnot only were difficult choices being brought upon the town , but the simple accepted occurrences of ordinary existence also began to take place . \\npeople got hurt . \\nthey cried . \\nthey became afraid and happy and thoughtful and started to think for themselves , and that\\'s when their physical world turned colors as well . \\nthis can be looked upon as quite a controversial movie , but to me the message is finally clear . \\ni hope after reading this people can be more open to the film than they had been in the past , and realize that without choosing how our own lives will be run , we\\'ll never know what we could have done better . \\nuntil the next great movie i see , i remain sincerely , danielle flynn , imr \\n', 'even though i have the utmost respect for richard dreyfuss as an actor , his presence in a motion picture does not guarantee any particular level of quality . \\nlike everyone else , dreyfuss has bills to pay , so he occasionally accepts big paychecks for prominent roles in bad movies . \\nconsequently , while his career highlights include jaws , close encounters of the third kind , stakeout , and tin men , his resume is dotted with titles like moon over parador , let it ride , and now krippendorf\\'s tribe . \\nlet me start out by saying that krippendorf\\'s tribe is occasionally funny ( although never riotously so ) , but that\\'s about its only asset . \\nthe best word to describe this film is \" asinine . \" \\nthe target audience would appear to be recent nursery school graduates if not for the numerous sexual innuendoes , which are aimed at someone going through puberty . \\nkrippendorf\\'s tribe tries to be a zany , off-the-wall comedy , but the film makers have forgotten three important rules . \\nthe first is that some minimal level of plot credibility has to exist . \\nthe second is that viewers should be able to identify with , or at least care about , a character or two . \\nfinally , and most importantly , more than 5% of the jokes have to work . \\nonce upon a time , james krippendorf ( dreyfuss ) was a respected professor of anthropology at little bounderby college . \\nhe and his wife obtained a grant to seek out a \" lost tribe \" somewhere in the wilds of new guinea , a goal which they never accomplished . \\nshortly after their return from the failed trip , krippendorf\\'s wife died and he was left with the herculean task of raising three children -- shelly ( natasha lyonne ) , mickey ( gregory smith ) , and edmund ( carl michael linder ) -- on his own . \\nnow , over a year later , the college wants to see the results of the money they gave krippendorf ( which he has spent not on research , but on things for his family ) , so they send a new member of their faculty , professor veronica micelli ( jenna elfman ) , to inform him that he has been scheduled to give a lecture on his findings . \\nwhen he arrives at the college for the momentous event , rather than telling the truth and risking being sent to jail for misappropriating school funds , he fabricates a tale about a mythical lost tribe , the \" shelmikedmu \" . \\nto provide video footage , he films his children dressed in native garb . \\nsoon , much to krippendorf\\'s surprise , the shelmikedmu are a national phenomenon . \\nbut one disaffected professor ( lily tomlin ) is determined to prove that the tribe is a fraud . \\nthe only way krippendorf\\'s tribe works is if you assume that all of the characters ( not to mention the viewers ) are dumber than dirt . \\nunfortunately , it\\'s impossible to like or sympathize with a bunch of putzes like this . \\ndirector todd holland completely fails to develop any character into something more substantial than a device to implement various dubious gags . \\nmeanwhile , attempts at satirizing the shallowness of american culture ( i . e . , how easily the public can be fooled into jumping on the bandwagon of the latest trend ) come across as feeble and derivative . \\nthe acting in underwhelming . \\ndreyfuss has definitely not given his \" all \" to the role of james krippendorf . \\nalongside him , jenna elfman , the spunky co-star of tv\\'s dharma and greg , radiates perkiness and little else . \\nthis quality , while fine for a 22-minute television program , quickly becomes irritating in the arena of a feature-length movie . \\nno one in the supporting cast -- lily tomlin , david ogden stiers , natasha lyonne ( woody allen\\'s daughter in everyone says i love you ) -- excels . \\ni know that a movie\\'s in trouble when it\\'s half the length of titanic , but seems much longer . \\nmost of what comes on screen is generic sit-com level material -- the kind of slop that people will absorb while dozing off in their favorite easy chair in front of the television set . \\nif there\\'s any upside , it\\'s that i don\\'t see much box-office support developing for this lame , ill-marketed miscue . \\nkrippendorf\\'s tribe will quickly become extinct . \\n', 'for many people , procrastination isn\\'t a problem to overcome , it\\'s a high art . \\nwe\\'ll do just about anything to put off a task . \\nwhen the deadline for this column nears , it\\'s the only time during the week dishes get washed and the bed made and laundry done and plants watered and . . . \\neventually , hopefully , sometimes , there\\'s a breakthrough and we actually get down to work . \\namazingly it\\'s almost always easier than we dreaded and after finishing , that sense of oppressive apprehension melts away . \\nand then , the next time , we do it all again . \\nenglish professor grady tripp ( michael douglas ) is a master . \\nseven years ago , his first book was a hit . \\nhe\\'s been working on his second -- a short 200-page piece -- since then . \\nfearful that he can\\'t live up to the first , he can\\'t bring himself to finish it . \\nno writer\\'s block , he\\'s nearing 3 , 000 pages with no end in sight . \\nnow he\\'s having a particularly difficult day . \\nthe college\\'s annual writers conference is bringing in accomplished novelists reminding tripp that other people are finishing _their_ books . \\nduring the first day , his wife has left him , his married girlfriend informs him she\\'s pregnant and his agent is in town with a six-foot transvestite in tow . \\nby the evening , our besieged writer is driving though the snow-covered streets of pittsburgh with a suicidal student beside him , a stolen jacket that marilyn monroe wore on her wedding day in the back seat and a murdered blind dog stuffed in the trunk . \\nthis could be a pivotal point in his mid-life crisis . \\nand then there\\'s the next morning . \\nthere\\'s a lot to like about this movie . \\nthere are no huge explosions , shattering glass or computer-generated dinosaurs to distract from the very real human issues . \\ngrady is caught up in the curse of people who accomplish great things early in their career . \\nin the world of \" what have you done for me lately ? \" , he knows his second book has to be better than his first . \\ninstead of finding out , he drifts , comfortable in the insular cocoon of academic peter panhood . \\nhe doesn\\'t have much of a life and neither does his star pupil james leer ( tobey maguire ) . \\njames may be suicidal and psychotic . \\ncertainly everything that comes out of his mouth is a lie . \\nhe makes up a past of working clash anguish because the truth of wealth and comfort just isn\\'t interesting enough . \\nas the weekend progresses , they are both forced to fully engage life . \\nthat\\'s the question they must face : comfort or real experiences ? \\nthe film takes some interesting chances . \\nnon-traditional relationships are presented as matter-of-fact . \\nextra-marital , gay , interracial , professor-student : here they aren\\'t judged , merely choices . \\nthe actors are all first-rate . \\ndouglas triumphs , playing against type as he spends most of his time disheveled , unshaven and clad in a pink women\\'s house robe . \\nmaguire\\'s disengaged alienation works perfectly here . \\nrobert downey jr . as grady\\'s agent livens up his scenes . \\ndirector curtis hanson ( \" l . a . \\nconfidential \" ) makes a few missteps . \\nthe women are underused . \\nfrances mcdormand does a good job of her limited role of sara , grady\\'s married lover but we never understand much of who she is . \\nthe chemistry between the two of them is non-existent which makes some of the ending unconvincing . \\nkatie holmes is a student with a major crush on the professor , but her character goes nowhere . \\nwe never even see grady\\'s exiting wife . \\nthis is very much a guy\\'s film . \\nthe varied relationships between the men are much more convincing than any of the others . \\ngrady\\'s alternating mentoring and rejection of james is the centerpoint of the film , not him and sara . \\nas the boomers age , expect to see more mid-life crisis films to catch the attention of that demographic . \\neventually it\\'ll probably become cliche , but right now we\\'ve got a winner . \\ni\\'ll finish this in a second . \\nright now i have to grab some paint . \\ni noticed some trim in the other room that needs a little touch-up . \\n ( michael redman has written this column for so long that he\\'s made mid-life crisis a career choice . ) \\n', \"has hollywood run out of interesting characters and plot-driven suspense thrillers that we must spend two hours watching will smith and a gritty gene hackman exchange obtuse dialogue and run around dodging fireballs ? \\nin enemy of the state , that is exactly right . \\na few parts the net , and a few parts conspiracy theory , enemy is about as exciting as watching smith talk to cgi aliens in 1997's lame brained men in black . \\nwill this guy ever get a real role ? \\nhe has the bruce willis syndrome . \\nthe plot is bascially smith , playing a lawyer , getting into hot water with some high government murderers , who assassinated a powerful political figure earlier in the movie , when a tape of the killing gets into his hands . \\nhe inlists the help of an old conspirator ( hackman ) , and , at the end , er . . . you \\nknow . \\nenemy was one of the worst films of last year . \\nnot only was it sloppy in telling its story and getting its facts straight , the acting was mediocre when it should have been energy driven , and i didn't like how smith always magically out-smarted the badies when all the other extra characters , seeming more intelligent than smith , somehow got run over by a truck . \\nenemy came out around the same time as the superior star trek : insurrection . \\ni know these two films are different in , well , everything , but the fact that enemy outgrossed insurrection just baffels me . \\nsomehow , quality can't overshadow quantity . \\n\", 'an american werewolf in paris is a failed attempt to recapture the humor and horror of john landis\\' 1981 feature , an american werewolf in london . \\nwhere the original had comedy , the sequel has the kind of revolting silliness that can be found in tv sit-coms . \\nwhere the first installment had chills , this one has sequences that are inappropriately , unintentionally funny . \\nin short , while an american werewolf in london has become something of a minor classic in its genre , the woeful an american werewolf in paris seems destined for late nights on cinemax ( it even has the necessary gratuitous nudity ) . \\nthe film opens with a trio of daredevil americans -- andy ( tom everett scott ) , brad ( vince vieluf ) , and chris ( phil buckman ) -- sneaking up to the top of the eiffel tower to drink wine and do a little bungee jumping . \\nsoon they have company in the person of serafine ( julie delpy ) , who has decided to end it all . \\nshe jumps , but andy , with a bungee cord attached , goes after her , and manages to save her ( at the price of a major headache ) . \\nserafine disappears , but a smitten andy seeks her out . \\nhowever , once he learns his would-be girlfriend\\'s dark secret , he wishes he hadn\\'t . \\nshe\\'s a werewolf , cursed to change into a hideous beast when the moon is full , and , to make matters worse , he has suffered a nasty bite himself . \\nactress julie delpy is far too good for this movie . \\nshe imbues serafine with spirit , spunk , and humanity , which gives us an emotional stake in the character\\'s fate . \\nthis isn\\'t necessarily a good thing , since it prevents us from relaxing and enjoying an american werewolf in paris as a completely mindless , campy entertainment experience . \\ndelpy\\'s injection of class into an otherwise classless production raises the specter of what this film could have been with a better script and a better cast surrounding her . \\ndelpy\\'s previous credits include such memorable ventures as krzysztof kieslowski\\'s white and richard linklater\\'s before sunrise . \\nshe was radiant , charismatic , and effective in both . \\ngiven the nature and level of the material she has to work with here , she gets as close as possible to those adjectives . \\nit could be argued that delpy is the only reason to see an american werewolf in paris , but even her most devoted fans should consider giving this one a miss . \\nand if your primary objective is catching a glimpse of her in the buff , check out either killing zoe or the passion of beatrice -- those movies have intelligible plots in addition to breasts . \\nthe rest of the cast acts at a level considerably below that of delpy -- which is to say , they give performances appropriate for the screenplay . \\ntom everett scott ( that thing you do ) plays the lead like he\\'s in a made-for-tv movie . \\nit would be kind to call him bland . \\nactors vince vieluf and phil buckman , as andy\\'s friends , are no more impressive . \\njulie bowen ( happy gilmore ) is suitably fetching as werewolf meat . \\nand respected french actor thierry lhermitte has a brief turn as another monster meal . \\non the technical side , it\\'s all bad news . \\nthe computer-generated werewolves look painfully unreal . \\nthe creatures would probably have been more believable had they been men in wolf suits . \\nrepeated use is made of the \" werewolf cam \" , an infrared wolf\\'s point-of-view approach that\\'s interesting the first couple of times it\\'s employed , then becomes tedious . \\nand the soundtrack includes some alternative grunge rock tunes that clash violently with the on-screen action they\\'re matched to . \\ndirector anthony waller , who displayed a confident , edgy style in mute witness , stumbles with this material , never being able to make the comedy and horror elements gel . \\nas a result , we get the worst werewolf sequel since the howling ii : your sister is a werewolf . \\n ( i will give waller credit for killing off a dog , though -- something that\\'s rarely seen in movies these days . ) an american werewolf in paris is marginally entertaining in a \" bad movie \" sort of way , but that\\'s a dubious distinction . \\nultimately , it\\'s an unfortunate effort , for , while it isn\\'t unbearable to sit through , it isn\\'t a howl , either . \\n', 'the love for family is one of the strongest driving forces in any man\\'s life , especially for those who have fostered their family under precarious circumstances . \\nthematically in cinema , love for family has been used frequently and emphatically to highlight more abstract aspects of characters ; it is rare , however , for it to develop as outstandingly as it does in roberto benigni\\'s neo-classic drama , life is beautiful . \\nthrough a central cast of father , mother , and son , benigni demonstrates the wonderful , undying love that a family shares in the best of times and the worst of times . \\nlife * is * beautiful for guido orefice ( roberto benigni , directing himself here for the sixth time in his career ) , an italian jew , master con man , and aspiring waiter extraordinaire . \\nliving in 1930\\'s italy , he lives a carefree life of good fortune ; it is made even better when he happens upon a pretty schoolteacher named dora ( nicoletta braschi ) . \\nalthough dora is already engaged , guido manages to sweep her off her feet and persuades her to marry him instead ; the two have a child named joshua ( giorgio cantarini ) . \\nunfortunately for the happy family , the third reich and its nazi minions occupy italy and imprison all jews in work camps . \\nit is after the movie takes this dramatic turn that the movie\\'s theme of family love becomes the strongest . \\nalthough prior to this turning point benigni plays guido with a sort of goofy charm , he relaxes the role to ensure his son\\'s happiness . \\nnow , instead of awkwardly seducing the sweet dora , he constantly reassures his son that everything will be all right . \\nbenigni\\'s performance is truly a well-rounded one , and certainly one of the more fluid turns all year . \\nthe supports are all strong as well , but the movie truly excels in its script . \\nlife is beautiful is a self-proclaimed fable , one which tells its story in grand , two-part fashion . \\nin certain parts it manages to sink to the level of a \" saturday night live \" spinoff -- a number of humorous skits connected by a token plot -- but in the movie\\'s second half the script\\'s circular nature becomes admirably obvious . \\ncharacters make reprise appearances in fine form , and certain events which are intially curious become critically linked to the plot\\'s outcome . \\nin all , fans of foreign film will see this as a memorable motion picture , and novice movie-watchers may take this opportunity to see their first \" artsy \" film . \\nlife is beautiful is an artsy movie by convention but easily accessible to everyone , and above all is a fine thematic picture . \\n', \"it would be hard to choose the best american political thriller . \\nsome people would probably pick the manchurian candidate and others ( myself included ) would pick seven days in may . \\nboth those films were tense exercises in chills . \\nthe two films came out within two years of each other and both were directed by the same man , john frankenheimer . \\nbut that was 1962 and 1964 respectively . \\nfor most of the rest of his career frankenheimer has turned out some decent films , but has shown little of the promise that those two thrillers showed . \\neach of those films had memorable characters and a tense plot . \\nthey had almost nothing in the way of chases or gunplay . \\nthe thrills all came from the plot . \\nronin is like a film made by another man . \\nsomewhere behind all the shooting and explosions and car chases there are the rudiments ofa plot , but we see only tiny pieces of it . \\nwe get a clue here and one there as to what is going on but j . d . zeik's screenplay is a bit obscure . \\nthe film begins explaining that a ronin is a masterless samurai . \\nwhen a samurai has failed in the job of protecting his master from death , he becomes a ronin , much like a gunfighter in the american west . \\nif you miss the opening , do not worry . \\nthis film will explain again what a ronin is . \\nsam ( played by robert de niro ) is the modern equivalent of a ronin . \\nhe is a free agent who seems to have really good instincts about how to stay alive the world of a professional killer . \\nhe clearly was in a dangerous business at one time and now he seems to be drifting around on his own somewhere in france . \\nsam is recruited from a montmartre bar by dierdre ( natascha mcelhone of the truman show ) , an irish woman , to be part of an action to steal a mysterious metal case . \\ndierdre is very tight-lipped about what is in the case . \\nsam joins a team of four others : vincent ( jean reno of the professional/leon and mission impossible ) , spence ( sean bean , tv's richard sharpe , and also patriot games and goldeneye ) , and gregor ( stellan skarsgard of breaking the waves and good will hunting ) . \\nalso along is larry ( skipp suddeth ) . \\nthe group seems to know their business , particularly sam , but each is in his own way cold and professional with his own field of expertise . \\ntheir only human side seems to be in tensions among the members of the team . \\nthe story is not very easy to follow . \\nit is never clear who is double-crossing whom and who is working for whom . \\nsomehow russians ( who may or may not be the russian mafia ) and irish radicals are involved trying to get their hands on a certain metal case . \\nsome very good actors are involved in this film . \\none wonders what they saw in the script . \\nthe characters are mostly one-dimensional professional killers . \\nthey know their work , and seeing their thought patterns adds some interest to the film , but for this group deep feeling between two people is teaming up with another killer so that neither is killed . \\nby the end of the film we never really got to know anybody . \\nmaybe that is the secret of why such good actors took parts , since these are not very demanding characters to create . \\nin addition to the above characters the film also features jonathan pryce and michael lonsdale ( the latter of moonraker and of the superior thriller the day of the jackal ) . \\nas a revival of a sort of action film that was popular in the 1960s , i was hoping that there would be something here to grab onto and enjoy . \\nunfortunately there are no deep characters , and little to make us care who eventually ends up with the metal case or why they want it . \\ni rate ronin a 4 on the 0 to 10 scale and a 0 on the -4 to +4 scale . \\nnon-spoiler : incidentally , the tale of the 47 ronin has been filmed multiple times , usually under the title chushingura or as the 47 ronin . \\nalso one frequently sees in japanese art the image of a man breaking down a door with a huge mallet . \\nthis is the first blow of the 47 ronin . \\n\", 'some movies i should just skip . \\nmy daughter and i had a really vile time at my favorite martian a few weeks back , and here comes another disney effects-filled live-action flick based on an old tv program . \\ntrue , the probgram is only 15 years old this time , and it\\'s a cartoon . \\nbut it\\'s a cartoon i liked , and i was understandably reluctant to see what disney had done to it on the big screen . \\nbut my daughter really wanted to go , and how bad could it be ? \\nturns out i was right , mostly . \\ninspector gadget , oddly enough , follows almost exactly the same format as my favorite martian , down to the jive-talking side-kick . \\nat first i thought it was done by the same people , but imdb informs me that ig was directed by david kellogg and written by dana olsen and kerry ehrin , where mfm was directed by donald petrie and written by sherri stoner and deanna oliver . \\nthis odd similarity between the two movies may best be explained by the studio that produced it , where \" formula \" isn\\'t just business , it\\'s a way of life . \\nthe producers who obviously micromanaged the two projects should get prominant screen credits . \\nin some parts you can just hear them saying \" more zany ! \\ni want more zany here -- and -- here . \" \\n \" let\\'s have a really painful sexual reference for no reason right here -- make it really painful . \\ni want the audience squirming in their seats . \" \\n \" ok , that\\'s fine , but i want you to add bug guts . \" \\n \" what does this scene do ? \\ncharacter depth ? \\nbut where\\'s the zaniness ? \\ni don\\'t see zany here . \\nif you can\\'t make it zany , cut it ! \" \\nthe latter is the only explanation i can come up with for the absence of the thoroughly charming michelle trachtenberg for most of the movie . \\nmichelle ( who plays penny , gadget\\'s niece ) shines in every scene she\\'s in , but unfortunately she only gets about nine minutes of screen time . \\nmy guess is that the rest is on the cutting room floor . \\ndabney coleman\\'s comedic talents are utterly wasted as chief quimby . \\ni kept expecting him to say or do something really funny and somehow save the film , but instead , he does the best he can with some really poor lines in a few unexceptional scenes . \\nhe is thoroughly upstaged by cheri oteri as the \" gidget bitch from hell \" town mayor . \\noteri\\'s overly enthusiastic and continually self-congratulatory speech patterns and mannerisms were so much like portland , oregon\\'s own manic mayor vera katz that i had to wonder if the studio wasn\\'t poking fun at our fair town . \\nor , maybe all career politicians are like that . \\ni must say , matthew broderick does not stroll through inspector gadget as he did godzilla . \\nhe appears to have some fun with the film , especially as the evil gadget . \\nrupert everett is entertaining as the maniacle claw . \\njoely fisher does fine as the zany scientist and even better as the zany carbon copy of herself . \\nher performance is one of the few things worth watching in the film . \\nd . l . hughley plays the shuckin\\'-and-jivin\\' vehicular side-kick , in a role that firmly sets emancipation back 20 years . \\nthe dialog is . . . let\\'s face it , it\\'s pretty bad . \\nthe tag-line after a major set-piece battle is a faux pas that makes no sense in context . \\na lot of the lines ( especially hughley\\'s ) appear to be made up as they go along , by people with little gift for ad-lib . \\nabout three-quarters of the film is a somewhat unnecessary origin story for both gadget and claw . \\ngadget then spends the latter third of the movie trying to locate claw and having various altercations ( not really \" battles \" ) with the evil gadget . \\npenny does about a minute and a half of the detective work her character did every week in the cartoon . \\nlet me rage here just for a minute . \\nmichelle trachtenberg was an excellent choice for the penny character . \\nshe\\'s utterly charming , and has excellent experience ( harriet the spy ) for the part of the pint-size detective . \\nwhy she is so underutilized in this film is a real mystery . \\nthe film loses a star for casting brilliance coupled with scripting ( or editing ) stupidity . \\ninspector gadget is missing the long , long stretches of potty humor that ( among other things ) made my favorite martian so unbearable , but it\\'s a very short movie , so perhaps something was cut at the last moment . \\nprobably the best scenes in the film occur during the end credits . \\nthe \" evil sidekick support group \" is especially worth seeing , and has an amazing number of cameo appearances for the few seconds it\\'s onscreen . \\nall in all , another bad live action film from the premere studio for bad live action films . \\ni wonder if disney uses the revenues for it\\'s generally money-making cartoons to produce these losers . \\nbut if true , why ? \\nif they\\'re trying for another mary poppins , they need to find a team that can produce one , and then give them a chance to do it . \\n', 'it\\'s an interesting premise . \\nour reality is only real to us because it is what we perceive to be real . \\nin truth , our entire existences are lived out in our minds as we are fed information through electronic inputs directly to our brains . \\nwhat we see , what we do , everything around us is nothing more than a computer-generated construct interlinked with the minds of others through a vastly powerful artificial intelligence . \\nour bodies , severely atrophied , are kept alive for the sole purpose of generating heat and electrical energy for a dominating order of machines which control the planet . \\nthe sci-fi realm has been waiting a little while for something new to come along . \\nthe matrix isn\\'t it - the idea of a war between man and a sentient computer network , a sham world , the ability to plug one\\'s brain into a computer , has all been gleaned from such sources as the terminator , dark city , and a few star trek episodes ( both classic and next generation ) . \\nwhat is new is the ability to weave all of these various elements together and succeed in producing a film that is both entertaining as well as thought-provoking . \\nkeanu reeves plays a computer whiz nicknamed neo , who is plucked out of the artificial world ( known as the matrix ) by a group of renegade humans who are clandestinely fighting to expose the fallacy of the computer-generated existence and free humankind from the oppression of the machines . \\nthe group\\'s leader , morpheus ( laurence fishburne ) , has chosen neo because he believes neo is \" the one \" who is destined to lead the attack against the artificial intelligence . \\n>from the beginning of the film , we are kept on our toes trying to figure things out . \\nthis , in a lesser movie would be annoying , but the matrix presents itself in an intelligent manner which makes the puzzle rather interesting and even fun . \\nwhat is reality ? \\nwhat is a sham ? \\nthe film turns our very perception of life on its side . \\nmore than once , we are also presented with the question of whether we would rather know the harsh truth of reality , or live a life of relative bliss , oblivious to the true nature of our surroundings . \\nas viewers , this is intriguing enough , so imagine what it would be like for neo . \\nand who to better play a bewildered person than keanu reeves ? \\nreeves , whom i\\'ve never really cared for as an actor , is competent in roles which require a lot of straightforwardness , and little subtlety . \\nhe was good in speed , for example , but laughably poor in a walk in the clouds . \\nneo is actually one of those roles which reeves slips into rather nicely , so much of my expectation was happily for naught . \\nin a couple of places , the script even capitalizes upon his wooden nature , and this is a heavy credit to writers/directors andy and larry wachowski . \\ni mean , since bill and ted\\'s excellent adventure , what movie could you say really \" utilized \" keanu reeves ? \\nmore interesting than reeves is fishburne , who\\'s morpheus nearly runs the gamut of emotions , and convincingly so . \\nvery surprising for a sci-fi movie . \\nfishburne also maintains a certain demeanor about himself throughout , as if he always knows what to expect . \\nthis helps to further the aura of his character\\'s proficiency and extensive knowledge . \\nhugo weaving as agent smith , one of the artificial intelligence\\'s anti-intruder programs , is also good playing his deadpan , no-nonsense , kick ass role , which requires him to show emotion at the appropriate time . \\nunfortunately , when weaving speaks for more than a few sentences in a row , the nature of his character\\'s speech pattern becomes a little more laughable than impressive . \\ncarrie-anne moss plays trinity , morpheus\\'s number one assistant who becomes somewhat of a love interest for neo . \\nalthough her character is somewhat inconsistent , moss nevertheless delivers an above par performance when fishburne isn\\'t in the picture . \\nthere were few expenses spared when it comes to the special effects . \\nmany methods of imagery are employed , from modeling to bluescreen to computer graphics . \\nof special note is the use of the \" freeze and turn \" effect where the entire scene is frozen , turned , then continued from a new angle . \\nthis is accomplished by using a large number of still cameras employed in a semi-circle , with motion picture cameras placed at the two ends . \\nthe motion cameras film the action , and at the appropriate moment all the still cameras fire at once . \\nplace each still image in a film sequence and you get a nearly seamless transition from the first motion camera to the second . \\npretty slick . \\nthe matrix drips with style . \\nfrom the clothing to the music to the action , we\\'re watching an exaggerated version of what we\\'re used to . \\nmuch of it seems like the combination of two genres of the hong kong action film - there\\'s a lot of kung fu , there\\'s a lot of gunplay . \\nwhen a character is letting go with an automatic weapon , much is made of the empty cartridges falling to the floor in slow motion . \\nthere\\'s also the element of the japanese action cartoon ( called anime by aficionados ) , especially in the way the sequences are filmed in sweeping pans and emphasized actions through special effects . \\ncombined , it\\'s really like no live-action film i have ever seen . \\nthe film is not without its faults . \\nsome of the scenes and ideas are \" borrowed \" a little too liberally from other films , and one component of the ending is decidedly disappointing . \\nsome of the lines are also pretty bad - in one instance , a supporting character incorrectly delivers a famous saying , and it wasn\\'t meant to be a joke . \\nhowever , these shortcomings detract little from what is an overall solid action sci-fi film that for once does more than merely entertain . \\n', 'i want to be involved in show business one day . \\nand i refuse to do any sequels to any movie i may make because i believe they only get worse . \\nthis movie proves it for me . \\ni was a little worried about the last batman film , as i thought joel schumaccer , taking over from tim burton , would screw it up . \\ni also assumed val kilmer would screw up as bruce wayne . \\nthey didn\\'t . \\nkilmer did a good job , and the cast was left to carry the movie , which they did ( even jim carrey as the riddler and i can\\'t stand jim carrey ) , because schumaccer messed up the direction with his glitzy gotham and his awkward camera angles . \\nthis film is different . \\nthe cast is still impressive , but here , not only does schumaccer mess up with the direction ( he\\'s one of those directors who\\'s good with actors , terrible with camera angles ) , but writer akiva goldsmith doesn\\'t really give an impressive cast anything to do . \\nthe cast is impressive : clooney is a surprisingly good wayne/batman , o\\'donnell is a crafty robin as usual , they could\\'ve casted somebody better as batgirl ( my friend likes neve campbell ) , but silverstone is not bad , and thurman is a good poison ivy . \\nthe major problem is schwarzenegger , who is a terrible freeze . \\nhis accent is so heavy , you can\\'t understand what he says , and the trouble with action stars like him is they cannot act , and they know it , but they figure that if they flex their muscles , say a limited amount of stuff , and kill a bunch of guys , then they figure nobody\\'ll notice . \\nthat\\'s the trouble with me , * i * notice . \\nschwarzenegger does not deserve billing over clooney , or as much money as he got for this , but hollywood thinks he does . \\npatrick stewart was the person i\\'d heard that was considered to play freeze , and he would\\'ve been so much better . \\nor sean connery , but not arnold \" i\\'m not an actor , but i play one in real life \" schwarzenegger . \\ni realize that you must be a star to play a major role in a batman film , but it would\\'ve been nice if they\\'d casted a star that had talent for the role . \\nakiva goldsmith\\'s screenplay avoids some stuff that happens in a normal batman film . \\nin a regular batman film , they\\'d concentrate on the relationship with the girlfriend a little more , but elle macpherson\\'s julie madison is so limited here that we never get a real sense of who she is . \\nthere is talk of a fifth batman movie . \\nmy interest to see it is low , but i hope it\\'s better than this . \\nif you don\\'t want to waste your time , rent any of the other batman movies from blockbuster . \\nany other . \\n', 'the army comedy genre has never turned out a truly good movie ( if you don\\'t count neil simon\\'s biloxi blues ) . \\nyear after year , more predictably cliched military movies come out -- most recently sgt . \\nbilko -- and none of them ever manage to be anything more than a rehash of the last . \\ni thought stripes would be different . \\nwith ivan reitman as director , bill murray as star and harold ramis as co-star and co-screenwriter , it seemed like it would be ghostbusters in the army . \\ninstead , it was a bunch of unfunny crap in the army . \\nmurray , about as funny and sophisticated here as he was in meatballs , plays a loser cab driver who sees the army as his only chance for success , and convinces his friend ramis to enlist with him . \\nso he does , and we get the obligatory drill sergeant from hell , head-shaving and marching/singing sequences , more mind-numbingly stale here than ever . \\nthe characters are even less original , ranging from underachieving slob john candy to incompetent captain john larroquette . \\nall the big name stars in stripes ( and even larroquette ) fall victim to the lame , rehashed material and are never really likeable , murray in particular . \\nhe only gets a few decent lines in , although those barely-funny one liners pale in comparison to the hilarious peter venkman character he played three years later in ghostbusters . \\nhe was even better in caddyshack , for crying out loud . \\nas with a lot of the late 70\\'s / early 80\\'s comedies , stripes is a completely juvenile movie only a child would like but is so sex- obsessed no child should be able to watch it . \\ni\\'m sure it seems funny on paper to have candy pay over $400 to mud wrestle five beautiful women , but while watching it all that was coming out of my mouth was the admonition \" dear god ! \" \\nevery few seconds . \\nstripes isn\\'t the playful kind of sex comedy , either . \\nmost of the time it seems downright misogynistic , as when larroquette uses his telescope to peer into the women\\'s showers or murray lifts a female m . p . \\nonto the stove and , with an i-know-what-you-like look on his face , says he\\'s going to give her the \" aunt jemima treatment , \" which means shoving a spatula under her butt repeatedly . \\nyou don\\'t want to stick around as the scene progresses and he uses an ice cream scoop on her genital region . \\n \" i\\'m not enjoying this , \" the woman protests . \\nmy sentiments exactly . \\n', \"damn those trailers . \\nhad it not been for the advertising of this film , which reveals far too much about its contents , i would have been glued to `under the sand' . \\nas it is , the film retains some value , thanks to an excellent performance by charlotte rampling , and a more mature francois ozon in the director's chair . \\nmarie ( charlotte rampling ) and her husband jean ( bruno cremer ) lounge on the beach . \\nshe takes a nap while he goes for a swim . \\nwhen marie wakes up , jean is nowhere to be found . \\nshe contacts authorities , but they can't find him either . \\ndid he disappear to start a new life ? \\nwas he killed by accident ? \\ndid he commit suicide ? \\nmarie still asks herself these questions a year later , and in order to move on with her life , she must find some answers . \\nit's a fine premise , and this little movie uses it to the limit . \\nthe film moves at a leisurely pace , a bit slow , but relaxing . \\nit's a very visual story , and you can pretty much just sit back without reading the subtitles . \\nthis is mostly thanks to the excellent camera work by antoine heberle and jeanne lapoirie , who shot the film in a dreamy haze , and the lead performance by rampling . \\nrampling is so expressive in her portrayal of marie , you connect with her character instantly , despite that she's delusional . \\nthe scenes where she interacts with her husband , who she still believes is alive , are heartbreaking . \\nshe can't quite get over him . \\nthey've been married for twenty-five years . \\nthe other actors , particularly jacques nolot , are excellent too . \\nthe sex in the film is rather unneeded , but compared to ozon's `criminal lovers' , it's the disney channel . \\nlikely to cause some discussion afterwards , `under the sand' is a fine movie going experience . \\nwhile it's hard to recommend as entertainment , it's a fine adult alternative about how we deal with loss . \\nozon seems to ask what you would do , and that's certainly a hard question to answer . \\n\", ' \" the celebration \" is one of an elite kind of films that is completely absorbant . \\nyou know , where you sit down to watch it , and no matter what you\\'ve heard about it before , you just can\\'t help but be totally drawn into its story and shocked by every single turn that occurs . \\ni prefer films like these because these are what the best kind of films are like . \\ni don\\'t really feel there are to be any real \" rules \" for cinema ; a film can do anything , as long as it makes it work . \\nbut i do ask that all films have one thing in common : they create experiences . \\nwhen i watch a film , no matter what kind of film it is , i want to be able to take certain memories along with me . \\n \" the celebration \" is great because it\\'s chock full of those . \\nit creates a world so completely realistic that everything that occurs is as memorable as the little instances of life that catch your attention and stay with you for the rest of your life . \\nand then it makes things just a tad bit farscial , just to make sure you\\'re paying attention , which you are because what transpires is just so goddam interesting that if you were to ever feel bored , then you\\'re of your attention span needs a bit of a tuning-up . \\nthe story takes place at the extravagant home of an aging patriarch ( henning mortizen ) , who has just turned 60 and is having a party thrown for him . \\nall his friends and family turn up , and for the first half hour , we get introduced to everyone , simplistically and realistically ( no aggravatingly condescending posing for the camera deals here ) . \\nthe eldest son , christian ( ulrich thomsen , looking a bit like a young malcolm mcdowell ) , is the first to be seen in the film , walking to his father\\'s home . \\nhis brother , michael ( thomas bo larsen ) , drives by , pulls over , greets him , then kicks his family out of the car , forcing them to walk to the estate , just so christian can be comfortable . \\nwe then meet helene ( paprika steen ) , their sister , a woman who always seems to be stressed-out , who invites the driver of her car ( gbatokai dakinah ) , an american , to to come join her at the party she\\'s going to . \\nonce they\\'re all there and settled in , the party begins , and as custom , the eldest son has to make a speech to his dad , so christian stands up , at the head of the table , and reveals the film\\'s punchline : his father raped all his children at a young age . \\nbut since this is a family/friends affair , his confession becomes more detested than the supposed truth , and is simply brushed off despite his efforts , and what transpires is sorta like jerry springer crossed with jean renoir , and it\\'s all terribly interesting to watch . \\ntwists occur , and soon the film has taken on a nearly-farsical nature , but still seems realistic because the people involved really feel like they could reach such ends . \\nthe most notorious thing about this film , which has been getting the most notice , though , is that the director , thomas vinterberg has shot it in a completely awkward fashion . \\nas a member of the danish filmmakers clan , dogme 95 , a group that has vowed to oppose \" the auteur concept , make-up , illusions , and dramaturgical predictability \" so that they may \" purge film so that once again the inner lives of the characters justify the plot . \" \\ni have not seen \" breaking the waves , \" the other notable film by a member of this group ( lars von trier , to be exact ) , but \" the celebration \" works exquisitely in this department . \\nit feels like reality , like you\\'re actually watching real people and not actors , and as a major pointer , has been shot on video . \\nas a result , it looks more like the home movies you never dare shot of your family than an actual film , but always wanted to . \\nwe see key moments in people\\'s lives that they wouldn\\'t dare show to the world , and it captures the farscial comedy of life so accurately and acutely that this style , as ironically-showmanship as it really is , works perfectly for the nature of the film . \\nthe key , though , to this film , and the reason it\\'s not just a cool danish import , is because this film is not about revealing the truth as much as it is about the way people react to such an explosive truth . \\nthroughout the film , we see a completely realized debate over the truth and the effects it has on the lives of those who have learned to live with lies , a debate so three-dimensional that it could easily blow oliver stone and his the-truth-at-all-costs reasoning out of the water . \\nof course it was not right for the father to rape his children , and of course , they couldn\\'t have fought back then , and of course this has created scarring suppression inside them . \\nand yes , it\\'s thearapeutic for one to release the truth years later , when they know it could easily destroy the one who emotionally destroyed them earlier . \\nbut then again , the father , after all , is not a totally bad guy , and we can see the emotional complications that arise thanks to a performance by mortizen which is just so great and touching that while we do believe that he could have raped his children years earlier , we also see a man who has also learned to live with what he\\'s done , and deep down , feels true guilt that is only now beginning to surface . \\nthe final scene , involving mortizen and everyone else , is utterly devastating , thanks to him and thomsen , whose performance is utterly flawless and equally emotionally complex . \\neveryone else is flawless as well - the actors never seem to be stepping into the shoes of their characters as much as they do walking comfortably in them . \\nthe actors or writers have not made the mistake to judge these characters in the slightest : there are no whites or blacks but instead all grays , exactly like life . \\nas such , \" the celebration \" may be the one truly bizarro film of the year : a work of art so eerily close to reality that it\\'s utterly disturbing and utterly fascinating . \\n', 'there have been merchant-ivory costume dramas with more of a pulse than \" the mod squad , \" a self-consciously \" hip \" cinematic rendering of the old tv series still looked upon fondly by so many baby-boomers . \\nwell , said \" squad \" certainly won\\'t be a pleasant viewing experience for them or anybody else , maybe even the teen target audience the movie has been geared towards . \\na contemporary take on this decidedly \\'70s show doesn\\'t exactly seem unwarranted , but one wonders if the mold it accumulated while waiting on the shelf didn\\'t transform into a full-blown case of botulism . \\nhow curious that the film begins by defining both mod and squad , insisting that the latter is a group of people working together and then contradicting this definition by keeping its titular trio apart for a sizeable chunk of the running time . \\nthey are julie , pete and linc , reformed delinquents working undercover for the lapd ( exposition put out of the way so fast that you\\'re likely to be lost from the opening moments on ) , and they are respectively played by claire danes , giovanni ribisi and omar epps , talented actors each deserving of better than this . \\ntheir plight involves standard cop-corruption stuff , as our would-be protagonists catch wind of an internal cover-up after their superior ( reliable dennis farina , one of the best things here and gone so quickly ) gets killed and framed for drug trafficking . \\nthey pout a lot and eventually get cracking to expose this convoluted conspiracy using surveillance tactics that would impress the hardy boys and linda tripp but few others . \\nwhen you\\'re supposed to be asking , \" what\\'s going to happen next ? \" , \\nyou\\'ll instead entertain thoughts like \" who are these people and why should i care ? \" \\nor \" aren\\'t thrillers supposed to contain thrills ? \" \\nnot that danes , epps and ribisi don\\'t give it a shot . \\ndanes can do the troubled teen thing in her sleep , as evidenced by \" my so-called life , \" but she\\'s saddled with a mysterious-boyfriend ( josh brolin ) subplot so see-through you begin to seriously question her so-called intelligence . \\nditto for ribisi\\'s ( \" saving private ryan \" ) looney loose cannon , though at least he performs with a wild-and-crazy vigor that occasionally demands attention . \\nbut epps - poor epps . \\nepps ( \" higher learning \" ) is so short-changed he\\'s reduced to literally waiting around for a bad guy to chase him . \\nall this sloppiness can be attributed to the screenwriters , one of whom , scott silver , is also the director . \\nthey must think that if they dress up their stupid story in such spiffy trappings ( the look of the film is really quite impressive ) , it\\'ll somehow pay off , but this \" mod squad \" plods anyway . \\ncharacters are non-existent ; present are just some good-looking young things modeling cool levis and cooler attitudes . \\nplot hardly escapes confusing convention . \\nand the one genre element you\\'d think would be show up in generous portions - a few nifty explosions , some fights , any kind of action whatsoever - only rarely makes it to this dull gabfest . \\nall those quick to put down last month\\'s inept but serviceable \" my favorite martian \" update need to take a step back . \\nhere\\'s a small-to-big-screen translation that really should\\'ve stayed in its former incarnation , \" mod \" or not . \\n')\n",
            "('neg', 'pos', 'neg', 'neg', 'neg', 'pos', 'pos', 'neg', 'pos', 'neg', 'neg', 'pos', 'neg', 'neg', 'pos', 'neg', 'neg', 'pos', 'pos', 'neg')\n"
          ]
        }
      ]
    },
    {
      "cell_type": "code",
      "source": [
        "# Testing\n",
        "# from sklearn import preprocessing\n",
        "\n",
        "# encoder = preprocessing.LabelEncoder()\n",
        "# output = encoder.fit_transform(output)"
      ],
      "metadata": {
        "id": "XrmOM38jtGTA"
      },
      "execution_count": null,
      "outputs": []
    },
    {
      "cell_type": "markdown",
      "source": [
        ""
      ],
      "metadata": {
        "id": "NLka1IHLvkHs"
      }
    },
    {
      "cell_type": "markdown",
      "source": [
        "###  Summary for step 3:  The basic training of the vectorizer and the classifier."
      ],
      "metadata": {
        "id": "_hXTXN1JRMmg"
      }
    },
    {
      "cell_type": "code",
      "source": [
        "# Homework continued..\n",
        "# I have covered all the above 3 steps in this cell. \n",
        "\n",
        "from sklearn.svm import LinearSVC\n",
        "from nltk.classify import NaiveBayesClassifier\n",
        "from sklearn import  model_selection, metrics\n",
        "\n",
        "\n",
        "num_runs = 9                          # Executing code for 9 times for optimized score\n",
        "\n",
        "def modelling(clf):                   # Defining fucntion, which takes classifier name to train the model. For this assignment I hve used only SVM.  \n",
        "    scores = np.zeros((3,))           # Intializing the numpy object to store the scores \n",
        "\n",
        "    for test_run in range(num_runs):  # This will execute 9 times to calculate the scores by adding all scores and will take average at the end.\n",
        "        x_train, x_test, y_train, y_test = sklearn.model_selection.train_test_split(input, output, test_size=0.2)    # Using sklearn module train_test_split to split the input and output in 1800 train set and 200 test set.\n",
        "        tf = text.TfidfVectorizer()   # Creating Tfidf Vectorizer instance\n",
        "        X = tf.fit_transform(x_train) # Extract the tfidf features from trained data\n",
        "        X_test = tf.transform(x_test) # Extract the tfidf features from test data\n",
        "        clf = clf.fit(X, y_train)     # Fit the model to the training data\n",
        "        predicted = clf.predict(X_test)  # Test the model on test data.\n",
        "        scores = scores + np.array([accuracy_score(y_test, predicted),                  # Storing the accuracy_score, precision_score and recall_score on score variable\n",
        "                                precision_score(y_test, predicted, pos_label = 'pos'),\n",
        "                                recall_score( y_test, predicted, pos_label = 'pos')])\n",
        "    return scores\n"
      ],
      "metadata": {
        "id": "K6xFV_jtKqHe"
      },
      "execution_count": null,
      "outputs": []
    },
    {
      "cell_type": "code",
      "source": [
        "# Training the model using support vector machine classifier\n",
        "classification_model = LinearSVC(loss='squared_hinge', penalty=\"l2\",       # create SVM classifier instance. We can use other classifier model, just need to change the \"classification_model\" value.\n",
        "                dual=False, tol=1e-3)                     \n",
        "scores = modelling(classification_model)                                    # calling modelling funtion to train the model and storing \"accuracy_score, precision_score and recall_score\" in scores variable.  \n",
        "normed_scores = scores/num_runs                                             # Calucalting the average of all scores and store in normed_scores.\n",
        "labels = ['Accuracy','Precision','Recall']                                  # Intializing the scores list for print purpose\n",
        "for (i,s) in enumerate(normed_scores):                                      # Getting all score iteratively\n",
        "    print(f' Linear SVC: {labels[i]} {s:.4f}')                              # Printing the model results."
      ],
      "metadata": {
        "colab": {
          "base_uri": "https://localhost:8080/"
        },
        "id": "u5xKM96ZnxA4",
        "outputId": "62e9f2cf-5149-4430-9332-e324890ec53b"
      },
      "execution_count": null,
      "outputs": [
        {
          "output_type": "stream",
          "name": "stdout",
          "text": [
            " Linear SVC: Accuracy 0.8528\n",
            " Linear SVC: Precision 0.8440\n",
            " Linear SVC: Recall 0.8631\n"
          ]
        }
      ]
    },
    {
      "cell_type": "markdown",
      "source": [
        "Ans: \n",
        "\n",
        "I have trained support vector classifier, which is giving approx 85 % accuracy."
      ],
      "metadata": {
        "id": "GnJByyn15HCf"
      }
    }
  ],
  "metadata": {
    "kernelspec": {
      "display_name": "Python 3",
      "language": "python",
      "name": "python3"
    },
    "language_info": {
      "codemirror_mode": {
        "name": "ipython",
        "version": 3
      },
      "file_extension": ".py",
      "mimetype": "text/x-python",
      "name": "python",
      "nbconvert_exporter": "python",
      "pygments_lexer": "ipython3",
      "version": "3.7.0"
    },
    "toc": {
      "base_numbering": 1,
      "nav_menu": {
        "height": "94px",
        "width": "252px"
      },
      "number_sections": true,
      "sideBar": true,
      "skip_h1_title": false,
      "title_cell": "Table of Contents",
      "title_sidebar": "Contents",
      "toc_cell": false,
      "toc_position": {},
      "toc_section_display": "block",
      "toc_window_display": false
    },
    "colab": {
      "name": "classification_assignment.ipynb",
      "provenance": [],
      "collapsed_sections": [],
      "include_colab_link": true
    }
  },
  "nbformat": 4,
  "nbformat_minor": 0
}