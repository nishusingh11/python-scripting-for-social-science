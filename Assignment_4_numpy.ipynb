{
  "cells": [
    {
      "cell_type": "markdown",
      "metadata": {
        "id": "view-in-github",
        "colab_type": "text"
      },
      "source": [
        "<a href=\"https://colab.research.google.com/github/nishusingh11/python-scripting-for-social-science/blob/main/Assignment_4_numpy.ipynb\" target=\"_parent\"><img src=\"https://colab.research.google.com/assets/colab-badge.svg\" alt=\"Open In Colab\"/></a>"
      ]
    },
    {
      "cell_type": "markdown",
      "metadata": {
        "id": "Y4wuS60lJSVQ"
      },
      "source": [
        "## Numpy assignment"
      ]
    },
    {
      "cell_type": "markdown",
      "metadata": {
        "id": "cYy8-Wq3JSVR"
      },
      "source": [
        "## 1 Preliminaries"
      ]
    },
    {
      "cell_type": "code",
      "execution_count": null,
      "metadata": {
        "id": "5Z5-LLD_JSVS"
      },
      "outputs": [],
      "source": [
        "# The usual preamble\n",
        "import numpy as np"
      ]
    },
    {
      "cell_type": "markdown",
      "metadata": {
        "id": "MN3eCTN8JSVV"
      },
      "source": [
        "## Numpy"
      ]
    },
    {
      "cell_type": "code",
      "execution_count": null,
      "metadata": {
        "id": "TCHqsJXxJSVW"
      },
      "outputs": [],
      "source": [
        "import numpy as np\n",
        "x = np.array([2,3,1,0])\n",
        "y =np.arange(10)\n",
        "z = 2 + x"
      ]
    },
    {
      "cell_type": "markdown",
      "metadata": {
        "id": "n1xzCtm3JSVY"
      },
      "source": [
        "Write expressions in the next cell to retrieve 1 from `x`, 3 from `y`, and 3 from `z`."
      ]
    },
    {
      "cell_type": "code",
      "execution_count": null,
      "metadata": {
        "id": "96FDYv0oJSVZ",
        "outputId": "ba35c348-a5d3-44ec-df09-ea2c0b9e0c65",
        "colab": {
          "base_uri": "https://localhost:8080/"
        }
      },
      "outputs": [
        {
          "output_type": "stream",
          "name": "stdout",
          "text": [
            "1\n",
            "3\n",
            "3\n"
          ]
        }
      ],
      "source": [
        "print(x[2])\n",
        "print(y[3])\n",
        "print(z[2])"
      ]
    },
    {
      "cell_type": "markdown",
      "metadata": {
        "id": "t17iimSbJSVb"
      },
      "source": [
        "In the next cell, write an expression that generates a 5 by 5 array filled with zeros, and another  that generates a 1 by 1 array with a 1 in it."
      ]
    },
    {
      "cell_type": "code",
      "execution_count": null,
      "metadata": {
        "id": "s8k51GlRJSVb",
        "outputId": "e6f702b2-32f5-4596-b944-013e4795234a",
        "colab": {
          "base_uri": "https://localhost:8080/"
        }
      },
      "outputs": [
        {
          "output_type": "execute_result",
          "data": {
            "text/plain": [
              "array([[0, 0, 0, 0, 0],\n",
              "       [0, 0, 0, 0, 0],\n",
              "       [0, 0, 0, 0, 0],\n",
              "       [0, 0, 0, 0, 0],\n",
              "       [0, 0, 0, 0, 0]])"
            ]
          },
          "metadata": {},
          "execution_count": 79
        }
      ],
      "source": [
        "# Generating 5 by 5 array filled with zeros using numpy and valuescoverting into int.\n",
        "x = np.zeros((5,5),dtype = int)\n",
        "x"
      ]
    },
    {
      "cell_type": "code",
      "execution_count": null,
      "metadata": {
        "id": "kIXpphxeB056",
        "outputId": "e4ebb3fb-692b-4bd0-dfeb-955a077d9430",
        "colab": {
          "base_uri": "https://localhost:8080/"
        }
      },
      "outputs": [
        {
          "output_type": "execute_result",
          "data": {
            "text/plain": [
              "array([[1]])"
            ]
          },
          "metadata": {},
          "execution_count": 80
        }
      ],
      "source": [
        "# Generating  by  array filled with ones using numpy and values coverting into int.\n",
        "y = np.ones((1,1),dtype = int)\n",
        "y"
      ]
    },
    {
      "cell_type": "markdown",
      "metadata": {
        "id": "wSbS2Fo5JSVe"
      },
      "source": [
        "<style>\n",
        "    @font-face {\n",
        "        font-family: \"Computer Modern\";\n",
        "        src: url('http://mirrors.ctan.org/fonts/cm-unicode/fonts/otf/cmunss.otf');\n",
        "    }\n",
        "    div.cell{\n",
        "        width:800px;\n",
        "        margin-left:16% !important;\n",
        "        margin-right:auto;\n",
        "    }\n",
        "    h1 {\n",
        "        font-family: Helvetica, serif;\n",
        "    }\n",
        "    h4{\n",
        "        margin-top:12px;\n",
        "        margin-bottom: 3px;\n",
        "       }\n",
        "    div.text_cell_render{\n",
        "        font-family: Computer Modern, \"Helvetica Neue\", Arial, Helvetica, Geneva, sans-serif;\n",
        "        line-height: 145%;\n",
        "        font-size: 130%;\n",
        "        width:800px;\n",
        "        margin-left:auto;\n",
        "        margin-right:auto;\n",
        "    }\n",
        "    .CodeMirror{\n",
        "            font-family: \"Source Code Pro\", source-code-pro,Consolas, monospace;\n",
        "    }\n",
        "    .text_cell_render h5 {\n",
        "        font-weight: 300;\n",
        "        font-size: 22pt;\n",
        "        color: #4057A1;\n",
        "        font-style: italic;\n",
        "        margin-bottom: .5em;\n",
        "        margin-top: 0.5em;\n",
        "        display: block;\n",
        "    }\n",
        "    \n",
        "    .warning{\n",
        "        color: rgb( 240, 20, 20 )\n",
        "        }  "
      ]
    },
    {
      "cell_type": "markdown",
      "metadata": {
        "id": "7BvfGKHjJSVe"
      },
      "source": [
        "In the next cell, write an expression that uses an assignment to a splice to make all the negative values in `a` be 0. "
      ]
    },
    {
      "cell_type": "code",
      "execution_count": null,
      "metadata": {
        "id": "wvKZPhcAJSVe",
        "outputId": "16f1136e-512d-4458-86f3-318e297afb97",
        "colab": {
          "base_uri": "https://localhost:8080/"
        }
      },
      "outputs": [
        {
          "output_type": "execute_result",
          "data": {
            "text/plain": [
              "array([7, 6, 5, 4, 3, 2, 1, 0, 0, 0, 0])"
            ]
          },
          "metadata": {},
          "execution_count": 82
        }
      ],
      "source": [
        "a = np.arange(10,-1,-1) - 3\n",
        "a[8:] = 0              # using splice to make all negative values in a be 0.\n",
        "a                      # printing a"
      ]
    },
    {
      "cell_type": "markdown",
      "metadata": {
        "id": "BPTrcmwBB058"
      },
      "source": [
        "One way to do this is:"
      ]
    },
    {
      "cell_type": "code",
      "execution_count": null,
      "metadata": {
        "id": "UH0HRxdUB058",
        "outputId": "a389f03c-2b21-410b-b6fc-544b00edc741",
        "colab": {
          "base_uri": "https://localhost:8080/"
        }
      },
      "outputs": [
        {
          "output_type": "execute_result",
          "data": {
            "text/plain": [
              "array([7, 6, 5, 4, 3, 2, 1, 0, 0, 0, 0])"
            ]
          },
          "metadata": {},
          "execution_count": 83
        }
      ],
      "source": [
        "a[-3:] = 0            # alternative way\n",
        "a"
      ]
    },
    {
      "cell_type": "markdown",
      "metadata": {
        "id": "LEadQc-gB059"
      },
      "source": [
        "But see if you can do it by writing an expression that make all negative values in `a`\n",
        "be 0 no matter where they occur in `a`.  Hint: Use a Boolean conditipn"
      ]
    },
    {
      "cell_type": "code",
      "execution_count": null,
      "metadata": {
        "id": "rA3ekJQuB059"
      },
      "outputs": [],
      "source": [
        "a = np.arange(10,-1,-1) - 3"
      ]
    },
    {
      "cell_type": "code",
      "execution_count": null,
      "metadata": {
        "id": "53HigUV0B059"
      },
      "outputs": [],
      "source": [
        "a = np.arange(10,-1,-1) - 3\n",
        "a = np.where(a < 0, 0, a)           # using Boolean condtion to convert all negative values into 0."
      ]
    },
    {
      "cell_type": "code",
      "execution_count": null,
      "metadata": {
        "id": "xvNlUB0kB059",
        "outputId": "7bbe6448-f424-4cc8-aef4-9dc5c7ccac19",
        "colab": {
          "base_uri": "https://localhost:8080/"
        }
      },
      "outputs": [
        {
          "output_type": "execute_result",
          "data": {
            "text/plain": [
              "array([7, 6, 5, 4, 3, 2, 1, 0, 0, 0, 0])"
            ]
          },
          "metadata": {},
          "execution_count": 15
        }
      ],
      "source": [
        "a                                   # printing a"
      ]
    },
    {
      "cell_type": "markdown",
      "metadata": {
        "id": "m7NpYSRgJSVg"
      },
      "source": [
        "In the next cell write an expression that produces an array containing result of multiplying 7 by each of the first 12 integers (1 - 12). There's a hard way to do this and an easy way.  The easy way uses elementwise operations."
      ]
    },
    {
      "cell_type": "code",
      "execution_count": null,
      "metadata": {
        "id": "7yiKGc0HJSVh",
        "outputId": "1841fda5-6831-4212-bf4b-ebda53ea5b74",
        "colab": {
          "base_uri": "https://localhost:8080/"
        }
      },
      "outputs": [
        {
          "output_type": "execute_result",
          "data": {
            "text/plain": [
              "array([ 7, 14, 21, 28, 35, 42, 49, 56, 63, 70, 77, 84])"
            ]
          },
          "metadata": {},
          "execution_count": 86
        }
      ],
      "source": [
        "7 * np.arange(1,13)               # multiple of 7 for values 1 to 12"
      ]
    },
    {
      "cell_type": "markdown",
      "metadata": {
        "id": "o2TyTiOGJSVj"
      },
      "source": [
        "## 2D arrays"
      ]
    },
    {
      "cell_type": "code",
      "execution_count": null,
      "metadata": {
        "id": "FzCLv6SiJSVj"
      },
      "outputs": [],
      "source": [
        "# Given\n",
        "import numpy as np\n",
        "room_matrix = \\\n",
        "np.array(\n",
        "[[6,  3, 4, 1],\n",
        "[5,  2, 3, 2],\n",
        "[8,  3, 6, 2],\n",
        "[5,  1, 3, 1],\n",
        "[10, 4, 7, 2]])\n",
        "\n",
        "cost_vector = np.array([40, 175, 90, 450])"
      ]
    },
    {
      "cell_type": "markdown",
      "metadata": {
        "id": "XjUwZF0uJSVl"
      },
      "source": [
        "In the next cell write an express that retrieves the last column of `room_matrix`."
      ]
    },
    {
      "cell_type": "code",
      "execution_count": null,
      "metadata": {
        "id": "QLIMA6dDJSVm",
        "outputId": "c0386d88-886b-4383-9485-cbb0bb58bf61",
        "colab": {
          "base_uri": "https://localhost:8080/"
        }
      },
      "outputs": [
        {
          "output_type": "execute_result",
          "data": {
            "text/plain": [
              "array([1, 2, 2, 1, 2])"
            ]
          },
          "metadata": {},
          "execution_count": 2
        }
      ],
      "source": [
        "room_matrix[:,3]              # printing all rows of last column "
      ]
    },
    {
      "cell_type": "markdown",
      "metadata": {
        "id": "oTcVUAwZJSVo"
      },
      "source": [
        "In the next cell, write an expression that retrieves the third row of `room_matrix`."
      ]
    },
    {
      "cell_type": "code",
      "execution_count": null,
      "metadata": {
        "id": "NPYhI-MNJSVo",
        "outputId": "59e2adb0-a131-4054-d760-85c16fc9816a",
        "colab": {
          "base_uri": "https://localhost:8080/"
        }
      },
      "outputs": [
        {
          "output_type": "execute_result",
          "data": {
            "text/plain": [
              "array([8, 3, 6, 2])"
            ]
          },
          "metadata": {},
          "execution_count": 3
        }
      ],
      "source": [
        "room_matrix[2,:]             # printing 3rd row"
      ]
    },
    {
      "cell_type": "markdown",
      "metadata": {
        "id": "g7ukLsINJSVq"
      },
      "source": [
        "In the next cell write an expression that retrieves the first two elements of the second column of `room_matrix`"
      ]
    },
    {
      "cell_type": "code",
      "execution_count": null,
      "metadata": {
        "id": "kBlJwiNHJSVq",
        "outputId": "85044b2d-6dd5-4303-f5f1-0580ad73d105",
        "colab": {
          "base_uri": "https://localhost:8080/"
        }
      },
      "outputs": [
        {
          "output_type": "execute_result",
          "data": {
            "text/plain": [
              "array([3, 2])"
            ]
          },
          "metadata": {},
          "execution_count": 4
        }
      ],
      "source": [
        "room_matrix[:2,1]          # printing first row of 2 elements of 2nd column of room_matrix"
      ]
    },
    {
      "cell_type": "markdown",
      "metadata": {
        "id": "PFL_HNz8JSVs"
      },
      "source": [
        "In the next cell write an expression that retrieves the following submatrix from `room_matrix`:\n",
        "\n",
        "```\n",
        "array([[2,3],\n",
        "       [3,6]])\n",
        "```"
      ]
    },
    {
      "cell_type": "code",
      "execution_count": null,
      "metadata": {
        "id": "4pJVgJJAJSVt",
        "outputId": "5bac7218-4abc-460c-d714-62ccba46fb93",
        "colab": {
          "base_uri": "https://localhost:8080/"
        }
      },
      "outputs": [
        {
          "output_type": "execute_result",
          "data": {
            "text/plain": [
              "array([[2, 3],\n",
              "       [3, 6]])"
            ]
          },
          "metadata": {},
          "execution_count": 5
        }
      ],
      "source": [
        "room_matrix[1:3,1:3]    # printing the above submatrix"
      ]
    },
    {
      "cell_type": "markdown",
      "metadata": {
        "id": "5Rn-NzcTJSVv"
      },
      "source": [
        "In the next cell, write an expression that returns a Boolean array that identifies the members of `room_matrix` which are greater than or equal to 7."
      ]
    },
    {
      "cell_type": "code",
      "execution_count": null,
      "metadata": {
        "id": "qOJ3bDQzJSVv",
        "outputId": "43841fda-5cba-43b7-be89-efcb75e42b9a",
        "colab": {
          "base_uri": "https://localhost:8080/"
        }
      },
      "outputs": [
        {
          "output_type": "execute_result",
          "data": {
            "text/plain": [
              "array([[False, False, False, False],\n",
              "       [False, False, False, False],\n",
              "       [ True, False, False, False],\n",
              "       [False, False, False, False],\n",
              "       [ True, False,  True, False]])"
            ]
          },
          "metadata": {},
          "execution_count": 6
        }
      ],
      "source": [
        "room_matrix >= 7   # printing boolean array of room_matrix which are greater than equal to 7."
      ]
    },
    {
      "cell_type": "markdown",
      "metadata": {
        "id": "C2DSqCenJp_s"
      },
      "source": [
        "In the next cell, write an expression that produces an array containing the items in `room_matrix` which are greater than or equal to 7.  Note:  This question and the previous question do not have the same answer."
      ]
    },
    {
      "cell_type": "code",
      "execution_count": null,
      "metadata": {
        "id": "2g8O5entB06A",
        "outputId": "6787b496-939b-4b14-8f00-2852f74077e4",
        "colab": {
          "base_uri": "https://localhost:8080/"
        }
      },
      "outputs": [
        {
          "output_type": "execute_result",
          "data": {
            "text/plain": [
              "array([ 8, 10,  7])"
            ]
          },
          "metadata": {},
          "execution_count": 7
        }
      ],
      "source": [
        "room_matrix[room_matrix >= 7]    # printing array conatining values of room_matrix which are greater than equal to 7."
      ]
    },
    {
      "cell_type": "markdown",
      "metadata": {
        "id": "wwR0EsO5JSVx"
      },
      "source": [
        "## Iris data exercise"
      ]
    },
    {
      "cell_type": "markdown",
      "metadata": {
        "id": "-sAlD8q_JSVx"
      },
      "source": [
        "In the next cell, use a Boolean mask to return all the rows of the iris data set whose column 3 value is greater than 1.8 (I mean the column whose **index** is 3, the last column).\n",
        "The cell is not empty because you have been provided with the code which loads the data.\n",
        "So you should keep that code and **add to it**."
      ]
    },
    {
      "cell_type": "code",
      "execution_count": null,
      "metadata": {
        "id": "RWsm4jcbJSVy"
      },
      "outputs": [],
      "source": [
        "# Given\n",
        "from sklearn import datasets\n",
        "data = datasets.load_iris()\n",
        "features = data['data']\n",
        "target = data['target']"
      ]
    },
    {
      "cell_type": "code",
      "source": [
        "x = features[:,3] > 1.8    # printing all the rows of dataset whose index 3 value is greater than 1.8. \n",
        "features[x]                # The shape of the x is (34,4)"
      ],
      "metadata": {
        "id": "CihkQxrVDG7x",
        "outputId": "fe2aab16-ddb9-4556-847f-dfa7b3f8abbf",
        "colab": {
          "base_uri": "https://localhost:8080/"
        }
      },
      "execution_count": null,
      "outputs": [
        {
          "output_type": "execute_result",
          "data": {
            "text/plain": [
              "array([[6.3, 3.3, 6. , 2.5],\n",
              "       [5.8, 2.7, 5.1, 1.9],\n",
              "       [7.1, 3. , 5.9, 2.1],\n",
              "       [6.5, 3. , 5.8, 2.2],\n",
              "       [7.6, 3. , 6.6, 2.1],\n",
              "       [7.2, 3.6, 6.1, 2.5],\n",
              "       [6.5, 3.2, 5.1, 2. ],\n",
              "       [6.4, 2.7, 5.3, 1.9],\n",
              "       [6.8, 3. , 5.5, 2.1],\n",
              "       [5.7, 2.5, 5. , 2. ],\n",
              "       [5.8, 2.8, 5.1, 2.4],\n",
              "       [6.4, 3.2, 5.3, 2.3],\n",
              "       [7.7, 3.8, 6.7, 2.2],\n",
              "       [7.7, 2.6, 6.9, 2.3],\n",
              "       [6.9, 3.2, 5.7, 2.3],\n",
              "       [5.6, 2.8, 4.9, 2. ],\n",
              "       [7.7, 2.8, 6.7, 2. ],\n",
              "       [6.7, 3.3, 5.7, 2.1],\n",
              "       [6.4, 2.8, 5.6, 2.1],\n",
              "       [7.4, 2.8, 6.1, 1.9],\n",
              "       [7.9, 3.8, 6.4, 2. ],\n",
              "       [6.4, 2.8, 5.6, 2.2],\n",
              "       [7.7, 3. , 6.1, 2.3],\n",
              "       [6.3, 3.4, 5.6, 2.4],\n",
              "       [6.9, 3.1, 5.4, 2.1],\n",
              "       [6.7, 3.1, 5.6, 2.4],\n",
              "       [6.9, 3.1, 5.1, 2.3],\n",
              "       [5.8, 2.7, 5.1, 1.9],\n",
              "       [6.8, 3.2, 5.9, 2.3],\n",
              "       [6.7, 3.3, 5.7, 2.5],\n",
              "       [6.7, 3. , 5.2, 2.3],\n",
              "       [6.3, 2.5, 5. , 1.9],\n",
              "       [6.5, 3. , 5.2, 2. ],\n",
              "       [6.2, 3.4, 5.4, 2.3]])"
            ]
          },
          "metadata": {},
          "execution_count": 19
        }
      ]
    },
    {
      "cell_type": "markdown",
      "metadata": {
        "id": "30mkWyeOJSV0"
      },
      "source": [
        "In the next cell, use a Boolean array to return all the rows representing members of class 2 in the iris data set (the Boolean array is not the answer; it is used in retrieving the answer)."
      ]
    },
    {
      "cell_type": "code",
      "execution_count": null,
      "metadata": {
        "id": "b9epMASDJSV0",
        "outputId": "198c6c8d-cd6e-4fdd-add9-004eb8ee1d2c",
        "colab": {
          "base_uri": "https://localhost:8080/"
        }
      },
      "outputs": [
        {
          "output_type": "execute_result",
          "data": {
            "text/plain": [
              "array([[6.3, 3.3, 6. , 2.5],\n",
              "       [5.8, 2.7, 5.1, 1.9],\n",
              "       [7.1, 3. , 5.9, 2.1],\n",
              "       [6.3, 2.9, 5.6, 1.8],\n",
              "       [6.5, 3. , 5.8, 2.2],\n",
              "       [7.6, 3. , 6.6, 2.1],\n",
              "       [4.9, 2.5, 4.5, 1.7],\n",
              "       [7.3, 2.9, 6.3, 1.8],\n",
              "       [6.7, 2.5, 5.8, 1.8],\n",
              "       [7.2, 3.6, 6.1, 2.5],\n",
              "       [6.5, 3.2, 5.1, 2. ],\n",
              "       [6.4, 2.7, 5.3, 1.9],\n",
              "       [6.8, 3. , 5.5, 2.1],\n",
              "       [5.7, 2.5, 5. , 2. ],\n",
              "       [5.8, 2.8, 5.1, 2.4],\n",
              "       [6.4, 3.2, 5.3, 2.3],\n",
              "       [6.5, 3. , 5.5, 1.8],\n",
              "       [7.7, 3.8, 6.7, 2.2],\n",
              "       [7.7, 2.6, 6.9, 2.3],\n",
              "       [6. , 2.2, 5. , 1.5],\n",
              "       [6.9, 3.2, 5.7, 2.3],\n",
              "       [5.6, 2.8, 4.9, 2. ],\n",
              "       [7.7, 2.8, 6.7, 2. ],\n",
              "       [6.3, 2.7, 4.9, 1.8],\n",
              "       [6.7, 3.3, 5.7, 2.1],\n",
              "       [7.2, 3.2, 6. , 1.8],\n",
              "       [6.2, 2.8, 4.8, 1.8],\n",
              "       [6.1, 3. , 4.9, 1.8],\n",
              "       [6.4, 2.8, 5.6, 2.1],\n",
              "       [7.2, 3. , 5.8, 1.6],\n",
              "       [7.4, 2.8, 6.1, 1.9],\n",
              "       [7.9, 3.8, 6.4, 2. ],\n",
              "       [6.4, 2.8, 5.6, 2.2],\n",
              "       [6.3, 2.8, 5.1, 1.5],\n",
              "       [6.1, 2.6, 5.6, 1.4],\n",
              "       [7.7, 3. , 6.1, 2.3],\n",
              "       [6.3, 3.4, 5.6, 2.4],\n",
              "       [6.4, 3.1, 5.5, 1.8],\n",
              "       [6. , 3. , 4.8, 1.8],\n",
              "       [6.9, 3.1, 5.4, 2.1],\n",
              "       [6.7, 3.1, 5.6, 2.4],\n",
              "       [6.9, 3.1, 5.1, 2.3],\n",
              "       [5.8, 2.7, 5.1, 1.9],\n",
              "       [6.8, 3.2, 5.9, 2.3],\n",
              "       [6.7, 3.3, 5.7, 2.5],\n",
              "       [6.7, 3. , 5.2, 2.3],\n",
              "       [6.3, 2.5, 5. , 1.9],\n",
              "       [6.5, 3. , 5.2, 2. ],\n",
              "       [6.2, 3.4, 5.4, 2.3],\n",
              "       [5.9, 3. , 5.1, 1.8]])"
            ]
          },
          "metadata": {},
          "execution_count": 23
        }
      ],
      "source": [
        "y = (target == 2)    # printing the boolean array which will contain all the rows of class 2\n",
        "features[y]          # The shape of y is (50,4)"
      ]
    },
    {
      "cell_type": "markdown",
      "metadata": {
        "id": "LD7NX3Y2JSV2"
      },
      "source": [
        "Extra credit:  In the next cell write an expression -- or expressions -- which returns\n",
        "all the members of class 2 in the data whose column 3 value is greater than 1.8.\n",
        "\n",
        "Hint: Set a variable to the result of one of your answers to the last two questions.\n",
        "That result is an array, and you can do more indexing on it."
      ]
    },
    {
      "cell_type": "markdown",
      "metadata": {
        "id": "GG_lQLYQB06B"
      },
      "source": [
        "Two Solutions.  The one not hinted at uses Boolean array conjunction."
      ]
    },
    {
      "cell_type": "markdown",
      "metadata": {
        "id": "uvoCmpJzB06B"
      },
      "source": [
        "Solution 2.  This one uses `&`.  Say you have X an array of numbers and you want a Boolean array\n",
        "that tells you exactly which numbers are even (`X%2 == 0`) and greater than 4 (`X > 4`).  You can\n",
        "combine these two conditions using `7`:"
      ]
    },
    {
      "cell_type": "code",
      "execution_count": null,
      "metadata": {
        "id": "Hake5bryJSV2",
        "outputId": "95094c51-4753-4488-9731-d44980a6ee58",
        "colab": {
          "base_uri": "https://localhost:8080/"
        }
      },
      "outputs": [
        {
          "output_type": "stream",
          "name": "stdout",
          "text": [
            "[[ 0  1  2  3  4]\n",
            " [ 5  6  7  8  9]\n",
            " [10 11 12 13 14]]\n"
          ]
        },
        {
          "output_type": "execute_result",
          "data": {
            "text/plain": [
              "array([[False, False, False, False, False],\n",
              "       [False,  True, False,  True, False],\n",
              "       [ True, False,  True, False,  True]])"
            ]
          },
          "metadata": {},
          "execution_count": 119
        }
      ],
      "source": [
        "# Given\n",
        "X = np.arange(15).reshape((3,5))\n",
        "print(X)\n",
        "(X%2 == 0) & (X > 4)"
      ]
    },
    {
      "cell_type": "markdown",
      "metadata": {
        "id": "cNnWiDMUB06B"
      },
      "source": [
        "To find solution 2, write a single expression that uses `&` which returns\n",
        "all the rows of the Iris data class 2 in the data whose column 3 value is greater than 1.8.\n",
        "\n",
        "This should produce a 2D array with 4 columns and 34 rows."
      ]
    },
    {
      "cell_type": "code",
      "execution_count": null,
      "metadata": {
        "id": "9Qn2V097B06B",
        "outputId": "7fbdbf4f-b816-4a1e-8f61-ff460abb7650",
        "colab": {
          "base_uri": "https://localhost:8080/"
        }
      },
      "outputs": [
        {
          "output_type": "execute_result",
          "data": {
            "text/plain": [
              "array([[6.3, 3.3, 6. , 2.5],\n",
              "       [5.8, 2.7, 5.1, 1.9],\n",
              "       [7.1, 3. , 5.9, 2.1],\n",
              "       [6.5, 3. , 5.8, 2.2],\n",
              "       [7.6, 3. , 6.6, 2.1],\n",
              "       [7.2, 3.6, 6.1, 2.5],\n",
              "       [6.5, 3.2, 5.1, 2. ],\n",
              "       [6.4, 2.7, 5.3, 1.9],\n",
              "       [6.8, 3. , 5.5, 2.1],\n",
              "       [5.7, 2.5, 5. , 2. ],\n",
              "       [5.8, 2.8, 5.1, 2.4],\n",
              "       [6.4, 3.2, 5.3, 2.3],\n",
              "       [7.7, 3.8, 6.7, 2.2],\n",
              "       [7.7, 2.6, 6.9, 2.3],\n",
              "       [6.9, 3.2, 5.7, 2.3],\n",
              "       [5.6, 2.8, 4.9, 2. ],\n",
              "       [7.7, 2.8, 6.7, 2. ],\n",
              "       [6.7, 3.3, 5.7, 2.1],\n",
              "       [6.4, 2.8, 5.6, 2.1],\n",
              "       [7.4, 2.8, 6.1, 1.9],\n",
              "       [7.9, 3.8, 6.4, 2. ],\n",
              "       [6.4, 2.8, 5.6, 2.2],\n",
              "       [7.7, 3. , 6.1, 2.3],\n",
              "       [6.3, 3.4, 5.6, 2.4],\n",
              "       [6.9, 3.1, 5.4, 2.1],\n",
              "       [6.7, 3.1, 5.6, 2.4],\n",
              "       [6.9, 3.1, 5.1, 2.3],\n",
              "       [5.8, 2.7, 5.1, 1.9],\n",
              "       [6.8, 3.2, 5.9, 2.3],\n",
              "       [6.7, 3.3, 5.7, 2.5],\n",
              "       [6.7, 3. , 5.2, 2.3],\n",
              "       [6.3, 2.5, 5. , 1.9],\n",
              "       [6.5, 3. , 5.2, 2. ],\n",
              "       [6.2, 3.4, 5.4, 2.3]])"
            ]
          },
          "metadata": {},
          "execution_count": 122
        }
      ],
      "source": [
        "result = features[x & y]             #printing the all the rows of the Iris data class 2 in the data whose column 3 value is greater than 1.8.\n",
        "result                              # The shape of result is (34, 4)"
      ]
    },
    {
      "cell_type": "markdown",
      "metadata": {
        "id": "yX3ltxTdJSV4"
      },
      "source": [
        "## Boston Housing data exercise (UCI ML housing dataset)"
      ]
    },
    {
      "cell_type": "code",
      "execution_count": 1,
      "metadata": {
        "colab": {
          "base_uri": "https://localhost:8080/"
        },
        "id": "gsSH2VhnJSV5",
        "outputId": "fa756bb0-2689-4358-df4f-62546a65eb26"
      },
      "outputs": [
        {
          "output_type": "stream",
          "name": "stdout",
          "text": [
            "(506, 13) (506,)\n"
          ]
        },
        {
          "output_type": "stream",
          "name": "stderr",
          "text": [
            "/usr/local/lib/python3.7/dist-packages/sklearn/utils/deprecation.py:87: FutureWarning: Function load_boston is deprecated; `load_boston` is deprecated in 1.0 and will be removed in 1.2.\n",
            "\n",
            "    The Boston housing prices dataset has an ethical problem. You can refer to\n",
            "    the documentation of this function for further details.\n",
            "\n",
            "    The scikit-learn maintainers therefore strongly discourage the use of this\n",
            "    dataset unless the purpose of the code is to study and educate about\n",
            "    ethical issues in data science and machine learning.\n",
            "\n",
            "    In this special case, you can fetch the dataset from the original\n",
            "    source::\n",
            "\n",
            "        import pandas as pd\n",
            "        import numpy as np\n",
            "\n",
            "\n",
            "        data_url = \"http://lib.stat.cmu.edu/datasets/boston\"\n",
            "        raw_df = pd.read_csv(data_url, sep=\"\\s+\", skiprows=22, header=None)\n",
            "        data = np.hstack([raw_df.values[::2, :], raw_df.values[1::2, :2]])\n",
            "        target = raw_df.values[1::2, 2]\n",
            "\n",
            "    Alternative datasets include the California housing dataset (i.e.\n",
            "    :func:`~sklearn.datasets.fetch_california_housing`) and the Ames housing\n",
            "    dataset. You can load the datasets as follows::\n",
            "\n",
            "        from sklearn.datasets import fetch_california_housing\n",
            "        housing = fetch_california_housing()\n",
            "\n",
            "    for the California housing dataset and::\n",
            "\n",
            "        from sklearn.datasets import fetch_openml\n",
            "        housing = fetch_openml(name=\"house_prices\", as_frame=True)\n",
            "\n",
            "    for the Ames housing dataset.\n",
            "    \n",
            "  warnings.warn(msg, category=FutureWarning)\n"
          ]
        }
      ],
      "source": [
        "# Given\n",
        "from sklearn import datasets\n",
        "boston = datasets.load_boston()\n",
        "X,Y = boston.data,boston.target\n",
        "print(X.shape, Y.shape)"
      ]
    },
    {
      "cell_type": "markdown",
      "metadata": {
        "id": "CEJyjWa0JSV7"
      },
      "source": [
        "The cell above loads the `sklearn` Boston housing data, which contains information about housing prices\n",
        "for 501 houses sold in Boston, and the values of various attributes which have been found to be useful\n",
        "in predicting home prices:\n",
        "\n",
        "```\n",
        "Index\n",
        "0         - CRIM     per capita crime rate by town\n",
        "1         - ZN       proportion of residential land zoned for lots over 25,000 sq.ft.\n",
        "2         - INDUS    proportion of non-retail business acres per town\n",
        "3         - CHAS     Charles River dummy variable (= 1 if tract bounds river; 0 otherwise)\n",
        "4         - NOX      nitric oxides concentration (parts per 10 million)\n",
        "5         - RM       average number of rooms per dwelling\n",
        "6         - AGE      proportion of owner-occupied units built prior to 1940\n",
        "7         - DIS      weighted distances to five Boston employment centres\n",
        "8         - RAD      index of accessibility to radial highways\n",
        "9         - TAX      full-value property-tax rate per $10,000\n",
        "10        - PTRATIO  pupil-teacher ratio by town\n",
        "11        - B        1000(Bk - 0.63)^2 where Bk is the proportion of blacks by town\n",
        "12        - LSTAT    % lower status of the population\n",
        "```\n",
        "\n",
        "The array `X`, defined in the cell above, is a 501x13 array containing the values of all\n",
        "these variables for 501 Boston houses.  \n",
        "\n",
        "The information stored in Y, the value to be predicted is\n",
        "\n",
        "```\n",
        "       - MEDV     Median value of owner-occupied homes in $1000's\n",
        " \n",
        "```\n",
        "\n",
        "1.  Construct an expression or expressions that creates a new table that omits all houses whose tracts\n",
        "    bound the Charles River.\n",
        "2.  Construct an expression or expressions that creates a new table containing only the CRIM column and\n",
        "    the ZN column.  This is  our new X.  Also create a new Y containing the pupil-teach ratio.\n",
        "    This is to help someone research how to predict poor education conditions.  The shape of the new X should\n",
        "    (506,2) and the shape of the new Y should be (506,).  Show that you checked this in your answer."
      ]
    },
    {
      "cell_type": "code",
      "execution_count": 2,
      "metadata": {
        "id": "L4kaM8xuJSV8",
        "outputId": "1c309d65-44e8-4483-d824-71a4a64eb718",
        "colab": {
          "base_uri": "https://localhost:8080/"
        }
      },
      "outputs": [
        {
          "output_type": "execute_result",
          "data": {
            "text/plain": [
              "array([[6.3200e-03, 1.8000e+01, 2.3100e+00, ..., 1.5300e+01, 3.9690e+02,\n",
              "        4.9800e+00],\n",
              "       [2.7310e-02, 0.0000e+00, 7.0700e+00, ..., 1.7800e+01, 3.9690e+02,\n",
              "        9.1400e+00],\n",
              "       [2.7290e-02, 0.0000e+00, 7.0700e+00, ..., 1.7800e+01, 3.9283e+02,\n",
              "        4.0300e+00],\n",
              "       ...,\n",
              "       [6.0760e-02, 0.0000e+00, 1.1930e+01, ..., 2.1000e+01, 3.9690e+02,\n",
              "        5.6400e+00],\n",
              "       [1.0959e-01, 0.0000e+00, 1.1930e+01, ..., 2.1000e+01, 3.9345e+02,\n",
              "        6.4800e+00],\n",
              "       [4.7410e-02, 0.0000e+00, 1.1930e+01, ..., 2.1000e+01, 3.9690e+02,\n",
              "        7.8800e+00]])"
            ]
          },
          "metadata": {},
          "execution_count": 2
        }
      ],
      "source": [
        "# 1. Construct an expression or expressions that creates a new table that omits all houses whose tracts bound the Charles River.\n",
        "X_without_charles_river = X[X[:,3]==0]             \n",
        "X_without_charles_river             # The shape of X_without_charles_river is (471, 13)"
      ]
    },
    {
      "cell_type": "code",
      "execution_count": 3,
      "metadata": {
        "id": "hqMyEA5nB06C",
        "outputId": "e742ddd1-a5da-4805-a733-659aa87face6",
        "colab": {
          "base_uri": "https://localhost:8080/"
        }
      },
      "outputs": [
        {
          "output_type": "execute_result",
          "data": {
            "text/plain": [
              "array([[6.3200e-03, 1.8000e+01],\n",
              "       [2.7310e-02, 0.0000e+00],\n",
              "       [2.7290e-02, 0.0000e+00],\n",
              "       ...,\n",
              "       [6.0760e-02, 0.0000e+00],\n",
              "       [1.0959e-01, 0.0000e+00],\n",
              "       [4.7410e-02, 0.0000e+00]])"
            ]
          },
          "metadata": {},
          "execution_count": 3
        }
      ],
      "source": [
        "# Construct an expression or expressions that creates a new table containing only the CRIM column and the ZN column. This is our new X.\n",
        "X_new = X[:,:2]\n",
        "X_new                 # The shape of X_new is (506, 2)"
      ]
    },
    {
      "cell_type": "code",
      "source": [
        "Y_new = X[:,10]\n",
        "Y_new.shape"
      ],
      "metadata": {
        "colab": {
          "base_uri": "https://localhost:8080/"
        },
        "id": "ijmrrcMBcKP_",
        "outputId": "ed1cfb42-8b91-4623-c994-db9a73c0f88b"
      },
      "execution_count": 4,
      "outputs": [
        {
          "output_type": "execute_result",
          "data": {
            "text/plain": [
              "(506,)"
            ]
          },
          "metadata": {},
          "execution_count": 4
        }
      ]
    },
    {
      "cell_type": "markdown",
      "metadata": {
        "id": "1KFcGIofB06C"
      },
      "source": [
        "Write an exporession that computes how many housing tracts in the data set bound\n",
        "the Charles River."
      ]
    },
    {
      "cell_type": "code",
      "execution_count": null,
      "metadata": {
        "id": "vfUftb4yB06C",
        "outputId": "e1b38729-e8b4-4bfe-debe-187d6b9216dc",
        "colab": {
          "base_uri": "https://localhost:8080/"
        }
      },
      "outputs": [
        {
          "output_type": "execute_result",
          "data": {
            "text/plain": [
              "(35, 13)"
            ]
          },
          "metadata": {},
          "execution_count": 129
        }
      ],
      "source": [
        "X_with_charles_river = X[X[:,3]==1]           # printing the all houses whose tracts bound the Charles River.\n",
        "X_with_charles_river.shape                    #  printing shape"
      ]
    },
    {
      "cell_type": "markdown",
      "metadata": {
        "id": "d-ks9d7AB06C"
      },
      "source": [
        "Checks!"
      ]
    },
    {
      "cell_type": "markdown",
      "metadata": {
        "id": "0XS6KonmB06C"
      },
      "source": [
        "## Part two"
      ]
    },
    {
      "cell_type": "code",
      "execution_count": null,
      "metadata": {
        "id": "Km6vPkZeB06D"
      },
      "outputs": [],
      "source": [
        ""
      ]
    },
    {
      "cell_type": "markdown",
      "metadata": {
        "id": "bt3IYPOHB06D"
      },
      "source": [
        "The answers for the following section are available on the inclass Boolean exercies solution notebook."
      ]
    },
    {
      "cell_type": "markdown",
      "metadata": {
        "id": "F2-lS9n39ZOY"
      },
      "source": [
        "# Boolean combinations\n",
        "\n",
        "In this section we load forest covertype data.  This is a multi class dataset that has data for 7 different forest covertypes (stored in the `target` attribute).  There are 581,012 forest plots with 54 attributes each (stored ina 581012x54 array) The first ten attributes are numerical, the last 44 are Boolean (true/false) attributes. Each of the Boolean attributes represents a qualitative soil type attribute which is either present or absent.  We will refer to all the attributes by their column index.  Thus the first attribute is attribute 0 and the last (a Boolean attribute) is attribute 53."
      ]
    },
    {
      "cell_type": "code",
      "execution_count": null,
      "metadata": {
        "id": "t0a3FWEa49nE",
        "outputId": "75cc5e64-b7fd-4469-e8ab-975f057fc44f",
        "colab": {
          "base_uri": "https://localhost:8080/"
        }
      },
      "outputs": [
        {
          "output_type": "stream",
          "name": "stdout",
          "text": [
            "(581012, 54)\n",
            "(581012,)\n"
          ]
        }
      ],
      "source": [
        "#from sklearn.datasets import load_wine\n",
        "#wdata = load_wine()\n",
        "from sklearn.datasets import fetch_covtype\n",
        "data = fetch_covtype()\n",
        "print(data.data.shape)  # data.data is the 581012 x 54 array\n",
        "print(data.target.shape)     # data.target contains the class for each instance"
      ]
    },
    {
      "cell_type": "markdown",
      "metadata": {
        "id": "gdjx769GB06D"
      },
      "source": [
        "Th first 26 columns of the plot index 50_210:"
      ]
    },
    {
      "cell_type": "code",
      "execution_count": null,
      "metadata": {
        "id": "tIBNVPPDB06D",
        "outputId": "67456473-0350-40ea-a422-767587426a75",
        "colab": {
          "base_uri": "https://localhost:8080/"
        }
      },
      "outputs": [
        {
          "output_type": "execute_result",
          "data": {
            "text/plain": [
              "array([2.988e+03, 2.250e+02, 2.000e+00, 5.520e+02, 9.200e+01, 5.492e+03,\n",
              "       2.160e+02, 2.410e+02, 1.620e+02, 4.290e+03, 1.000e+00, 0.000e+00,\n",
              "       0.000e+00, 0.000e+00, 0.000e+00, 0.000e+00, 0.000e+00, 0.000e+00,\n",
              "       0.000e+00, 0.000e+00, 0.000e+00, 0.000e+00, 0.000e+00, 0.000e+00,\n",
              "       0.000e+00, 0.000e+00])"
            ]
          },
          "metadata": {},
          "execution_count": 62
        }
      ],
      "source": [
        "# given\n",
        "data.data[50_210,:26]"
      ]
    },
    {
      "cell_type": "markdown",
      "metadata": {
        "id": "tBB8OhkIB06D"
      },
      "source": [
        "The last 28 column of the plot index 50_210:"
      ]
    },
    {
      "cell_type": "code",
      "execution_count": null,
      "metadata": {
        "id": "imhbKKH-B06D",
        "outputId": "f66a98c7-45b6-4de9-8b51-8d2f8be17c7c",
        "colab": {
          "base_uri": "https://localhost:8080/"
        }
      },
      "outputs": [
        {
          "output_type": "execute_result",
          "data": {
            "text/plain": [
              "array([0., 0., 0., 0., 0., 0., 0., 0., 0., 0., 0., 0., 0., 0., 0., 0., 1.,\n",
              "       0., 0., 0., 0., 0., 0., 0., 0., 0., 0., 0.])"
            ]
          },
          "metadata": {},
          "execution_count": 131
        }
      ],
      "source": [
        "# given\n",
        "data.data[50_210,26:]"
      ]
    },
    {
      "cell_type": "markdown",
      "metadata": {
        "id": "nlOSWhkBMKAK"
      },
      "source": [
        "[The Boolean arrays and masks notebook](https://github.com/gawron/python-for-social-science/blob/master/numpy/02_06_Boolean_Arrays_and_Masks.ipynb) discusses combining Boolean arrays with Boolean operators `&` (conceptually 'and') and `|` (conceptually 'or').   We can add to that `~` (conceptually 'not') to complete the list.  Look at the examples there.\n",
        "\n",
        " \n",
        "The `sklearn` description of the covertype dataset is printed in the cell below. For a fuller understanding of the attributes in the dataset you might want to look at [the original UCI data set description.](https://archive.ics.uci.edu/ml/datasets/Covertype)"
      ]
    },
    {
      "cell_type": "markdown",
      "metadata": {
        "id": "yB3TKSeCB06E"
      },
      "source": [
        "Forest covertypes\n",
        "---------------------\n",
        "\n",
        "The samples in this dataset correspond to 30×30m patches of forest in the US,\n",
        "collected for the task of predicting each patch's cover type,\n",
        "i.e. the dominant species of tree.\n",
        "There are seven covertypes, making this a multiclass classification problem.\n",
        "Each sample has 54 features, described on the\n",
        "[dataset's homepage](https://archive.ics.uci.edu/ml/datasets/Covertype>).\n",
        "Some of the features are boolean indicators\n",
        "while others are discrete or continuous measurements.\n",
        "\n",
        "**Data Set Characteristics:**\n",
        "\n",
        "    =================   ============\n",
        "    Classes                        7\n",
        "    Samples total             581012\n",
        "    Dimensionality                54\n",
        "    Features                     int\n",
        "    =================   ============\n",
        "\n",
        "The function `sklearn.datasets.fetch_covtype` will load the covertype dataset;\n",
        "it returns a dictionary-like object\n",
        "with the feature matrix in the ``data`` member\n",
        "and the target values in ``target``.\n",
        "The dataset will be downloaded from the web if necessary."
      ]
    },
    {
      "cell_type": "markdown",
      "metadata": {
        "id": "bXZsBxT6Br8C"
      },
      "source": [
        "`data.data` attribute is a `numpy` array containing the array.  As an example to help with this problem.  To compute an an array containing just the rows in which attribute 0 is greater than 50 you do. "
      ]
    },
    {
      "cell_type": "code",
      "execution_count": null,
      "metadata": {
        "colab": {
          "base_uri": "https://localhost:8080/"
        },
        "id": "dVZgDsBLLtxN",
        "outputId": "e5b57da3-18f2-488a-943d-69ac982b5180"
      },
      "outputs": [
        {
          "output_type": "stream",
          "name": "stdout",
          "text": [
            "(581012, 54)\n"
          ]
        }
      ],
      "source": [
        "# given\n",
        "WW = data.data > 50\n",
        "print(WW.shape)"
      ]
    },
    {
      "cell_type": "markdown",
      "metadata": {
        "id": "xgTX9Qm1A-va"
      },
      "source": [
        "The covertypes (or dominant tree) for each forest plot are in `data.target`, which is often the attribute used to store the classes in an `sklearn` clasification dataset.  There is data for 581,012 plots\n",
        "so this is a 1D array of length 581,012.  \n",
        "\n",
        "There are 7 distinct fiorest tyoes that a plot can have."
      ]
    },
    {
      "cell_type": "code",
      "execution_count": null,
      "metadata": {
        "colab": {
          "base_uri": "https://localhost:8080/"
        },
        "id": "uVjutdGL7KPL",
        "outputId": "4b335481-72c1-4d8a-8ea6-5c836b4391b3"
      },
      "outputs": [
        {
          "output_type": "stream",
          "name": "stdout",
          "text": [
            "581012\n",
            "{1, 2, 3, 4, 5, 6, 7}\n"
          ]
        }
      ],
      "source": [
        "# given\n",
        "print(len(data.target))\n",
        "print(set(data.target))"
      ]
    },
    {
      "cell_type": "markdown",
      "metadata": {
        "id": "UaUmxnfDB06F"
      },
      "source": [
        "### The problem"
      ]
    },
    {
      "cell_type": "markdown",
      "metadata": {
        "id": "L-fcMVr_Ls7q"
      },
      "source": [
        "1. Write an expression that retrieves all rows that a value greater than 300 in the column indexed 1 (second column) and a value equal to 1 for the column indexed 12. \n",
        "\n",
        "2. Write an expression that retrieves the rows from either class 3 or class 5  that have a value greater than 300 in the column indexed 1 (second column) and a value equal to 1 for the column indexed 12. \n",
        "\n",
        "3. Write an expression that counts the rows from either class 3 or class 5  that have a value greater than 300 in the column indexed 1 (second column) and a value equal to 1 for the column indexed 12. "
      ]
    },
    {
      "cell_type": "code",
      "execution_count": null,
      "metadata": {
        "id": "4XesygqiB06F",
        "outputId": "ae039f28-d6f8-4a3d-d65d-35ff73f40574",
        "colab": {
          "base_uri": "https://localhost:8080/"
        }
      },
      "outputs": [
        {
          "output_type": "execute_result",
          "data": {
            "text/plain": [
              "array([[2780.,  346.,   13., ...,    0.,    0.,    0.],\n",
              "       [2725.,  353.,   19., ...,    0.,    0.,    0.],\n",
              "       [2747.,  329.,   19., ...,    0.,    0.,    0.],\n",
              "       ...,\n",
              "       [2619.,  336.,   13., ...,    0.,    0.,    0.],\n",
              "       [2630.,  317.,   12., ...,    0.,    0.,    0.],\n",
              "       [2633.,  309.,    9., ...,    0.,    0.,    0.]])"
            ]
          },
          "metadata": {},
          "execution_count": 134
        }
      ],
      "source": [
        "# Write an expression that retrieves all rows that a value greater than 300 in the column indexed 1 (second column) and a value equal to 1 for the column indexed 12.\n",
        "\n",
        "result_1 = data.data[(data.data[:,12] == 1) & (data.data[:,1]>300)]\n",
        "result_1                # The shape of result_1 is (45076, 54)"
      ]
    },
    {
      "cell_type": "code",
      "source": [
        "# Write an expression that retrieves the rows from either class 3 or class 5 that have a value greater than 300 in the column indexed 1 (second column) and \n",
        "# a value equal to 1 for the column indexed 12.\n",
        "\n",
        "result_2 = data.data[((data.target == 3) | (data.target == 5)) & (data.data[:,12] == 1) & (data.data[:,1]>300)]\n",
        "result_2"
      ],
      "metadata": {
        "id": "NjRgLmAPN16O",
        "outputId": "5c62ffdf-8873-451c-8b90-dad598805dfc",
        "colab": {
          "base_uri": "https://localhost:8080/"
        }
      },
      "execution_count": null,
      "outputs": [
        {
          "output_type": "execute_result",
          "data": {
            "text/plain": [
              "array([[2556.,  334.,   21., ...,    0.,    0.,    0.],\n",
              "       [2566.,  326.,   11., ...,    0.,    0.,    0.],\n",
              "       [2577.,  323.,   10., ...,    0.,    0.,    0.],\n",
              "       ...,\n",
              "       [2614.,  333.,    6., ...,    0.,    0.,    0.],\n",
              "       [2621.,  359.,   10., ...,    0.,    0.,    0.],\n",
              "       [2626.,  328.,   11., ...,    0.,    0.,    0.]])"
            ]
          },
          "metadata": {},
          "execution_count": 135
        }
      ]
    },
    {
      "cell_type": "code",
      "source": [
        "result_2.shape         # The shape of result_2 is (45076, 54)"
      ],
      "metadata": {
        "id": "8NpeSksoOM1F",
        "outputId": "92afc389-2949-4a9b-ea67-fc062b860ae4",
        "colab": {
          "base_uri": "https://localhost:8080/"
        }
      },
      "execution_count": null,
      "outputs": [
        {
          "output_type": "execute_result",
          "data": {
            "text/plain": [
              "(1261, 54)"
            ]
          },
          "metadata": {},
          "execution_count": 136
        }
      ]
    },
    {
      "cell_type": "markdown",
      "metadata": {
        "id": "MdNH13MJ1wu_"
      },
      "source": [
        ""
      ]
    }
  ],
  "metadata": {
    "colab": {
      "name": "Assignment_4_numpy.ipynb",
      "provenance": [],
      "include_colab_link": true
    },
    "kernelspec": {
      "display_name": "Python 3",
      "language": "python",
      "name": "python3"
    },
    "language_info": {
      "codemirror_mode": {
        "name": "ipython",
        "version": 3
      },
      "file_extension": ".py",
      "mimetype": "text/x-python",
      "name": "python",
      "nbconvert_exporter": "python",
      "pygments_lexer": "ipython3",
      "version": "3.7.6"
    },
    "name": "_merged",
    "toc": {
      "base_numbering": 1,
      "nav_menu": {},
      "number_sections": true,
      "sideBar": true,
      "skip_h1_title": false,
      "title_cell": "Table of Contents",
      "title_sidebar": "Contents",
      "toc_cell": false,
      "toc_position": {},
      "toc_section_display": true,
      "toc_window_display": false
    }
  },
  "nbformat": 4,
  "nbformat_minor": 0
}