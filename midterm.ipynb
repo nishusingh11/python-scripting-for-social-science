{
  "cells": [
    {
      "cell_type": "markdown",
      "metadata": {
        "id": "view-in-github",
        "colab_type": "text"
      },
      "source": [
        "<a href=\"https://colab.research.google.com/github/nishusingh11/python-scripting-for-social-science/blob/main/midterm.ipynb\" target=\"_parent\"><img src=\"https://colab.research.google.com/assets/colab-badge.svg\" alt=\"Open In Colab\"/></a>"
      ]
    },
    {
      "cell_type": "code",
      "metadata": {
        "id": "LXs4hfRjwmqL"
      },
      "source": [
        "# Part 1 Containers"
      ],
      "execution_count": null,
      "outputs": []
    },
    {
      "cell_type": "markdown",
      "metadata": {
        "id": "xCcNY4Q0hcfF"
      },
      "source": [
        "You must execute the next cell, which we will refer to as the **data cell**, to do the problems in this section."
      ]
    },
    {
      "cell_type": "code",
      "execution_count": null,
      "metadata": {
        "id": "WJhW54oOhcfH"
      },
      "outputs": [],
      "source": [
        "# Data cell\n",
        "\n",
        "epsilon_left = 'abcde'\n",
        "epsilon_right = 'zyxwv'\n",
        "epsilon = list(zip(epsilon_right,epsilon_left))\n",
        "fruit = ['tomato','cabbage','rambutan','persimmon','mangosteen']\n",
        "frittata = {'alpha': epsilon_right + epsilon_left,\n",
        "            'beta': epsilon_left + epsilon_right,\n",
        "            'delta': fruit,\n",
        "            'gamma': dict(epsilon)}"
      ]
    },
    {
      "cell_type": "markdown",
      "metadata": {
        "id": "eK84bwDIhcfI"
      },
      "source": [
        "Using the containers in the data cell, write a single Python expression (so, **not** a for-loop) which returns the given values.  Sometimes there are actually many possible answers.  Try for the simplest."
      ]
    },
    {
      "cell_type": "code",
      "source": [
        "# Checking\n",
        "epsilon_left"
      ],
      "metadata": {
        "id": "cF7vgiO3i9l4",
        "outputId": "0de3e617-7a69-4d30-da4e-21a183732eec",
        "colab": {
          "base_uri": "https://localhost:8080/",
          "height": 35
        }
      },
      "execution_count": null,
      "outputs": [
        {
          "output_type": "execute_result",
          "data": {
            "text/plain": [
              "'abcde'"
            ],
            "application/vnd.google.colaboratory.intrinsic+json": {
              "type": "string"
            }
          },
          "metadata": {},
          "execution_count": 2
        }
      ]
    },
    {
      "cell_type": "code",
      "source": [
        "# Checking\n",
        "epsilon_right"
      ],
      "metadata": {
        "id": "llqaDEGSi_FD",
        "outputId": "643e7f28-2846-46ea-bbba-7bae0916444f",
        "colab": {
          "base_uri": "https://localhost:8080/",
          "height": 35
        }
      },
      "execution_count": null,
      "outputs": [
        {
          "output_type": "execute_result",
          "data": {
            "text/plain": [
              "'zyxwv'"
            ],
            "application/vnd.google.colaboratory.intrinsic+json": {
              "type": "string"
            }
          },
          "metadata": {},
          "execution_count": 3
        }
      ]
    },
    {
      "cell_type": "code",
      "source": [
        "# Checking\n",
        "epsilon"
      ],
      "metadata": {
        "id": "_wnx-QA_i_CW",
        "outputId": "e773f645-66d5-4626-bf49-667cb9fa6f8f",
        "colab": {
          "base_uri": "https://localhost:8080/"
        }
      },
      "execution_count": null,
      "outputs": [
        {
          "output_type": "execute_result",
          "data": {
            "text/plain": [
              "[('z', 'a'), ('y', 'b'), ('x', 'c'), ('w', 'd'), ('v', 'e')]"
            ]
          },
          "metadata": {},
          "execution_count": 4
        }
      ]
    },
    {
      "cell_type": "code",
      "source": [
        "# Checking\n",
        "fruit"
      ],
      "metadata": {
        "id": "G9OSM5Hsi_Ad",
        "outputId": "369b420f-247c-4999-b78a-4df2411b594a",
        "colab": {
          "base_uri": "https://localhost:8080/"
        }
      },
      "execution_count": null,
      "outputs": [
        {
          "output_type": "execute_result",
          "data": {
            "text/plain": [
              "['tomato', 'cabbage', 'rambutan', 'persimmon', 'mangosteen']"
            ]
          },
          "metadata": {},
          "execution_count": 5
        }
      ]
    },
    {
      "cell_type": "code",
      "source": [
        "# Checking\n",
        "frittata"
      ],
      "metadata": {
        "id": "lqUECz_qjHu3",
        "outputId": "ec88af72-540f-42db-f391-616597edc74c",
        "colab": {
          "base_uri": "https://localhost:8080/"
        }
      },
      "execution_count": null,
      "outputs": [
        {
          "output_type": "execute_result",
          "data": {
            "text/plain": [
              "{'alpha': 'zyxwvabcde',\n",
              " 'beta': 'abcdezyxwv',\n",
              " 'delta': ['tomato', 'cabbage', 'rambutan', 'persimmon', 'mangosteen'],\n",
              " 'gamma': {'v': 'e', 'w': 'd', 'x': 'c', 'y': 'b', 'z': 'a'}}"
            ]
          },
          "metadata": {},
          "execution_count": 6
        }
      ]
    },
    {
      "cell_type": "markdown",
      "metadata": {
        "id": "6BvAi_uMhcfJ"
      },
      "source": [
        "# 1.1\n",
        "\n",
        "Return `'de'`."
      ]
    },
    {
      "cell_type": "code",
      "execution_count": null,
      "metadata": {
        "scrolled": true,
        "id": "BEYE7aH8hcfJ",
        "outputId": "b31961db-bee8-4c8c-dac9-7ca093373e9a",
        "colab": {
          "base_uri": "https://localhost:8080/",
          "height": 35
        }
      },
      "outputs": [
        {
          "output_type": "execute_result",
          "data": {
            "text/plain": [
              "'de'"
            ],
            "application/vnd.google.colaboratory.intrinsic+json": {
              "type": "string"
            }
          },
          "metadata": {},
          "execution_count": 7
        }
      ],
      "source": [
        "# Answer 1.1\n",
        "# epsilon_left = 'abcde'\n",
        "epsilon_left[3:]            # Accessing 'de' using splice."
      ]
    },
    {
      "cell_type": "markdown",
      "metadata": {
        "id": "Ub00qL--hcfK"
      },
      "source": [
        "# 1.2\n",
        "\n",
        "Return `'wvab'`."
      ]
    },
    {
      "cell_type": "code",
      "execution_count": null,
      "metadata": {
        "id": "cG0wR381hcfL",
        "outputId": "597241c8-3cd4-4593-9be7-68879c411838",
        "colab": {
          "base_uri": "https://localhost:8080/",
          "height": 35
        }
      },
      "outputs": [
        {
          "output_type": "execute_result",
          "data": {
            "text/plain": [
              "'wvab'"
            ],
            "application/vnd.google.colaboratory.intrinsic+json": {
              "type": "string"
            }
          },
          "metadata": {},
          "execution_count": 8
        }
      ],
      "source": [
        "# Answer 1.2\n",
        "# frittata is the dictionary, where 'alpha' is the key and alpha is containing string.\n",
        "# 'alpha': 'zyxwvabcde'\n",
        "\n",
        "frittata['alpha'][3:7]              # Accessing 'wvab' using splice."
      ]
    },
    {
      "cell_type": "markdown",
      "metadata": {
        "id": "v6PjcQEehcfM"
      },
      "source": [
        "# 1.3\n",
        "\n",
        "Return `'rambutan'`."
      ]
    },
    {
      "cell_type": "code",
      "execution_count": null,
      "metadata": {
        "id": "cUFa_mTLhcfM",
        "outputId": "5df8212e-6bdf-431e-90b5-65c32343b54b",
        "colab": {
          "base_uri": "https://localhost:8080/",
          "height": 35
        }
      },
      "outputs": [
        {
          "output_type": "execute_result",
          "data": {
            "text/plain": [
              "'rambutan'"
            ],
            "application/vnd.google.colaboratory.intrinsic+json": {
              "type": "string"
            }
          },
          "metadata": {},
          "execution_count": 9
        }
      ],
      "source": [
        "# Answer 1.3\n",
        "# fruit is the list whic is contatinig collection of strings.\n",
        "fruit[2]                            # 'rambutan' is stored at 2nd index."
      ]
    },
    {
      "cell_type": "markdown",
      "metadata": {
        "id": "s95JfCdShcfN"
      },
      "source": [
        "# 1.4\n",
        "\n",
        "Return `'sim'`."
      ]
    },
    {
      "cell_type": "code",
      "execution_count": null,
      "metadata": {
        "id": "W-wit_ajhcfN",
        "outputId": "0ab196bc-3996-4f96-b2db-0d66edfaea64",
        "colab": {
          "base_uri": "https://localhost:8080/",
          "height": 35
        }
      },
      "outputs": [
        {
          "output_type": "execute_result",
          "data": {
            "text/plain": [
              "'sim'"
            ],
            "application/vnd.google.colaboratory.intrinsic+json": {
              "type": "string"
            }
          },
          "metadata": {},
          "execution_count": 10
        }
      ],
      "source": [
        "# Answer 1.4\n",
        "# fruit is the list whic is contatinig collection of strings.\n",
        "fruit[3][3:6]                        # splicing 'sim' from word 'persimmon' which is stored at index 3rd."
      ]
    },
    {
      "cell_type": "markdown",
      "metadata": {
        "id": "7x6oVvf5hcfO"
      },
      "source": [
        "# 1.5\n",
        "\n",
        "Return {'z': 'a', 'y': 'b', 'x': 'c', 'w': 'd', 'v': 'e'}"
      ]
    },
    {
      "cell_type": "code",
      "source": [
        "# checking \n",
        "{'z': 'a', 'y': 'b', 'x': 'c', 'w': 'd', 'v': 'e'} == frittata['gamma']"
      ],
      "metadata": {
        "colab": {
          "base_uri": "https://localhost:8080/"
        },
        "id": "t6CFD4NFEEP2",
        "outputId": "69f9ef9c-ef80-4aa7-d14c-d3f9d4c421a9"
      },
      "execution_count": null,
      "outputs": [
        {
          "output_type": "execute_result",
          "data": {
            "text/plain": [
              "True"
            ]
          },
          "metadata": {},
          "execution_count": 11
        }
      ]
    },
    {
      "cell_type": "code",
      "source": [
        "# Answer 1.5\n",
        "# frittata['gamma'] is containing the nested dictionary.\n",
        "frittata['gamma']                  # Above cell showing both are same. "
      ],
      "metadata": {
        "colab": {
          "base_uri": "https://localhost:8080/"
        },
        "id": "4mOp189ktT6y",
        "outputId": "051e48d5-bcc1-4420-dd57-4e1130200f3c"
      },
      "execution_count": null,
      "outputs": [
        {
          "output_type": "execute_result",
          "data": {
            "text/plain": [
              "{'v': 'e', 'w': 'd', 'x': 'c', 'y': 'b', 'z': 'a'}"
            ]
          },
          "metadata": {},
          "execution_count": 12
        }
      ]
    },
    {
      "cell_type": "markdown",
      "metadata": {
        "id": "z9Ux_YofhcfP"
      },
      "source": [
        "# 1.6\n",
        "\n",
        "Return \n",
        "\n",
        "`[('x', 'c'), ('w', 'd')]`"
      ]
    },
    {
      "cell_type": "code",
      "execution_count": null,
      "metadata": {
        "id": "_PJJCQnUhcfP",
        "outputId": "cdce4a4a-96b2-47ff-e249-dcd4e68dfad5",
        "colab": {
          "base_uri": "https://localhost:8080/"
        }
      },
      "outputs": [
        {
          "output_type": "execute_result",
          "data": {
            "text/plain": [
              "[('x', 'c'), ('w', 'd')]"
            ]
          },
          "metadata": {},
          "execution_count": 13
        }
      ],
      "source": [
        "# Answer 1.6\n",
        "# epsilon is the list of tuples.\n",
        "epsilon[2:4]                        # Accessing by splicing."
      ]
    },
    {
      "cell_type": "markdown",
      "metadata": {
        "id": "cc5jFTSXhcfP"
      },
      "source": [
        "# 1.7\n",
        "\n",
        "Compare the results in the next two cells.\n",
        "\n",
        "Explain why one expression raises an `Exception` and the other does not, even\n",
        "though both involve accessing data defined in `epsilon`."
      ]
    },
    {
      "cell_type": "code",
      "execution_count": null,
      "metadata": {
        "scrolled": true,
        "id": "InfMIwUphcfQ",
        "outputId": "951f6c67-3690-45fb-fe09-c5d57f7b3047",
        "colab": {
          "base_uri": "https://localhost:8080/",
          "height": 183
        }
      },
      "outputs": [
        {
          "output_type": "error",
          "ename": "TypeError",
          "evalue": "ignored",
          "traceback": [
            "\u001b[0;31m---------------------------------------------------------------------------\u001b[0m",
            "\u001b[0;31mTypeError\u001b[0m                                 Traceback (most recent call last)",
            "\u001b[0;32m<ipython-input-78-73f005fd6d7a>\u001b[0m in \u001b[0;36m<module>\u001b[0;34m()\u001b[0m\n\u001b[1;32m      1\u001b[0m \u001b[0;31m# Given\u001b[0m\u001b[0;34m\u001b[0m\u001b[0;34m\u001b[0m\u001b[0;34m\u001b[0m\u001b[0m\n\u001b[0;32m----> 2\u001b[0;31m \u001b[0mepsilon\u001b[0m\u001b[0;34m[\u001b[0m\u001b[0;34m'x'\u001b[0m\u001b[0;34m]\u001b[0m\u001b[0;34m\u001b[0m\u001b[0;34m\u001b[0m\u001b[0m\n\u001b[0m",
            "\u001b[0;31mTypeError\u001b[0m: list indices must be integers or slices, not str"
          ]
        }
      ],
      "source": [
        "# Given\n",
        "epsilon['x']"
      ]
    },
    {
      "cell_type": "code",
      "execution_count": null,
      "metadata": {
        "id": "sm__77qzhcfR",
        "outputId": "9df7e67a-8010-415b-88a3-1fced2c71b7f"
      },
      "outputs": [
        {
          "data": {
            "text/plain": [
              "'c'"
            ]
          },
          "execution_count": 5,
          "metadata": {},
          "output_type": "execute_result"
        }
      ],
      "source": [
        "# Given\n",
        "frittata['gamma']['x']"
      ]
    },
    {
      "cell_type": "markdown",
      "metadata": {
        "id": "ixPV4JR-hcfR"
      },
      "source": [
        "[Answer 1.7]\n",
        "\n",
        "In first cell, epsilon is the list of tuple, each tuple is containing the 2 letters. We can only access the list by index and index must be integer.\n",
        "\n",
        "In second cell, frittata is the dictionary object and frittata['gamma'] is nestesd dictionary. frittata['gamma']['x'] means we are accessing the value stored at key 'x' which is 'c'.\n"
      ]
    },
    {
      "cell_type": "markdown",
      "metadata": {
        "id": "yp2uKuCahcfS"
      },
      "source": [
        "# Part 2 Functions, Loops"
      ]
    },
    {
      "cell_type": "markdown",
      "metadata": {
        "id": "tCy6PxIWhcfS"
      },
      "source": [
        "You must execute the data cell to do the problems in this section."
      ]
    },
    {
      "cell_type": "code",
      "execution_count": null,
      "metadata": {
        "id": "n4hfRROBhcfS"
      },
      "outputs": [],
      "source": [
        "# Data cell\n",
        "\n",
        "import numpy as np\n",
        "\n",
        "xx = np.arange(0,26,4)\n",
        "\n",
        "sad_story = \"\"\"Billy the Kid lived in the Wild West long ago .\n",
        "He was an outlaw .\n",
        "He was friends with Pat Garrett who was a lawman .\n",
        "One day Pat Garrett had to bring Billy the Kid in .\n",
        "Billy would not come .\n",
        "They had a gunfight and Pat shot his friend Billy .\n",
        "\"\"\""
      ]
    },
    {
      "cell_type": "markdown",
      "metadata": {
        "id": "pBDU-BA9hcfS"
      },
      "source": [
        "# 2.1\n",
        "\n",
        "Write a loop (it can be a list comprehension) that computes a list of the numbers in `xx` that arew divisible by 3.\n",
        "\n",
        "Do not import any python packages to help (that would suggest that you have\n",
        "not been doing the material in the first part of the class and have done a google search to solve this problem).\n",
        "\n",
        "You may find it useful to be reminded of the `%`-operator:\n",
        "\n",
        "x%y\n",
        "\n",
        "returns the remainder when x is divided by y.  So, for example,\n",
        "\n",
        "```\n",
        ">>> 17%5\n",
        "2\n",
        "```\n",
        "\n",
        "Note: although `xx` is a numpy array, for the purposes of this section you\n",
        "may treat it as if it were a list."
      ]
    },
    {
      "cell_type": "code",
      "source": [
        "# Checking\n",
        "xx"
      ],
      "metadata": {
        "id": "JCv7PUi998T_",
        "outputId": "4fa485fe-d573-47ef-b85c-78a5b5345217",
        "colab": {
          "base_uri": "https://localhost:8080/"
        }
      },
      "execution_count": null,
      "outputs": [
        {
          "output_type": "execute_result",
          "data": {
            "text/plain": [
              "array([ 0,  4,  8, 12, 16, 20, 24])"
            ]
          },
          "metadata": {},
          "execution_count": 15
        }
      ]
    },
    {
      "cell_type": "code",
      "execution_count": null,
      "metadata": {
        "scrolled": true,
        "id": "87Q3pc7ihcfT",
        "outputId": "133c9f17-f3c3-4b4e-a6ac-8ceff0366418",
        "colab": {
          "base_uri": "https://localhost:8080/"
        }
      },
      "outputs": [
        {
          "output_type": "execute_result",
          "data": {
            "text/plain": [
              "[0, 12, 24]"
            ]
          },
          "metadata": {},
          "execution_count": 24
        }
      ],
      "source": [
        "# Answer 2.1\n",
        "# Creating list by list comprehension that computing the list of numbers in xx that are divisible by 3 (using modulus operator).\n",
        "list1 = [num for num in xx if num % 3 == 0]        # storing list in list1 variable\n",
        "list1                                             # Printing list1"
      ]
    },
    {
      "cell_type": "markdown",
      "metadata": {
        "id": "RTySOpEehcfU"
      },
      "source": [
        "# 2.2\n",
        "\n",
        "Write a for-loop (it may be a list comprehension) that builds a list containing all instances of the letter  `t` in `sad_story`"
      ]
    },
    {
      "cell_type": "code",
      "execution_count": null,
      "metadata": {
        "id": "dMxmegaDhcfV",
        "outputId": "7d27c344-e23b-4e06-d9fe-a0b4bc9653d2",
        "colab": {
          "base_uri": "https://localhost:8080/"
        }
      },
      "outputs": [
        {
          "output_type": "execute_result",
          "data": {
            "text/plain": [
              "['t',\n",
              " 't',\n",
              " 't',\n",
              " 't',\n",
              " 't',\n",
              " 't',\n",
              " 't',\n",
              " 't',\n",
              " 't',\n",
              " 't',\n",
              " 't',\n",
              " 't',\n",
              " 't',\n",
              " 't',\n",
              " 't',\n",
              " 't',\n",
              " 't']"
            ]
          },
          "metadata": {},
          "execution_count": 23
        }
      ],
      "source": [
        "# Answer 2.2\n",
        "# Creating list by list comprehension that will contain all the instatnces of letter t in sad_story.\n",
        "list2 = [ char for char in sad_story if char == 't']\n",
        "list2             # length of list2 is 17"
      ]
    },
    {
      "cell_type": "markdown",
      "metadata": {
        "id": "2JArEE4thcfV"
      },
      "source": [
        "# 2.3\n",
        "\n",
        "Write a for-loop (it may be a list comprehension) that builds a list containing all instances of the word  `the` in `sad_story`."
      ]
    },
    {
      "cell_type": "code",
      "source": [
        "# creating new_list which will contain the all the words in sad_story using split().\n",
        "new_list = sad_story.split()"
      ],
      "metadata": {
        "id": "87nwIv8V_24d"
      },
      "execution_count": null,
      "outputs": []
    },
    {
      "cell_type": "code",
      "execution_count": null,
      "metadata": {
        "id": "NzJnpTwWhcfV",
        "outputId": "d78a92cf-1302-4977-e9dc-4e1d898596f5",
        "colab": {
          "base_uri": "https://localhost:8080/"
        }
      },
      "outputs": [
        {
          "output_type": "execute_result",
          "data": {
            "text/plain": [
              "['the', 'the', 'the']"
            ]
          },
          "metadata": {},
          "execution_count": 25
        }
      ],
      "source": [
        "# Answer 2.3\n",
        "# list3 the output list which will contain the all the instances of the word 'the' present in sad_story.\n",
        "list3 = [word for word in new_list if word == \"the\"]\n",
        "list3           # length of the list3 is 3"
      ]
    },
    {
      "cell_type": "markdown",
      "metadata": {
        "id": "5OiWNqoXhcfV"
      },
      "source": [
        "# 2.4\n",
        "\n",
        "Write a for loop that creates a dictionary containing the counts of all the words\n",
        "in `sad_story`.  Do not import any Python modules. \n",
        "\n",
        "Call your dictonary `wd_cts`.  If your program is correct `wd_cts`\n",
        "should contain the following count:\n",
        "\n",
        "```\n",
        ">>> wd_counts['in']\n",
        "2\n",
        "```"
      ]
    },
    {
      "cell_type": "code",
      "execution_count": null,
      "metadata": {
        "id": "btvXkHkVhcfV",
        "outputId": "53d1ba98-2f6a-45a9-9d49-349efe36302e",
        "colab": {
          "base_uri": "https://localhost:8080/"
        }
      },
      "outputs": [
        {
          "output_type": "execute_result",
          "data": {
            "text/plain": [
              "{'.': 6,\n",
              " 'Billy': 4,\n",
              " 'Garrett': 2,\n",
              " 'He': 2,\n",
              " 'Kid': 2,\n",
              " 'One': 1,\n",
              " 'Pat': 3,\n",
              " 'They': 1,\n",
              " 'West': 1,\n",
              " 'Wild': 1,\n",
              " 'a': 2,\n",
              " 'ago': 1,\n",
              " 'an': 1,\n",
              " 'and': 1,\n",
              " 'bring': 1,\n",
              " 'come': 1,\n",
              " 'day': 1,\n",
              " 'friend': 1,\n",
              " 'friends': 1,\n",
              " 'gunfight': 1,\n",
              " 'had': 2,\n",
              " 'his': 1,\n",
              " 'in': 2,\n",
              " 'lawman': 1,\n",
              " 'lived': 1,\n",
              " 'long': 1,\n",
              " 'not': 1,\n",
              " 'outlaw': 1,\n",
              " 'shot': 1,\n",
              " 'the': 3,\n",
              " 'to': 1,\n",
              " 'was': 3,\n",
              " 'who': 1,\n",
              " 'with': 1,\n",
              " 'would': 1}"
            ]
          },
          "metadata": {},
          "execution_count": 26
        }
      ],
      "source": [
        "# Answer 2.4\n",
        "wd_counts = {}                           # creating empty dictionary.\n",
        "for word in new_list:                    # looping through new_list to calculate the frequency of each word present in sad_story.\n",
        "    if word not in wd_counts:\n",
        "        wd_counts[word] = 1\n",
        "    else:\n",
        "        wd_counts[word] += 1\n",
        "wd_counts                                # Printing the resultant dictionary"
      ]
    },
    {
      "cell_type": "markdown",
      "metadata": {
        "id": "BwgQwGgAhcfW"
      },
      "source": [
        "# 2.5\n",
        "\n",
        "Write a **function** `find_word_forms` that takes a string `text_str` and a word `form` as its **two** arguments and returns all **words** in `text_str` that end with `form`.\n",
        "Write this without importing any Python modules.\n",
        "\n",
        "Here are some tests that your function should pass:\n",
        "\n",
        "```\n",
        ">>> find_word_forms(sad_story, 'ing')\n",
        "['bring']\n",
        ">>> find_word_forms(sad_story, 'ed')\n",
        "['lived']\n",
        ">>> find_word_forms(\"He 's sending birds on the wing .\", 'ing')\n",
        "['sending', 'wing']\n",
        ">>> find_word_forms(sad_story, 'g')\n",
        "['long', 'bring']\n",
        "```\n",
        "\n",
        "Hint:  You may find it helpful to remember the\n",
        "string method `endswith`."
      ]
    },
    {
      "cell_type": "code",
      "execution_count": null,
      "metadata": {
        "id": "RZr5xkW2hcfW"
      },
      "outputs": [],
      "source": [
        "# Answer 2.5\n",
        "def find_word_forms(text_str, form):                 #  Implementing function find_word_forms(text_str, form) to check whether the the words in text_str is end with form.\n",
        "    result = []                                      # creating empty list name result.\n",
        "    for word in text_str.split():                    # Loop through each word present in text_str.\n",
        "        if word.endswith(form):                      # using endswith() to check whether the word is end woth form or not.\n",
        "            result.append(word)                      # If yes then append the word in result\n",
        "    return result                                    # return the result.\n"
      ]
    },
    {
      "cell_type": "code",
      "source": [
        "# Testing\n",
        "find_word_forms(sad_story, 'ing')"
      ],
      "metadata": {
        "id": "oClKr8ZhBE-Y",
        "outputId": "69ab80b7-9a03-4f13-a243-96fcf047484b",
        "colab": {
          "base_uri": "https://localhost:8080/"
        }
      },
      "execution_count": null,
      "outputs": [
        {
          "output_type": "execute_result",
          "data": {
            "text/plain": [
              "['bring']"
            ]
          },
          "metadata": {},
          "execution_count": 29
        }
      ]
    },
    {
      "cell_type": "code",
      "source": [
        "# Testing\n",
        "find_word_forms(sad_story, 'ed')"
      ],
      "metadata": {
        "colab": {
          "base_uri": "https://localhost:8080/"
        },
        "id": "TJtlcg6lMmy5",
        "outputId": "d8acbae8-fa46-4d48-c1ef-bff5b14f0cc4"
      },
      "execution_count": null,
      "outputs": [
        {
          "output_type": "execute_result",
          "data": {
            "text/plain": [
              "['lived']"
            ]
          },
          "metadata": {},
          "execution_count": 30
        }
      ]
    },
    {
      "cell_type": "code",
      "source": [
        "# Testing\n",
        "find_word_forms(\"He 's sending birds on the wing .\", 'ing')"
      ],
      "metadata": {
        "colab": {
          "base_uri": "https://localhost:8080/"
        },
        "id": "eewu2MoUMqT4",
        "outputId": "c93fa300-95a9-4596-aeb4-055c3f398ae3"
      },
      "execution_count": null,
      "outputs": [
        {
          "output_type": "execute_result",
          "data": {
            "text/plain": [
              "['sending', 'wing']"
            ]
          },
          "metadata": {},
          "execution_count": 31
        }
      ]
    },
    {
      "cell_type": "code",
      "source": [
        "# Testing\n",
        "find_word_forms(sad_story, 'g')"
      ],
      "metadata": {
        "colab": {
          "base_uri": "https://localhost:8080/"
        },
        "id": "rKlvGr0TMsVY",
        "outputId": "d5c64506-4ffa-4c74-e9cd-3f943d95bf0c"
      },
      "execution_count": null,
      "outputs": [
        {
          "output_type": "execute_result",
          "data": {
            "text/plain": [
              "['long', 'bring']"
            ]
          },
          "metadata": {},
          "execution_count": 32
        }
      ]
    },
    {
      "cell_type": "markdown",
      "metadata": {
        "id": "3VTDoPHRhcfW"
      },
      "source": [
        "# 2.6\n",
        "\n",
        "Write a function that converts degrees to radians. You are allowed\n",
        "to use the following import statement:\n",
        "\n",
        "```\n",
        "from numpy import pi\n",
        "```\n",
        "\n",
        "The formula is\n",
        "\n",
        "```\n",
        "Radians = (Degrees/360) * 2 * pi\n",
        "```\n",
        "\n",
        "Here are some tests\n",
        "\n",
        "```\n",
        ">>> deg2rad(360)\n",
        "6.283185307179586\n",
        ">>> deg2rad(90)\n",
        "1.5707963267948966\n",
        ">>> deg2rad(72)\n",
        "1.2566370614359172\n",
        "```"
      ]
    },
    {
      "cell_type": "code",
      "execution_count": null,
      "metadata": {
        "id": "PVVmaHcphcfW"
      },
      "outputs": [],
      "source": [
        "# Answer 2.6\n",
        "from numpy import pi                     # Importing the pi module in numpy\n",
        "def deg2rad(degree):                     # creating function definition deg2rad(degree) which takes degree as input\n",
        "    radians = (degree/360) * 2 * pi      # formula to convert the degree into radians\n",
        "    return radians                       # Return the radians"
      ]
    },
    {
      "cell_type": "code",
      "source": [
        "# Testing\n",
        "deg2rad(360)"
      ],
      "metadata": {
        "id": "rv98598-C_oM",
        "outputId": "020d6a71-ff36-4502-cf48-f499cf8155a1",
        "colab": {
          "base_uri": "https://localhost:8080/"
        }
      },
      "execution_count": null,
      "outputs": [
        {
          "output_type": "execute_result",
          "data": {
            "text/plain": [
              "6.283185307179586"
            ]
          },
          "metadata": {},
          "execution_count": 34
        }
      ]
    },
    {
      "cell_type": "code",
      "source": [
        "# Testing\n",
        "deg2rad(90)"
      ],
      "metadata": {
        "colab": {
          "base_uri": "https://localhost:8080/"
        },
        "id": "Wx8tt2txNYlE",
        "outputId": "0ac30c3b-5437-40b9-a616-b66fffe0cc2d"
      },
      "execution_count": null,
      "outputs": [
        {
          "output_type": "execute_result",
          "data": {
            "text/plain": [
              "1.5707963267948966"
            ]
          },
          "metadata": {},
          "execution_count": 35
        }
      ]
    },
    {
      "cell_type": "code",
      "source": [
        "# Testing\n",
        "deg2rad(72)"
      ],
      "metadata": {
        "colab": {
          "base_uri": "https://localhost:8080/"
        },
        "id": "u3ximunaNalP",
        "outputId": "c700532a-11d2-4393-bde8-ab8dc7a84316"
      },
      "execution_count": null,
      "outputs": [
        {
          "output_type": "execute_result",
          "data": {
            "text/plain": [
              "1.2566370614359172"
            ]
          },
          "metadata": {},
          "execution_count": 36
        }
      ]
    },
    {
      "cell_type": "markdown",
      "metadata": {
        "id": "evKuWRjshcfX"
      },
      "source": [
        "# Part 3 Numpy arrays"
      ]
    },
    {
      "cell_type": "markdown",
      "metadata": {
        "id": "J7XzxqmbhcfX"
      },
      "source": [
        "You must execute the next cell to do the problems in this section."
      ]
    },
    {
      "cell_type": "code",
      "execution_count": null,
      "metadata": {
        "id": "51OqxR2DhcfX"
      },
      "outputs": [],
      "source": [
        "# Data cell\n",
        "\n",
        "import numpy as np\n",
        "\n",
        "xx = np.arange(4,61,4)\n",
        "\n",
        "yy = xx.reshape((3,5))"
      ]
    },
    {
      "cell_type": "markdown",
      "metadata": {
        "id": "4d7b0OV9hcfX"
      },
      "source": [
        "# 3.1\n",
        "\n",
        "Write a single Python expression that returns 12 from `xx`"
      ]
    },
    {
      "cell_type": "code",
      "source": [
        "# Checking\n",
        "xx"
      ],
      "metadata": {
        "id": "Hv8eqGg8DWF8",
        "outputId": "48c405a0-895b-434f-d535-7de7a1edeea3",
        "colab": {
          "base_uri": "https://localhost:8080/"
        }
      },
      "execution_count": null,
      "outputs": [
        {
          "output_type": "execute_result",
          "data": {
            "text/plain": [
              "array([ 4,  8, 12, 16, 20, 24, 28, 32, 36, 40, 44, 48, 52, 56, 60])"
            ]
          },
          "metadata": {},
          "execution_count": 38
        }
      ]
    },
    {
      "cell_type": "code",
      "source": [
        "# Checking\n",
        "yy"
      ],
      "metadata": {
        "id": "C4e3u6q6DV4a",
        "outputId": "9204514b-8571-4126-e328-dfe1b3c2b5b2",
        "colab": {
          "base_uri": "https://localhost:8080/"
        }
      },
      "execution_count": null,
      "outputs": [
        {
          "output_type": "execute_result",
          "data": {
            "text/plain": [
              "array([[ 4,  8, 12, 16, 20],\n",
              "       [24, 28, 32, 36, 40],\n",
              "       [44, 48, 52, 56, 60]])"
            ]
          },
          "metadata": {},
          "execution_count": 39
        }
      ]
    },
    {
      "cell_type": "code",
      "execution_count": null,
      "metadata": {
        "id": "8bthWCJrhcfX",
        "outputId": "e58999d5-d18c-4c08-8bf4-2516a5d299bd",
        "colab": {
          "base_uri": "https://localhost:8080/"
        }
      },
      "outputs": [
        {
          "output_type": "execute_result",
          "data": {
            "text/plain": [
              "12"
            ]
          },
          "metadata": {},
          "execution_count": 40
        }
      ],
      "source": [
        "# Answer 3.1\n",
        "xx[2]    # 12 is stored at 2nd index in xx object"
      ]
    },
    {
      "cell_type": "markdown",
      "metadata": {
        "id": "7zD2x25vhcfX"
      },
      "source": [
        "# 3.2\n",
        "\n",
        "Write a single Python expression  that returns all members of `xx` divisible by 8.\n",
        "Hint: Use a splice."
      ]
    },
    {
      "cell_type": "code",
      "execution_count": null,
      "metadata": {
        "id": "q9wmhaolhcfY",
        "outputId": "198d1405-8823-4380-c75a-19b03b469373",
        "colab": {
          "base_uri": "https://localhost:8080/"
        }
      },
      "outputs": [
        {
          "output_type": "execute_result",
          "data": {
            "text/plain": [
              "array([ 8, 16, 24, 32, 40, 48, 56])"
            ]
          },
          "metadata": {},
          "execution_count": 41
        }
      ],
      "source": [
        "# Answer 3.2\n",
        "xx[1::2]      # Using splice: Divisible by 8 is stored at every alternate index in xx."
      ]
    },
    {
      "cell_type": "markdown",
      "metadata": {
        "id": "tUxcPaM5hcfY"
      },
      "source": [
        "# 3.3\n",
        "\n",
        "Write a single Python expression  that returns all members of `xx` \n",
        "greater than 16.  You may use a splice if you wish."
      ]
    },
    {
      "cell_type": "code",
      "execution_count": null,
      "metadata": {
        "id": "lPLJMw7hhcfY",
        "outputId": "517beef6-6605-4049-b6d4-72e8c24f9029",
        "colab": {
          "base_uri": "https://localhost:8080/"
        }
      },
      "outputs": [
        {
          "output_type": "execute_result",
          "data": {
            "text/plain": [
              "array([20, 24, 28, 32, 36, 40, 44, 48, 52, 56, 60])"
            ]
          },
          "metadata": {},
          "execution_count": 42
        }
      ],
      "source": [
        "# Answer 3.3\n",
        "xx[4:]         # using splice returning the numbers which are greater than 16."
      ]
    },
    {
      "cell_type": "markdown",
      "metadata": {
        "id": "nglDZiLyhcfY"
      },
      "source": [
        "# 3.4\n",
        "\n",
        "Write a single Python expression  that returns the following\n",
        "1D array from `yy`.\n",
        "\n",
        "```\n",
        "array([24, 28, 32, 36, 40])\n",
        "```"
      ]
    },
    {
      "cell_type": "code",
      "execution_count": null,
      "metadata": {
        "id": "dgsvetdehcfY",
        "outputId": "74808568-2d8b-4739-9083-bec443d6ba86",
        "colab": {
          "base_uri": "https://localhost:8080/"
        }
      },
      "outputs": [
        {
          "output_type": "execute_result",
          "data": {
            "text/plain": [
              "array([24, 28, 32, 36, 40])"
            ]
          },
          "metadata": {},
          "execution_count": 43
        }
      ],
      "source": [
        "# Answer 3.4\n",
        "yy[1,:]      # returning 1d array from yy"
      ]
    },
    {
      "cell_type": "markdown",
      "metadata": {
        "id": "hAfWolmqhcfY"
      },
      "source": [
        "# 3.5\n",
        "\n",
        "Write a single Python expression  that returns the following\n",
        "2D array from `yy`.\n",
        "\n",
        "```\n",
        "array([[ 4,  8, 12, 16, 20],\n",
        "       [24, 28, 32, 36, 40]])\n",
        "```"
      ]
    },
    {
      "cell_type": "code",
      "execution_count": null,
      "metadata": {
        "scrolled": true,
        "id": "Foprs-O6hcfY",
        "outputId": "32306fc8-4e06-487d-ae95-84c55b214c4d",
        "colab": {
          "base_uri": "https://localhost:8080/"
        }
      },
      "outputs": [
        {
          "output_type": "execute_result",
          "data": {
            "text/plain": [
              "array([[ 4,  8, 12, 16, 20],\n",
              "       [24, 28, 32, 36, 40]])"
            ]
          },
          "metadata": {},
          "execution_count": 44
        }
      ],
      "source": [
        "# Answer 3.5\n",
        "yy[:2,:]           # returning above 2d array from yy."
      ]
    },
    {
      "cell_type": "markdown",
      "metadata": {
        "id": "0_OozFVLhcfZ"
      },
      "source": [
        "# 3.6\n",
        "\n",
        "Write a single Python expression  that returns the following\n",
        "2D array from `yy`.\n",
        "\n",
        "```\n",
        "array([[32, 36],\n",
        "       [52, 56]])\n",
        "```"
      ]
    },
    {
      "cell_type": "code",
      "execution_count": null,
      "metadata": {
        "id": "yWbBd9OwhcfZ",
        "outputId": "900ed6e2-96f9-4640-95f2-5781eaa3c853",
        "colab": {
          "base_uri": "https://localhost:8080/"
        }
      },
      "outputs": [
        {
          "output_type": "execute_result",
          "data": {
            "text/plain": [
              "array([[32, 36],\n",
              "       [52, 56]])"
            ]
          },
          "metadata": {},
          "execution_count": 45
        }
      ],
      "source": [
        "# Answer 3.6\n",
        "yy[1:3,2:4]          # Returning above 2d array from yy."
      ]
    },
    {
      "cell_type": "markdown",
      "metadata": {
        "id": "HuGC8V_kxKtK"
      },
      "source": [
        "# Part 4  Wine Data\n",
        "\n",
        "In this exercise set, we load wine data. This is a multi class dataset that has data for three different wine types  (stored in `target` below) corresponding to three\n",
        "different cultivators in a particular region of Italy.  These will just\n",
        "be referred to as class_1 calss_2 and class_3 in the description below\n",
        "and in the questions.\n",
        "The chemical properties of the wine stored in the 2D numpy array `data` below are sufficient to identity the cultivator, but it's a challenging classification problem."
      ]
    },
    {
      "cell_type": "markdown",
      "metadata": {
        "id": "Zbtp-OB-hcfZ"
      },
      "source": [
        "Wine recognition dataset\n",
        "-----------------------------\n",
        "\n",
        "**Data Set Characteristics:**\n",
        "\n",
        "    :Number of Instances: 178\n",
        "    :Number of Attributes: 13 numeric, predictive attributes and the class\n",
        "    :Attribute Information:\n",
        " \t\t- Alcohol\n",
        " \t\t- Malic acid\n",
        " \t\t- Ash\n",
        "\t\t- Alcalinity of ash  \n",
        " \t\t- Magnesium\n",
        "\t\t- Total phenols\n",
        " \t\t- Flavanoids\n",
        " \t\t- Nonflavanoid phenols\n",
        " \t\t- Proanthocyanins\n",
        "\t\t- Color intensity\n",
        " \t\t- Hue\n",
        " \t\t- OD280/OD315 of diluted wines\n",
        " \t\t- Proline\n",
        "\n",
        "    - class:\n",
        "            - class_0\n",
        "            - class_1\n",
        "            - class_2\n",
        "\t\t\n",
        "     \n",
        "    The wine atributes listed in their column order.\n",
        "    \n",
        "    ============================= ==== ===== ======= =====\n",
        "                                   Min   Max   Mean     SD\n",
        "    ============================= ==== ===== ======= =====\n",
        "    Alcohol:                      11.0  14.8    13.0   0.8\n",
        "    Malic Acid:                   0.74  5.80    2.34  1.12\n",
        "    Ash:                          1.36  3.23    2.36  0.27\n",
        "    Alcalinity of Ash:            10.6  30.0    19.5   3.3\n",
        "    Magnesium:                    70.0 162.0    99.7  14.3\n",
        "    Total Phenols:                0.98  3.88    2.29  0.63\n",
        "    Flavanoids:                   0.34  5.08    2.03  1.00\n",
        "    Nonflavanoid Phenols:         0.13  0.66    0.36  0.12\n",
        "    Proanthocyanins:              0.41  3.58    1.59  0.57\n",
        "    Colour Intensity:              1.3  13.0     5.1   2.3\n",
        "    Hue:                          0.48  1.71    0.96  0.23\n",
        "    OD280/OD315 of diluted wines: 1.27  4.00    2.61  0.71\n",
        "    Proline:                       278  1680     746   315\n",
        "    ============================= ==== ===== ======= =====\n",
        "\n",
        "    :Missing Attribute Values: None\n",
        "    :Class Distribution: class_0 (59), class_1 (71), class_2 (48)\n",
        "    :Creator: R.A. Fisher\n",
        "    :Donor: Michael Marshall (MARSHALL%PLU@io.arc.nasa.gov)\n",
        "    :Date: July, 1988\n",
        "\n",
        "This is a copy of UCI ML Wine recognition datasets.\n",
        "https://archive.ics.uci.edu/ml/machine-learning-databases/wine/wine.data\n",
        "\n",
        "The data is the results of a chemical analysis of wines grown in the same\n",
        "region in Italy by three different cultivators. There are thirteen different\n",
        "measurements taken for different constituents found in the three types of\n",
        "wine.\n",
        "\n",
        "Original Owners: \n",
        "\n",
        "Forina, M. et al, PARVUS - \n",
        "An Extendible Package for Data Exploration, Classification and Correlation. \n",
        "Institute of Pharmaceutical and Food Analysis and Technologies,\n",
        "Via Brigata Salerno, 16147 Genoa, Italy.\n",
        "\n",
        "Citation:\n",
        "\n",
        "Lichman, M. (2013). UCI Machine Learning Repository\n",
        "[https://archive.ics.uci.edu/ml]. Irvine, CA: University of California,\n",
        "School of Information and Computer Science. "
      ]
    },
    {
      "cell_type": "markdown",
      "metadata": {
        "id": "ApyGqxqthcfa"
      },
      "source": [
        "You must evaluate the next cell to do the problems in this section."
      ]
    },
    {
      "cell_type": "code",
      "execution_count": null,
      "metadata": {
        "id": "yYU5Sd4chcfa"
      },
      "outputs": [],
      "source": [
        "# Data Cell\n",
        "\n",
        "from sklearn.datasets import load_wine\n",
        "wdata = load_wine()\n",
        "data = wdata.data\n",
        "target = wdata.target"
      ]
    },
    {
      "cell_type": "code",
      "source": [
        "# To check\n",
        "wdata"
      ],
      "metadata": {
        "id": "dsMwR3roMTFn",
        "outputId": "97efccb0-348a-415a-c1f5-15ff1d9ba41e",
        "colab": {
          "base_uri": "https://localhost:8080/"
        }
      },
      "execution_count": null,
      "outputs": [
        {
          "output_type": "execute_result",
          "data": {
            "text/plain": [
              "{'DESCR': '.. _wine_dataset:\\n\\nWine recognition dataset\\n------------------------\\n\\n**Data Set Characteristics:**\\n\\n    :Number of Instances: 178 (50 in each of three classes)\\n    :Number of Attributes: 13 numeric, predictive attributes and the class\\n    :Attribute Information:\\n \\t\\t- Alcohol\\n \\t\\t- Malic acid\\n \\t\\t- Ash\\n\\t\\t- Alcalinity of ash  \\n \\t\\t- Magnesium\\n\\t\\t- Total phenols\\n \\t\\t- Flavanoids\\n \\t\\t- Nonflavanoid phenols\\n \\t\\t- Proanthocyanins\\n\\t\\t- Color intensity\\n \\t\\t- Hue\\n \\t\\t- OD280/OD315 of diluted wines\\n \\t\\t- Proline\\n\\n    - class:\\n            - class_0\\n            - class_1\\n            - class_2\\n\\t\\t\\n    :Summary Statistics:\\n    \\n    ============================= ==== ===== ======= =====\\n                                   Min   Max   Mean     SD\\n    ============================= ==== ===== ======= =====\\n    Alcohol:                      11.0  14.8    13.0   0.8\\n    Malic Acid:                   0.74  5.80    2.34  1.12\\n    Ash:                          1.36  3.23    2.36  0.27\\n    Alcalinity of Ash:            10.6  30.0    19.5   3.3\\n    Magnesium:                    70.0 162.0    99.7  14.3\\n    Total Phenols:                0.98  3.88    2.29  0.63\\n    Flavanoids:                   0.34  5.08    2.03  1.00\\n    Nonflavanoid Phenols:         0.13  0.66    0.36  0.12\\n    Proanthocyanins:              0.41  3.58    1.59  0.57\\n    Colour Intensity:              1.3  13.0     5.1   2.3\\n    Hue:                          0.48  1.71    0.96  0.23\\n    OD280/OD315 of diluted wines: 1.27  4.00    2.61  0.71\\n    Proline:                       278  1680     746   315\\n    ============================= ==== ===== ======= =====\\n\\n    :Missing Attribute Values: None\\n    :Class Distribution: class_0 (59), class_1 (71), class_2 (48)\\n    :Creator: R.A. Fisher\\n    :Donor: Michael Marshall (MARSHALL%PLU@io.arc.nasa.gov)\\n    :Date: July, 1988\\n\\nThis is a copy of UCI ML Wine recognition datasets.\\nhttps://archive.ics.uci.edu/ml/machine-learning-databases/wine/wine.data\\n\\nThe data is the results of a chemical analysis of wines grown in the same\\nregion in Italy by three different cultivators. There are thirteen different\\nmeasurements taken for different constituents found in the three types of\\nwine.\\n\\nOriginal Owners: \\n\\nForina, M. et al, PARVUS - \\nAn Extendible Package for Data Exploration, Classification and Correlation. \\nInstitute of Pharmaceutical and Food Analysis and Technologies,\\nVia Brigata Salerno, 16147 Genoa, Italy.\\n\\nCitation:\\n\\nLichman, M. (2013). UCI Machine Learning Repository\\n[https://archive.ics.uci.edu/ml]. Irvine, CA: University of California,\\nSchool of Information and Computer Science. \\n\\n.. topic:: References\\n\\n  (1) S. Aeberhard, D. Coomans and O. de Vel, \\n  Comparison of Classifiers in High Dimensional Settings, \\n  Tech. Rep. no. 92-02, (1992), Dept. of Computer Science and Dept. of  \\n  Mathematics and Statistics, James Cook University of North Queensland. \\n  (Also submitted to Technometrics). \\n\\n  The data was used with many others for comparing various \\n  classifiers. The classes are separable, though only RDA \\n  has achieved 100% correct classification. \\n  (RDA : 100%, QDA 99.4%, LDA 98.9%, 1NN 96.1% (z-transformed data)) \\n  (All results using the leave-one-out technique) \\n\\n  (2) S. Aeberhard, D. Coomans and O. de Vel, \\n  \"THE CLASSIFICATION PERFORMANCE OF RDA\" \\n  Tech. Rep. no. 92-01, (1992), Dept. of Computer Science and Dept. of \\n  Mathematics and Statistics, James Cook University of North Queensland. \\n  (Also submitted to Journal of Chemometrics).\\n',\n",
              " 'data': array([[1.423e+01, 1.710e+00, 2.430e+00, ..., 1.040e+00, 3.920e+00,\n",
              "         1.065e+03],\n",
              "        [1.320e+01, 1.780e+00, 2.140e+00, ..., 1.050e+00, 3.400e+00,\n",
              "         1.050e+03],\n",
              "        [1.316e+01, 2.360e+00, 2.670e+00, ..., 1.030e+00, 3.170e+00,\n",
              "         1.185e+03],\n",
              "        ...,\n",
              "        [1.327e+01, 4.280e+00, 2.260e+00, ..., 5.900e-01, 1.560e+00,\n",
              "         8.350e+02],\n",
              "        [1.317e+01, 2.590e+00, 2.370e+00, ..., 6.000e-01, 1.620e+00,\n",
              "         8.400e+02],\n",
              "        [1.413e+01, 4.100e+00, 2.740e+00, ..., 6.100e-01, 1.600e+00,\n",
              "         5.600e+02]]),\n",
              " 'feature_names': ['alcohol',\n",
              "  'malic_acid',\n",
              "  'ash',\n",
              "  'alcalinity_of_ash',\n",
              "  'magnesium',\n",
              "  'total_phenols',\n",
              "  'flavanoids',\n",
              "  'nonflavanoid_phenols',\n",
              "  'proanthocyanins',\n",
              "  'color_intensity',\n",
              "  'hue',\n",
              "  'od280/od315_of_diluted_wines',\n",
              "  'proline'],\n",
              " 'frame': None,\n",
              " 'target': array([0, 0, 0, 0, 0, 0, 0, 0, 0, 0, 0, 0, 0, 0, 0, 0, 0, 0, 0, 0, 0, 0,\n",
              "        0, 0, 0, 0, 0, 0, 0, 0, 0, 0, 0, 0, 0, 0, 0, 0, 0, 0, 0, 0, 0, 0,\n",
              "        0, 0, 0, 0, 0, 0, 0, 0, 0, 0, 0, 0, 0, 0, 0, 1, 1, 1, 1, 1, 1, 1,\n",
              "        1, 1, 1, 1, 1, 1, 1, 1, 1, 1, 1, 1, 1, 1, 1, 1, 1, 1, 1, 1, 1, 1,\n",
              "        1, 1, 1, 1, 1, 1, 1, 1, 1, 1, 1, 1, 1, 1, 1, 1, 1, 1, 1, 1, 1, 1,\n",
              "        1, 1, 1, 1, 1, 1, 1, 1, 1, 1, 1, 1, 1, 1, 1, 1, 1, 1, 1, 1, 2, 2,\n",
              "        2, 2, 2, 2, 2, 2, 2, 2, 2, 2, 2, 2, 2, 2, 2, 2, 2, 2, 2, 2, 2, 2,\n",
              "        2, 2, 2, 2, 2, 2, 2, 2, 2, 2, 2, 2, 2, 2, 2, 2, 2, 2, 2, 2, 2, 2,\n",
              "        2, 2]),\n",
              " 'target_names': array(['class_0', 'class_1', 'class_2'], dtype='<U7')}"
            ]
          },
          "metadata": {},
          "execution_count": 47
        }
      ]
    },
    {
      "cell_type": "markdown",
      "metadata": {
        "id": "khms8myqhcfa"
      },
      "source": [
        "**4.0**  \n",
        "\n",
        "Write a Python expression that returns s Boolean array defining\n",
        "the set of rows of the `data` array with magnesium level greater than 99.7  and \n",
        "Proanthocyanins level less than 1.59."
      ]
    },
    {
      "cell_type": "code",
      "execution_count": null,
      "metadata": {
        "id": "3sWxTa6jhcfa",
        "outputId": "b1f9476a-ef9b-40f4-a313-8d01ccfe7b8e",
        "colab": {
          "base_uri": "https://localhost:8080/"
        }
      },
      "outputs": [
        {
          "output_type": "execute_result",
          "data": {
            "text/plain": [
              "array([ True,  True,  True,  True,  True,  True, False,  True, False,\n",
              "       False,  True, False, False, False,  True,  True,  True,  True,\n",
              "        True,  True,  True,  True,  True, False, False,  True, False,\n",
              "       False,  True, False,  True,  True,  True,  True,  True,  True,\n",
              "        True, False, False,  True,  True, False,  True,  True,  True,\n",
              "        True,  True,  True,  True,  True, False, False,  True,  True,\n",
              "        True,  True,  True,  True,  True, False,  True,  True, False,\n",
              "       False,  True, False, False, False,  True,  True,  True, False,\n",
              "       False,  True,  True, False, False,  True,  True,  True, False,\n",
              "       False, False, False, False, False, False, False, False, False,\n",
              "       False, False, False, False, False,  True,  True, False, False,\n",
              "       False, False, False, False, False, False, False, False, False,\n",
              "       False, False,  True, False,  True, False, False, False, False,\n",
              "        True, False, False, False,  True,  True, False, False, False,\n",
              "       False, False, False, False,  True,  True, False,  True, False,\n",
              "       False, False, False, False,  True, False, False, False, False,\n",
              "        True,  True, False, False, False,  True,  True,  True,  True,\n",
              "       False,  True, False, False, False, False, False, False,  True,\n",
              "        True,  True, False, False,  True, False,  True,  True, False,\n",
              "       False, False, False,  True,  True,  True, False])"
            ]
          },
          "metadata": {},
          "execution_count": 48
        }
      ],
      "source": [
        "# Boolean array defining the set of rows of the data array with magnesium level greater than 99.7. This is not the answer.\n",
        "data1 = data[:,4] > 99.7      \n",
        "data1"
      ]
    },
    {
      "cell_type": "code",
      "source": [
        "# Boolean array defining the set of rows of the data array with Proanthocyanins level less than 1.59. This is not the answer.\n",
        "data2 = data[:,8] < 1.59\n",
        "data2"
      ],
      "metadata": {
        "id": "KEP1GC2PHg_E",
        "outputId": "ed28b112-7525-4797-d643-0a08e38d03c5",
        "colab": {
          "base_uri": "https://localhost:8080/"
        }
      },
      "execution_count": null,
      "outputs": [
        {
          "output_type": "execute_result",
          "data": {
            "text/plain": [
              "array([False,  True, False, False, False, False, False,  True, False,\n",
              "       False, False,  True, False, False, False,  True, False, False,\n",
              "       False, False, False, False, False,  True, False, False,  True,\n",
              "        True, False, False, False, False, False,  True,  True, False,\n",
              "        True,  True,  True, False, False,  True, False, False, False,\n",
              "        True, False, False, False, False, False, False, False, False,\n",
              "       False, False, False, False, False,  True,  True,  True,  True,\n",
              "       False,  True, False, False,  True,  True, False,  True, False,\n",
              "        True, False, False,  True,  True,  True, False, False,  True,\n",
              "       False,  True, False, False,  True,  True,  True,  True,  True,\n",
              "       False, False, False, False,  True, False,  True, False, False,\n",
              "       False,  True,  True,  True,  True,  True,  True, False, False,\n",
              "       False, False, False,  True,  True,  True,  True, False,  True,\n",
              "       False,  True, False, False, False, False, False, False,  True,\n",
              "       False, False, False,  True,  True,  True,  True,  True,  True,\n",
              "        True,  True,  True,  True,  True,  True,  True,  True,  True,\n",
              "        True,  True,  True,  True,  True,  True,  True,  True,  True,\n",
              "       False,  True,  True,  True,  True, False, False,  True,  True,\n",
              "        True,  True,  True,  True,  True,  True,  True,  True,  True,\n",
              "        True,  True,  True,  True,  True,  True,  True])"
            ]
          },
          "metadata": {},
          "execution_count": 49
        }
      ]
    },
    {
      "cell_type": "code",
      "source": [
        "# Answer 4.0\n",
        "result0 = data1 & data2   \n",
        "result0           # shape (178,)"
      ],
      "metadata": {
        "id": "6YQsgChSHzKx",
        "outputId": "70d14ca9-002f-41d0-8340-80caf1a034b0",
        "colab": {
          "base_uri": "https://localhost:8080/"
        }
      },
      "execution_count": null,
      "outputs": [
        {
          "output_type": "execute_result",
          "data": {
            "text/plain": [
              "array([False,  True, False, False, False, False, False,  True, False,\n",
              "       False, False, False, False, False, False,  True, False, False,\n",
              "       False, False, False, False, False, False, False, False, False,\n",
              "       False, False, False, False, False, False,  True,  True, False,\n",
              "        True, False, False, False, False, False, False, False, False,\n",
              "        True, False, False, False, False, False, False, False, False,\n",
              "       False, False, False, False, False, False,  True,  True, False,\n",
              "       False,  True, False, False, False,  True, False,  True, False,\n",
              "       False, False, False, False, False,  True, False, False, False,\n",
              "       False, False, False, False, False, False, False, False, False,\n",
              "       False, False, False, False, False, False,  True, False, False,\n",
              "       False, False, False, False, False, False, False, False, False,\n",
              "       False, False, False, False,  True, False, False, False, False,\n",
              "       False, False, False, False, False, False, False, False, False,\n",
              "       False, False, False, False,  True,  True, False,  True, False,\n",
              "       False, False, False, False,  True, False, False, False, False,\n",
              "        True,  True, False, False, False,  True,  True,  True,  True,\n",
              "       False,  True, False, False, False, False, False, False,  True,\n",
              "        True,  True, False, False,  True, False,  True,  True, False,\n",
              "       False, False, False,  True,  True,  True, False])"
            ]
          },
          "metadata": {},
          "execution_count": 50
        }
      ]
    },
    {
      "cell_type": "markdown",
      "metadata": {
        "id": "L5QbrnZ2hcfa"
      },
      "source": [
        "**4.1**\n",
        "\n",
        "Write a Python expression that returns the rows of the `data` array \n",
        "representing  wine samples with  magnesium level greater than 99.7  and \n",
        "Proanthocyanins level less than 1.59."
      ]
    },
    {
      "cell_type": "code",
      "execution_count": null,
      "metadata": {
        "id": "dy0wMWsdhcfa",
        "outputId": "0e4cd850-4a9f-45e6-96e7-fa3ebad694b8",
        "colab": {
          "base_uri": "https://localhost:8080/"
        }
      },
      "outputs": [
        {
          "output_type": "execute_result",
          "data": {
            "text/plain": [
              "array([[1.320e+01, 1.780e+00, 2.140e+00, 1.120e+01, 1.000e+02, 2.650e+00,\n",
              "        2.760e+00, 2.600e-01, 1.280e+00, 4.380e+00, 1.050e+00, 3.400e+00,\n",
              "        1.050e+03],\n",
              "       [1.406e+01, 2.150e+00, 2.610e+00, 1.760e+01, 1.210e+02, 2.600e+00,\n",
              "        2.510e+00, 3.100e-01, 1.250e+00, 5.050e+00, 1.060e+00, 3.580e+00,\n",
              "        1.295e+03],\n",
              "       [1.363e+01, 1.810e+00, 2.700e+00, 1.720e+01, 1.120e+02, 2.850e+00,\n",
              "        2.910e+00, 3.000e-01, 1.460e+00, 7.300e+00, 1.280e+00, 2.880e+00,\n",
              "        1.310e+03],\n",
              "       [1.376e+01, 1.530e+00, 2.700e+00, 1.950e+01, 1.320e+02, 2.950e+00,\n",
              "        2.740e+00, 5.000e-01, 1.350e+00, 5.400e+00, 1.250e+00, 3.000e+00,\n",
              "        1.235e+03],\n",
              "       [1.351e+01, 1.800e+00, 2.650e+00, 1.900e+01, 1.100e+02, 2.350e+00,\n",
              "        2.530e+00, 2.900e-01, 1.540e+00, 4.200e+00, 1.100e+00, 2.870e+00,\n",
              "        1.095e+03],\n",
              "       [1.328e+01, 1.640e+00, 2.840e+00, 1.550e+01, 1.100e+02, 2.600e+00,\n",
              "        2.680e+00, 3.400e-01, 1.360e+00, 4.600e+00, 1.090e+00, 2.780e+00,\n",
              "        8.800e+02],\n",
              "       [1.421e+01, 4.040e+00, 2.440e+00, 1.890e+01, 1.110e+02, 2.850e+00,\n",
              "        2.650e+00, 3.000e-01, 1.250e+00, 5.240e+00, 8.700e-01, 3.330e+00,\n",
              "        1.080e+03],\n",
              "       [1.233e+01, 1.100e+00, 2.280e+00, 1.600e+01, 1.010e+02, 2.050e+00,\n",
              "        1.090e+00, 6.300e-01, 4.100e-01, 3.270e+00, 1.250e+00, 1.670e+00,\n",
              "        6.800e+02],\n",
              "       [1.264e+01, 1.360e+00, 2.020e+00, 1.680e+01, 1.000e+02, 2.020e+00,\n",
              "        1.410e+00, 5.300e-01, 6.200e-01, 5.750e+00, 9.800e-01, 1.590e+00,\n",
              "        4.500e+02],\n",
              "       [1.217e+01, 1.450e+00, 2.530e+00, 1.900e+01, 1.040e+02, 1.890e+00,\n",
              "        1.750e+00, 4.500e-01, 1.030e+00, 2.950e+00, 1.450e+00, 2.230e+00,\n",
              "        3.550e+02],\n",
              "       [1.334e+01, 9.400e-01, 2.360e+00, 1.700e+01, 1.100e+02, 2.530e+00,\n",
              "        1.300e+00, 5.500e-01, 4.200e-01, 3.170e+00, 1.020e+00, 1.930e+00,\n",
              "        7.500e+02],\n",
              "       [1.229e+01, 1.610e+00, 2.210e+00, 2.040e+01, 1.030e+02, 1.100e+00,\n",
              "        1.020e+00, 3.700e-01, 1.460e+00, 3.050e+00, 9.060e-01, 1.820e+00,\n",
              "        8.700e+02],\n",
              "       [1.184e+01, 2.890e+00, 2.230e+00, 1.800e+01, 1.120e+02, 1.720e+00,\n",
              "        1.320e+00, 4.300e-01, 9.500e-01, 2.650e+00, 9.600e-01, 2.520e+00,\n",
              "        5.000e+02],\n",
              "       [1.181e+01, 2.120e+00, 2.740e+00, 2.150e+01, 1.340e+02, 1.600e+00,\n",
              "        9.900e-01, 1.400e-01, 1.560e+00, 2.500e+00, 9.500e-01, 2.260e+00,\n",
              "        6.250e+02],\n",
              "       [1.176e+01, 2.680e+00, 2.920e+00, 2.000e+01, 1.030e+02, 1.750e+00,\n",
              "        2.030e+00, 6.000e-01, 1.050e+00, 3.800e+00, 1.230e+00, 2.500e+00,\n",
              "        6.070e+02],\n",
              "       [1.286e+01, 1.350e+00, 2.320e+00, 1.800e+01, 1.220e+02, 1.510e+00,\n",
              "        1.250e+00, 2.100e-01, 9.400e-01, 4.100e+00, 7.600e-01, 1.290e+00,\n",
              "        6.300e+02],\n",
              "       [1.288e+01, 2.990e+00, 2.400e+00, 2.000e+01, 1.040e+02, 1.300e+00,\n",
              "        1.220e+00, 2.400e-01, 8.300e-01, 5.400e+00, 7.400e-01, 1.420e+00,\n",
              "        5.300e+02],\n",
              "       [1.270e+01, 3.550e+00, 2.360e+00, 2.150e+01, 1.060e+02, 1.700e+00,\n",
              "        1.200e+00, 1.700e-01, 8.400e-01, 5.000e+00, 7.800e-01, 1.290e+00,\n",
              "        6.000e+02],\n",
              "       [1.284e+01, 2.960e+00, 2.610e+00, 2.400e+01, 1.010e+02, 2.320e+00,\n",
              "        6.000e-01, 5.300e-01, 8.100e-01, 4.920e+00, 8.900e-01, 2.150e+00,\n",
              "        5.900e+02],\n",
              "       [1.225e+01, 3.880e+00, 2.200e+00, 1.850e+01, 1.120e+02, 1.380e+00,\n",
              "        7.800e-01, 2.900e-01, 1.140e+00, 8.210e+00, 6.500e-01, 2.000e+00,\n",
              "        8.550e+02],\n",
              "       [1.316e+01, 3.570e+00, 2.150e+00, 2.100e+01, 1.020e+02, 1.500e+00,\n",
              "        5.500e-01, 4.300e-01, 1.300e+00, 4.000e+00, 6.000e-01, 1.680e+00,\n",
              "        8.300e+02],\n",
              "       [1.308e+01, 3.900e+00, 2.360e+00, 2.150e+01, 1.130e+02, 1.410e+00,\n",
              "        1.390e+00, 3.400e-01, 1.140e+00, 9.400e+00, 5.700e-01, 1.330e+00,\n",
              "        5.500e+02],\n",
              "       [1.350e+01, 3.120e+00, 2.620e+00, 2.400e+01, 1.230e+02, 1.400e+00,\n",
              "        1.570e+00, 2.200e-01, 1.250e+00, 8.600e+00, 5.900e-01, 1.300e+00,\n",
              "        5.000e+02],\n",
              "       [1.279e+01, 2.670e+00, 2.480e+00, 2.200e+01, 1.120e+02, 1.480e+00,\n",
              "        1.360e+00, 2.400e-01, 1.260e+00, 1.080e+01, 4.800e-01, 1.470e+00,\n",
              "        4.800e+02],\n",
              "       [1.311e+01, 1.900e+00, 2.750e+00, 2.550e+01, 1.160e+02, 2.200e+00,\n",
              "        1.280e+00, 2.600e-01, 1.560e+00, 7.100e+00, 6.100e-01, 1.330e+00,\n",
              "        4.250e+02],\n",
              "       [1.258e+01, 1.290e+00, 2.100e+00, 2.000e+01, 1.030e+02, 1.480e+00,\n",
              "        5.800e-01, 5.300e-01, 1.400e+00, 7.600e+00, 5.800e-01, 1.550e+00,\n",
              "        6.400e+02],\n",
              "       [1.369e+01, 3.260e+00, 2.540e+00, 2.000e+01, 1.070e+02, 1.830e+00,\n",
              "        5.600e-01, 5.000e-01, 8.000e-01, 5.880e+00, 9.600e-01, 1.820e+00,\n",
              "        6.800e+02],\n",
              "       [1.285e+01, 3.270e+00, 2.580e+00, 2.200e+01, 1.060e+02, 1.650e+00,\n",
              "        6.000e-01, 6.000e-01, 9.600e-01, 5.580e+00, 8.700e-01, 2.110e+00,\n",
              "        5.700e+02],\n",
              "       [1.296e+01, 3.450e+00, 2.350e+00, 1.850e+01, 1.060e+02, 1.390e+00,\n",
              "        7.000e-01, 4.000e-01, 9.400e-01, 5.280e+00, 6.800e-01, 1.750e+00,\n",
              "        6.750e+02],\n",
              "       [1.345e+01, 3.700e+00, 2.600e+00, 2.300e+01, 1.110e+02, 1.700e+00,\n",
              "        9.200e-01, 4.300e-01, 1.460e+00, 1.068e+01, 8.500e-01, 1.560e+00,\n",
              "        6.950e+02],\n",
              "       [1.358e+01, 2.580e+00, 2.690e+00, 2.450e+01, 1.050e+02, 1.550e+00,\n",
              "        8.400e-01, 3.900e-01, 1.540e+00, 8.660e+00, 7.400e-01, 1.800e+00,\n",
              "        7.500e+02],\n",
              "       [1.340e+01, 4.600e+00, 2.860e+00, 2.500e+01, 1.120e+02, 1.980e+00,\n",
              "        9.600e-01, 2.700e-01, 1.110e+00, 8.500e+00, 6.700e-01, 1.920e+00,\n",
              "        6.300e+02],\n",
              "       [1.340e+01, 3.910e+00, 2.480e+00, 2.300e+01, 1.020e+02, 1.800e+00,\n",
              "        7.500e-01, 4.300e-01, 1.410e+00, 7.300e+00, 7.000e-01, 1.560e+00,\n",
              "        7.500e+02],\n",
              "       [1.327e+01, 4.280e+00, 2.260e+00, 2.000e+01, 1.200e+02, 1.590e+00,\n",
              "        6.900e-01, 4.300e-01, 1.350e+00, 1.020e+01, 5.900e-01, 1.560e+00,\n",
              "        8.350e+02],\n",
              "       [1.317e+01, 2.590e+00, 2.370e+00, 2.000e+01, 1.200e+02, 1.650e+00,\n",
              "        6.800e-01, 5.300e-01, 1.460e+00, 9.300e+00, 6.000e-01, 1.620e+00,\n",
              "        8.400e+02]])"
            ]
          },
          "metadata": {},
          "execution_count": 51
        }
      ],
      "source": [
        "# Answer 4.1\n",
        "result1 = data[data1 & data2]        # shape (35, 13)\n",
        "result1"
      ]
    },
    {
      "cell_type": "markdown",
      "metadata": {
        "id": "o2rX3Ze6hcfa"
      },
      "source": [
        "**4.2**\n",
        "\n",
        "How many such rows are there?  Show the computation."
      ]
    },
    {
      "cell_type": "code",
      "execution_count": null,
      "metadata": {
        "id": "gZnlKvC-hcfa",
        "outputId": "9e6fce46-9b57-4f16-af4c-8e95942b7895",
        "colab": {
          "base_uri": "https://localhost:8080/"
        }
      },
      "outputs": [
        {
          "output_type": "execute_result",
          "data": {
            "text/plain": [
              "35"
            ]
          },
          "metadata": {},
          "execution_count": 52
        }
      ],
      "source": [
        "# Answer 4.2 \n",
        "len(result1)   # In above cell computed the rows of the data array representing wine samples with magnesium level greater than 99.7 and Proanthocyanins level less than 1.59. In this cell printing the no. of rows created in above cell."
      ]
    },
    {
      "cell_type": "markdown",
      "metadata": {
        "id": "zdflz94xhcfb"
      },
      "source": [
        "**4.3**\n",
        "\n",
        "Write a Python expression that returns the rows of the `data` array \n",
        "representing wine samples such that they are not of class_1 and they\n",
        "have magnesium level greater than 99.7  and \n",
        "Proanthocyanins level less than 1.59."
      ]
    },
    {
      "cell_type": "code",
      "execution_count": null,
      "metadata": {
        "id": "xMvRZnT9hcfb",
        "outputId": "04223edc-4c90-4d0d-b69d-8373075cfb29",
        "colab": {
          "base_uri": "https://localhost:8080/"
        }
      },
      "outputs": [
        {
          "output_type": "execute_result",
          "data": {
            "text/plain": [
              "array([ True,  True,  True,  True,  True,  True,  True,  True,  True,\n",
              "        True,  True,  True,  True,  True,  True,  True,  True,  True,\n",
              "        True,  True,  True,  True,  True,  True,  True,  True,  True,\n",
              "        True,  True,  True,  True,  True,  True,  True,  True,  True,\n",
              "        True,  True,  True,  True,  True,  True,  True,  True,  True,\n",
              "        True,  True,  True,  True,  True,  True,  True,  True,  True,\n",
              "        True,  True,  True,  True,  True, False, False, False, False,\n",
              "       False, False, False, False, False, False, False, False, False,\n",
              "       False, False, False, False, False, False, False, False, False,\n",
              "       False, False, False, False, False, False, False, False, False,\n",
              "       False, False, False, False, False, False, False, False, False,\n",
              "       False, False, False, False, False, False, False, False, False,\n",
              "       False, False, False, False, False, False, False, False, False,\n",
              "       False, False, False, False, False, False, False, False, False,\n",
              "       False, False, False, False,  True,  True,  True,  True,  True,\n",
              "        True,  True,  True,  True,  True,  True,  True,  True,  True,\n",
              "        True,  True,  True,  True,  True,  True,  True,  True,  True,\n",
              "        True,  True,  True,  True,  True,  True,  True,  True,  True,\n",
              "        True,  True,  True,  True,  True,  True,  True,  True,  True,\n",
              "        True,  True,  True,  True,  True,  True,  True])"
            ]
          },
          "metadata": {},
          "execution_count": 53
        }
      ],
      "source": [
        "# Storing the boolean array such that they are not of class_1. \n",
        "data3 = target != 1      \n",
        "data3                      # This is not the answer."
      ]
    },
    {
      "cell_type": "code",
      "source": [
        "# Answer 4.3\n",
        "# Returns the rows of the data array representing wine samples such that they are not of class_1 and they have magnesium level greater than 99.7 and Proanthocyanins level less than 1.59\n",
        "result3 = data[data1 & data2 & data3]      # data1: return the boolean array which satisfied magnesium level greater than 99.7\n",
        "                                           # data2: returns boolean array which satisfied Proanthocyanins level less than 1.59\n",
        "                                           # data3: returns the boolean array such that they are not of class_1.\n",
        "result3                  # shape (27, 13)"
      ],
      "metadata": {
        "id": "WoAebV8WMn_T",
        "outputId": "9a3c0283-a0eb-4c0e-a75e-5717207cb2d5",
        "colab": {
          "base_uri": "https://localhost:8080/"
        }
      },
      "execution_count": null,
      "outputs": [
        {
          "output_type": "execute_result",
          "data": {
            "text/plain": [
              "array([[1.320e+01, 1.780e+00, 2.140e+00, 1.120e+01, 1.000e+02, 2.650e+00,\n",
              "        2.760e+00, 2.600e-01, 1.280e+00, 4.380e+00, 1.050e+00, 3.400e+00,\n",
              "        1.050e+03],\n",
              "       [1.406e+01, 2.150e+00, 2.610e+00, 1.760e+01, 1.210e+02, 2.600e+00,\n",
              "        2.510e+00, 3.100e-01, 1.250e+00, 5.050e+00, 1.060e+00, 3.580e+00,\n",
              "        1.295e+03],\n",
              "       [1.363e+01, 1.810e+00, 2.700e+00, 1.720e+01, 1.120e+02, 2.850e+00,\n",
              "        2.910e+00, 3.000e-01, 1.460e+00, 7.300e+00, 1.280e+00, 2.880e+00,\n",
              "        1.310e+03],\n",
              "       [1.376e+01, 1.530e+00, 2.700e+00, 1.950e+01, 1.320e+02, 2.950e+00,\n",
              "        2.740e+00, 5.000e-01, 1.350e+00, 5.400e+00, 1.250e+00, 3.000e+00,\n",
              "        1.235e+03],\n",
              "       [1.351e+01, 1.800e+00, 2.650e+00, 1.900e+01, 1.100e+02, 2.350e+00,\n",
              "        2.530e+00, 2.900e-01, 1.540e+00, 4.200e+00, 1.100e+00, 2.870e+00,\n",
              "        1.095e+03],\n",
              "       [1.328e+01, 1.640e+00, 2.840e+00, 1.550e+01, 1.100e+02, 2.600e+00,\n",
              "        2.680e+00, 3.400e-01, 1.360e+00, 4.600e+00, 1.090e+00, 2.780e+00,\n",
              "        8.800e+02],\n",
              "       [1.421e+01, 4.040e+00, 2.440e+00, 1.890e+01, 1.110e+02, 2.850e+00,\n",
              "        2.650e+00, 3.000e-01, 1.250e+00, 5.240e+00, 8.700e-01, 3.330e+00,\n",
              "        1.080e+03],\n",
              "       [1.286e+01, 1.350e+00, 2.320e+00, 1.800e+01, 1.220e+02, 1.510e+00,\n",
              "        1.250e+00, 2.100e-01, 9.400e-01, 4.100e+00, 7.600e-01, 1.290e+00,\n",
              "        6.300e+02],\n",
              "       [1.288e+01, 2.990e+00, 2.400e+00, 2.000e+01, 1.040e+02, 1.300e+00,\n",
              "        1.220e+00, 2.400e-01, 8.300e-01, 5.400e+00, 7.400e-01, 1.420e+00,\n",
              "        5.300e+02],\n",
              "       [1.270e+01, 3.550e+00, 2.360e+00, 2.150e+01, 1.060e+02, 1.700e+00,\n",
              "        1.200e+00, 1.700e-01, 8.400e-01, 5.000e+00, 7.800e-01, 1.290e+00,\n",
              "        6.000e+02],\n",
              "       [1.284e+01, 2.960e+00, 2.610e+00, 2.400e+01, 1.010e+02, 2.320e+00,\n",
              "        6.000e-01, 5.300e-01, 8.100e-01, 4.920e+00, 8.900e-01, 2.150e+00,\n",
              "        5.900e+02],\n",
              "       [1.225e+01, 3.880e+00, 2.200e+00, 1.850e+01, 1.120e+02, 1.380e+00,\n",
              "        7.800e-01, 2.900e-01, 1.140e+00, 8.210e+00, 6.500e-01, 2.000e+00,\n",
              "        8.550e+02],\n",
              "       [1.316e+01, 3.570e+00, 2.150e+00, 2.100e+01, 1.020e+02, 1.500e+00,\n",
              "        5.500e-01, 4.300e-01, 1.300e+00, 4.000e+00, 6.000e-01, 1.680e+00,\n",
              "        8.300e+02],\n",
              "       [1.308e+01, 3.900e+00, 2.360e+00, 2.150e+01, 1.130e+02, 1.410e+00,\n",
              "        1.390e+00, 3.400e-01, 1.140e+00, 9.400e+00, 5.700e-01, 1.330e+00,\n",
              "        5.500e+02],\n",
              "       [1.350e+01, 3.120e+00, 2.620e+00, 2.400e+01, 1.230e+02, 1.400e+00,\n",
              "        1.570e+00, 2.200e-01, 1.250e+00, 8.600e+00, 5.900e-01, 1.300e+00,\n",
              "        5.000e+02],\n",
              "       [1.279e+01, 2.670e+00, 2.480e+00, 2.200e+01, 1.120e+02, 1.480e+00,\n",
              "        1.360e+00, 2.400e-01, 1.260e+00, 1.080e+01, 4.800e-01, 1.470e+00,\n",
              "        4.800e+02],\n",
              "       [1.311e+01, 1.900e+00, 2.750e+00, 2.550e+01, 1.160e+02, 2.200e+00,\n",
              "        1.280e+00, 2.600e-01, 1.560e+00, 7.100e+00, 6.100e-01, 1.330e+00,\n",
              "        4.250e+02],\n",
              "       [1.258e+01, 1.290e+00, 2.100e+00, 2.000e+01, 1.030e+02, 1.480e+00,\n",
              "        5.800e-01, 5.300e-01, 1.400e+00, 7.600e+00, 5.800e-01, 1.550e+00,\n",
              "        6.400e+02],\n",
              "       [1.369e+01, 3.260e+00, 2.540e+00, 2.000e+01, 1.070e+02, 1.830e+00,\n",
              "        5.600e-01, 5.000e-01, 8.000e-01, 5.880e+00, 9.600e-01, 1.820e+00,\n",
              "        6.800e+02],\n",
              "       [1.285e+01, 3.270e+00, 2.580e+00, 2.200e+01, 1.060e+02, 1.650e+00,\n",
              "        6.000e-01, 6.000e-01, 9.600e-01, 5.580e+00, 8.700e-01, 2.110e+00,\n",
              "        5.700e+02],\n",
              "       [1.296e+01, 3.450e+00, 2.350e+00, 1.850e+01, 1.060e+02, 1.390e+00,\n",
              "        7.000e-01, 4.000e-01, 9.400e-01, 5.280e+00, 6.800e-01, 1.750e+00,\n",
              "        6.750e+02],\n",
              "       [1.345e+01, 3.700e+00, 2.600e+00, 2.300e+01, 1.110e+02, 1.700e+00,\n",
              "        9.200e-01, 4.300e-01, 1.460e+00, 1.068e+01, 8.500e-01, 1.560e+00,\n",
              "        6.950e+02],\n",
              "       [1.358e+01, 2.580e+00, 2.690e+00, 2.450e+01, 1.050e+02, 1.550e+00,\n",
              "        8.400e-01, 3.900e-01, 1.540e+00, 8.660e+00, 7.400e-01, 1.800e+00,\n",
              "        7.500e+02],\n",
              "       [1.340e+01, 4.600e+00, 2.860e+00, 2.500e+01, 1.120e+02, 1.980e+00,\n",
              "        9.600e-01, 2.700e-01, 1.110e+00, 8.500e+00, 6.700e-01, 1.920e+00,\n",
              "        6.300e+02],\n",
              "       [1.340e+01, 3.910e+00, 2.480e+00, 2.300e+01, 1.020e+02, 1.800e+00,\n",
              "        7.500e-01, 4.300e-01, 1.410e+00, 7.300e+00, 7.000e-01, 1.560e+00,\n",
              "        7.500e+02],\n",
              "       [1.327e+01, 4.280e+00, 2.260e+00, 2.000e+01, 1.200e+02, 1.590e+00,\n",
              "        6.900e-01, 4.300e-01, 1.350e+00, 1.020e+01, 5.900e-01, 1.560e+00,\n",
              "        8.350e+02],\n",
              "       [1.317e+01, 2.590e+00, 2.370e+00, 2.000e+01, 1.200e+02, 1.650e+00,\n",
              "        6.800e-01, 5.300e-01, 1.460e+00, 9.300e+00, 6.000e-01, 1.620e+00,\n",
              "        8.400e+02]])"
            ]
          },
          "metadata": {},
          "execution_count": 54
        }
      ]
    },
    {
      "cell_type": "markdown",
      "metadata": {
        "id": "uyhvBbiYhcfb"
      },
      "source": [
        "**4.4**\n",
        "\n",
        "How many such rows are there?  Show the computation."
      ]
    },
    {
      "cell_type": "code",
      "execution_count": null,
      "metadata": {
        "id": "yv44gr54hcfb",
        "outputId": "64e7a68d-c336-4f70-dcb9-a246e5a89e79",
        "colab": {
          "base_uri": "https://localhost:8080/"
        }
      },
      "outputs": [
        {
          "output_type": "execute_result",
          "data": {
            "text/plain": [
              "27"
            ]
          },
          "metadata": {},
          "execution_count": 55
        }
      ],
      "source": [
        "# Answer 4.4\n",
        "len(result3)      # Returns the number of rows created in above cell."
      ]
    }
  ],
  "metadata": {
    "colab": {
      "name": "midterm.ipynb",
      "provenance": [],
      "collapsed_sections": [],
      "include_colab_link": true
    },
    "kernelspec": {
      "display_name": "Python 3",
      "language": "python",
      "name": "python3"
    },
    "language_info": {
      "codemirror_mode": {
        "name": "ipython",
        "version": 3
      },
      "file_extension": ".py",
      "mimetype": "text/x-python",
      "name": "python",
      "nbconvert_exporter": "python",
      "pygments_lexer": "ipython3",
      "version": "3.8.5"
    }
  },
  "nbformat": 4,
  "nbformat_minor": 0
}