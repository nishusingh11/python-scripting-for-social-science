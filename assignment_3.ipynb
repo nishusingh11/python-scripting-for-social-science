{
  "cells": [
    {
      "cell_type": "markdown",
      "metadata": {
        "id": "view-in-github",
        "colab_type": "text"
      },
      "source": [
        "<a href=\"https://colab.research.google.com/github/nishusingh11/python-scripting-for-social-science/blob/main/assignment_3.ipynb\" target=\"_parent\"><img src=\"https://colab.research.google.com/assets/colab-badge.svg\" alt=\"Open In Colab\"/></a>"
      ]
    },
    {
      "cell_type": "markdown",
      "metadata": {
        "id": "s42k5QjBdnvH"
      },
      "source": [
        "# Functions, types, loops assignment"
      ]
    },
    {
      "cell_type": "markdown",
      "metadata": {
        "id": "IVxhZjtXdnvM"
      },
      "source": [
        "## Exercise 1"
      ]
    },
    {
      "cell_type": "markdown",
      "metadata": {
        "id": "BVQHmsVddnvN"
      },
      "source": [
        "Add a line of code that will generate the give output::\n",
        " \n",
        "     In [ ]: a_list = [2,7,8, 19]\n",
        "             YOUR CODE HERE\n",
        "     Out [ ]: 2\n",
        "     \n",
        "NOTE: The idea of this kind of exercise is to write a line of code\n",
        "that will produce the given output, 2 in this case.  Your\n",
        "answer goes in the next cell, which is a code cell.  It should this be an\n",
        "expression that operates on `a_list`.  A simple correct answer is:\n",
        "\n",
        "     In [ ]: a_list = [2,7,8, 19]\n",
        "             a_list[0]\n",
        "     Out [ ]: 2\n",
        "     \n",
        "Don't forget to evaluate the cell after you've written in your answer to generate Python's output and check your answer!\n"
      ]
    },
    {
      "cell_type": "code",
      "execution_count": null,
      "metadata": {
        "id": "trUmB_3_dnvO",
        "outputId": "63bcd098-da3c-45f9-8c02-e4d365dc72c1",
        "colab": {
          "base_uri": "https://localhost:8080/"
        }
      },
      "outputs": [
        {
          "output_type": "execute_result",
          "data": {
            "text/plain": [
              "2"
            ]
          },
          "metadata": {},
          "execution_count": 3
        }
      ],
      "source": [
        "a_list = [2,7,8, 19]\n",
        "a_list[0]"
      ]
    },
    {
      "cell_type": "markdown",
      "metadata": {
        "id": "_OTzTki_dnvR"
      },
      "source": [
        "## Exercise 2"
      ]
    },
    {
      "cell_type": "markdown",
      "metadata": {
        "id": "X_jUUvkYdnvR"
      },
      "source": [
        "  Write a line of code that produces the given output.  Use a splice with a \"steps\" component.\n",
        "   \n",
        "    In [ ]: X = 'abcdefghij'\n",
        "             YOUR CODE HERE\n",
        "    Out [ ]: 'acegi'"
      ]
    },
    {
      "cell_type": "code",
      "execution_count": null,
      "metadata": {
        "id": "3_OOTn02dnvS",
        "outputId": "d19b47f3-35e9-45cb-a7ef-95d7ba8fc3fe",
        "colab": {
          "base_uri": "https://localhost:8080/",
          "height": 35
        }
      },
      "outputs": [
        {
          "output_type": "execute_result",
          "data": {
            "application/vnd.google.colaboratory.intrinsic+json": {
              "type": "string"
            },
            "text/plain": [
              "'acegi'"
            ]
          },
          "metadata": {},
          "execution_count": 2
        }
      ],
      "source": [
        "X  = 'abcdefghij'          # Declaring the string value in X variable.\n",
        "result = \"\"                # Declaring empty string in result variable\n",
        "for letter in range(0,len(X),2):     # Task is to print every alternative letter from starting index, using loop with setting start index and step value we can acheive this.\n",
        "    result += X[letter]  \n",
        "result"
      ]
    },
    {
      "cell_type": "markdown",
      "metadata": {
        "id": "p_WNtODWdnvT"
      },
      "source": [
        "## Exercise 3"
      ]
    },
    {
      "cell_type": "markdown",
      "metadata": {
        "id": "r41647BAdnvU"
      },
      "source": [
        " Write a line of code that produces the given output: \n",
        "   \n",
        "     In [ ]: S, T = set('abc'), set('cde')\n",
        "           YOUR CODE HERE\n",
        "     Out [ ]: {'c'}\n",
        "\n",
        "Hint.  Each Python type has its own methods.  For instance, strings have a `.title()` method that capitalizes them.  For this problem use a method that is particular to **sets** on the two sets `S` and `T`.  Look\n",
        "at [Van DerPlas's Whirlwind Tour, Ch. 6](https://colab.research.google.com/github/jakevdp/WhirlwindTourOfPython/blob/6f1daf714fe52a8dde6a288674ba46a7feed8816/06-Built-in-Data-Structures.ipynb) for a nice discussion of set methods."
      ]
    },
    {
      "cell_type": "code",
      "execution_count": null,
      "metadata": {
        "id": "lIU8WR2rdnvU",
        "outputId": "e8fd6bd8-a385-45e7-81df-00bad779f13d",
        "colab": {
          "base_uri": "https://localhost:8080/"
        }
      },
      "outputs": [
        {
          "output_type": "execute_result",
          "data": {
            "text/plain": [
              "{'c'}"
            ]
          },
          "metadata": {},
          "execution_count": 5
        }
      ],
      "source": [
        "S, T = set('abc'), set('cde')     # set is very powerful data structure. in python there are many predefined function of set. \n",
        "S.intersection(T)                 # Using intersection() on two sets we can get the common elements exists in both the sets."
      ]
    },
    {
      "cell_type": "markdown",
      "metadata": {
        "id": "-eTp4CzhdnvV"
      },
      "source": [
        "## Exercise 4"
      ]
    },
    {
      "cell_type": "markdown",
      "metadata": {
        "id": "h70aRus2dnvV"
      },
      "source": [
        " Write a line of code that produces the given output: \n",
        "   \n",
        "     In [ ]: a_list = [2,7,8, 19]\n",
        "           YOUR CODE HERE\n",
        "     Out [ ]: [22,27,28,39]\n",
        "    \n",
        "Hint: Try a list comprehension. Look at [Whirlwind Tour](https://colab.research.google.com/github/jakevdp/WhirlwindTourOfPython/blob/6f1daf714fe52a8dde6a288674ba46a7feed8816/11-List-Comprehensions.ipynb) for a quick review of list comprehensions."
      ]
    },
    {
      "cell_type": "code",
      "execution_count": null,
      "metadata": {
        "id": "4v6V42iOdnvV",
        "colab": {
          "base_uri": "https://localhost:8080/"
        },
        "outputId": "93f3e160-c132-4e21-840c-18f9d13687c1"
      },
      "outputs": [
        {
          "output_type": "execute_result",
          "data": {
            "text/plain": [
              "[22, 27, 28, 39]"
            ]
          },
          "metadata": {},
          "execution_count": 6
        }
      ],
      "source": [
        "a_list = [2,7,8, 19]           # Declaring the list of integers.\n",
        "result = [num+20 for num in a_list]    # Using list comprehension, will iterate loop over each element and 20 with eac element.\n",
        "result"
      ]
    },
    {
      "cell_type": "markdown",
      "metadata": {
        "id": "zJyNK1XOdnvW"
      },
      "source": [
        "## Exercise 5"
      ]
    },
    {
      "cell_type": "markdown",
      "metadata": {
        "id": "pYHWhRgVdnvW"
      },
      "source": [
        "Write a line of code that produces the given output.\n",
        "\n",
        "Hint Remember that list comprehensions can also be used as filters. Look at [Whirlwind Tour](https://colab.research.google.com/github/jakevdp/WhirlwindTourOfPython/blob/6f1daf714fe52a8dde6a288674ba46a7feed8816/11-List-Comprehensions.ipynb) for a quick review of list comprehensions.\n",
        "\n",
        "```\n",
        "In [ ]: a_list = [2,7,8, 19]\n",
        "In [ ]: # Your code           \n",
        "Out [ ]: [22,27]\n",
        " ```"
      ]
    },
    {
      "cell_type": "code",
      "execution_count": null,
      "metadata": {
        "id": "sRMBT-yvdnvW"
      },
      "outputs": [],
      "source": [
        "a_list = [2,7,8, 19]      # Declaring the list of integers."
      ]
    },
    {
      "cell_type": "code",
      "execution_count": null,
      "metadata": {
        "id": "O7kS7JSwdnvW",
        "colab": {
          "base_uri": "https://localhost:8080/"
        },
        "outputId": "f9d6e5eb-a773-47ba-d7ce-3c0036e25af1"
      },
      "outputs": [
        {
          "output_type": "execute_result",
          "data": {
            "text/plain": [
              "[22, 27]"
            ]
          },
          "metadata": {},
          "execution_count": 8
        }
      ],
      "source": [
        "result = [num+20 for num in a_list if num % 5 == 2]   # Using list comprehension, will access each element, check condition if element dividing by 5 is equal to 2, then element will be by 20.\n",
        "result"
      ]
    },
    {
      "cell_type": "markdown",
      "metadata": {
        "id": "-3fo0HnidnvX"
      },
      "source": [
        "## Exercise 6"
      ]
    },
    {
      "cell_type": "markdown",
      "metadata": {
        "id": "L7e6o7BcdnvX"
      },
      "source": [
        "Write a function that finds all the consonants in a string.  As a help, the list of vowels is given below.  The beginning\n",
        "of the function definition has been given with a `pass` as the body.  \n",
        "\n",
        "It should work as in the following examples.\n",
        "\n",
        "```\n",
        ">>> find_consonants('baker')\n",
        "'bkr'\n",
        ">>> find_consonants('abracadabra')\n",
        "'brcdbr'\n",
        ">>> find_consonants('mississippi is the place for me')\n",
        "'mssssppsthplcfrm'\n",
        "```\n",
        "\n",
        "As the argument of the function, use the name that has been supplied.\n",
        "Replace the `pass` with the correct definition of the function.\n",
        "\n",
        "For those interested in more of a challenge, you may add 'sometimes y' to the list of vowels. The letter `'y'` is a vowel in \"Mary\" and \"Plymouth\" and \"play\", but not in \"youth\"."
      ]
    },
    {
      "cell_type": "code",
      "execution_count": null,
      "metadata": {
        "id": "8fwBpvy7dnvX",
        "colab": {
          "base_uri": "https://localhost:8080/"
        },
        "outputId": "ade1ee7a-3ff6-4dcc-cfe9-59902c7dad32"
      },
      "outputs": [
        {
          "output_type": "stream",
          "name": "stdout",
          "text": [
            "bkr\n"
          ]
        }
      ],
      "source": [
        "# Below code is to print the consonants without handling y \n",
        "vowels = 'aeiou'     \n",
        "\n",
        "def find_consonants(string):  # function takes string as input.\n",
        "    result = \"\"               \n",
        "    for letter in string:            # this will traverse the string character by character, Checking if character is not in vowels then append in list\n",
        "        if letter not in vowels:     \n",
        "            result += letter\n",
        "    return result\n",
        "print(find_consonants('baker'))"
      ]
    },
    {
      "cell_type": "code",
      "source": [
        "# Pariatlly solved: Below code is to print the consonants including y.\n",
        "# I covered only one condition to consider y in consonant, which is if the first character is y then consider it as consonant.\n",
        "vowels = 'aeiouy'\n",
        "\n",
        "def find_consonants(string):\n",
        "    result = \"\"\n",
        "    if string[0] == 'y' or string[0] == 'Y':  # Here checking whether the first character is y / Y or not. \n",
        "        result += string[0]                   # If above condition is true then concatenating it to the result variable. \n",
        "    \n",
        "    for letter in string:                     # loop will traverse each character, if cg=haracter is not in vowels then concatenating it to the result variable\n",
        "        if letter not in vowels:\n",
        "            result += letter\n",
        "    return result\n",
        "print(find_consonants('ybaker'))"
      ],
      "metadata": {
        "colab": {
          "base_uri": "https://localhost:8080/"
        },
        "id": "chjM2-eyn_am",
        "outputId": "d02dfde2-9bcd-4a2d-f2da-dc515c996385"
      },
      "execution_count": null,
      "outputs": [
        {
          "output_type": "stream",
          "name": "stdout",
          "text": [
            "ybkr\n"
          ]
        }
      ]
    },
    {
      "cell_type": "markdown",
      "metadata": {
        "id": "bNthK5FSdnvY"
      },
      "source": [
        "## Exercise 7"
      ]
    },
    {
      "cell_type": "markdown",
      "metadata": {
        "id": "7LVQIDaXdnvY"
      },
      "source": [
        " Write a line of code that operates on `XX` and produces the given output: \n",
        "   \n",
        "     In [ ]: XX = 'bad good sad happy'\n",
        "           YOUR CODE HERE\n",
        "     Out [ ]: [True, False, True, False]\n",
        "  \n",
        " Hint:  Try a list comprehension that collects\n",
        "  a list of the results of a Boolean test.  But remember that the elements of a string\n",
        "  are characters.  You can turn `XX` into a list of length 4 with a simple operation \n",
        "  discussed in the python_types_nb.\n"
      ]
    },
    {
      "cell_type": "code",
      "execution_count": null,
      "metadata": {
        "id": "LXDBZaGrdnvY",
        "colab": {
          "base_uri": "https://localhost:8080/"
        },
        "outputId": "aa695857-ed54-49db-c63d-45e9d3b65f51"
      },
      "outputs": [
        {
          "output_type": "execute_result",
          "data": {
            "text/plain": [
              "[True, False, True, False]"
            ]
          },
          "metadata": {},
          "execution_count": 19
        }
      ],
      "source": [
        "# According to the above output, using logic to check lenght of the word. If lenght of word is 3 then will print True otherwise will print False\n",
        "XX = 'bad good sad happy' \n",
        "XX_list = XX.split(\" \")\n",
        "result = []\n",
        "for word in XX_list:\n",
        "    if len(word) % 3 == 0:\n",
        "        result.append(True)\n",
        "    else:\n",
        "        result.append(False)\n",
        "result"
      ]
    },
    {
      "cell_type": "markdown",
      "metadata": {
        "id": "1G8AB8sEdnvY"
      },
      "source": [
        "## Exercise 8"
      ]
    },
    {
      "cell_type": "markdown",
      "metadata": {
        "id": "8XVlZh_idnvY"
      },
      "source": [
        "You're having a big party.\n",
        "\n",
        "The guests will be boys and girls.   The lists are defined for you in the next cell.\n",
        "There should be 24 pairings since the pairing ('Huey', 'Susan') should count\n",
        "as the same dance partnership as ('Susan','Huey'). \n",
        "\n",
        "You want to make sure there are enough dance partners and that they are all compatible.  Write a single list comprehension that will compute every possible pairing of a boy with a girl.  \n",
        "\n",
        "Hint:\n",
        "The list built by the list comprehension will be a list of tuples of length 2."
      ]
    },
    {
      "cell_type": "code",
      "execution_count": null,
      "metadata": {
        "id": "ilgQvwwJdnvZ",
        "colab": {
          "base_uri": "https://localhost:8080/"
        },
        "outputId": "abc044dd-d70e-4a01-bca7-7f152d97431a"
      },
      "outputs": [
        {
          "output_type": "stream",
          "name": "stdout",
          "text": [
            "[('Huey', 'Susan'), ('Huey', 'Paula'), ('Huey', 'Barbara'), ('Huey', 'Felicia'), ('Fred', 'Susan'), ('Fred', 'Paula'), ('Fred', 'Barbara'), ('Fred', 'Felicia'), ('Jason', 'Susan'), ('Jason', 'Paula'), ('Jason', 'Barbara'), ('Jason', 'Felicia'), ('Ed', 'Susan'), ('Ed', 'Paula'), ('Ed', 'Barbara'), ('Ed', 'Felicia'), ('Albert', 'Susan'), ('Albert', 'Paula'), ('Albert', 'Barbara'), ('Albert', 'Felicia'), ('Louie', 'Susan'), ('Louie', 'Paula'), ('Louie', 'Barbara'), ('Louie', 'Felicia')]\n",
            " Total 24 pairs are made\n"
          ]
        }
      ],
      "source": [
        "# Below code will print pairs of boys and girls\n",
        "boys = 'Huey Fred Jason Ed Albert Louie'.split()\n",
        "girls = 'Susan Paula Barbara Felicia'.split()\n",
        "result = [ (boy, girl) for boy in boys for girl in girls]   # Using list comprehension to store tuple of boy, girl pair in list.\n",
        "print(f\"{result}\\n Total {len(result)} pairs are made\")"
      ]
    },
    {
      "cell_type": "markdown",
      "metadata": {
        "id": "bvtmPGTcdnvZ"
      },
      "source": [
        "## Exercise 9"
      ]
    },
    {
      "cell_type": "markdown",
      "metadata": {
        "id": "OopyY28RdnvZ"
      },
      "source": [
        "You suddenly remember that boys don't always dance with girls and girls don't always dance with boys.\n",
        "And there are people who are neither who are also guests at the party.  You compile a list of neithers.  \n",
        "\n",
        "Using the `boys` and `girls` lists from the last problem and the `neither` list below,\n",
        "write another list comprehension that finds **all** the possible dance partners, that is\n",
        "every pair of guests at the party, regardless of whether they are boys or girls or neither.\n",
        "But remember: people can't dance with themselves (at least not for the dances that will\n",
        "played at this party).\n",
        "\n",
        "If your final list has 169 members, people are dancing with themselves.\n",
        "\n",
        "If your final list has 156 members, it's because you have both ('Huey', 'Fred') and ('Fred', 'Huey') as possible dance partners. This is a bug.  They are just one happy couple.\n",
        "One way to fix this is do a set comprehension but then the final set you collect can't\n",
        "just be a set of two-member tuples or you'll have 156 of them.\n",
        "\n",
        "Another way to fix this is with `enumerate` as shown in the function-nb notebook.\n",
        "\n",
        "The correct answer has 76 dance couples."
      ]
    },
    {
      "cell_type": "code",
      "execution_count": null,
      "metadata": {
        "id": "2jMjQlTBdnvZ",
        "colab": {
          "base_uri": "https://localhost:8080/"
        },
        "outputId": "2fe4d738-7197-4ad5-84c3-706385a6235d"
      },
      "outputs": [
        {
          "output_type": "stream",
          "name": "stdout",
          "text": [
            "['Huey', 'Fred', 'Jason', 'Ed', 'Albert', 'Louie', 'Susan', 'Paula', 'Barbara', 'Felicia', 'Lee', 'Sam', 'Kim']\n"
          ]
        },
        {
          "output_type": "execute_result",
          "data": {
            "text/plain": [
              "169"
            ]
          },
          "metadata": {},
          "execution_count": 35
        }
      ],
      "source": [
        "# Below code will print final list which has 169 members, people are dancing with themselves.\n",
        "neither = 'Lee Sam Kim'.split()\n",
        "total = boys+girls+neither\n",
        "print(total)\n",
        "result = [(total[i],total[j]) for i in range(len(total)) for j in range(len(total))]\n",
        "len(result)"
      ]
    },
    {
      "cell_type": "code",
      "source": [
        "# Below code will print final list which has 156 members, after removing the pair of people dancing with themselves.\n",
        "result = [(total[i],total[j]) for i in range(len(total)) for j in range(len(total)) if total[i]!=total[j]]\n",
        "len(result)"
      ],
      "metadata": {
        "colab": {
          "base_uri": "https://localhost:8080/"
        },
        "id": "Z0CF5NBDLZVn",
        "outputId": "058443f7-5382-4753-a8ea-432cf1fc7452"
      },
      "execution_count": null,
      "outputs": [
        {
          "output_type": "execute_result",
          "data": {
            "text/plain": [
              "156"
            ]
          },
          "metadata": {},
          "execution_count": 37
        }
      ]
    },
    {
      "cell_type": "code",
      "source": [
        "# Below code will print final list which has 76 members, after removing the pair of people dancing with themselves and after removing the pairs with the same dancing pair.\n",
        "result = [(total[i],total[j]) for i in range(len(total)) for j in range(i,len(total)) if total[i]!=total[j]]\n",
        "len(result)"
      ],
      "metadata": {
        "id": "cfW-qg7WNnMt",
        "outputId": "9dc58152-2b87-4674-ada1-8d4fc5e74caa",
        "colab": {
          "base_uri": "https://localhost:8080/"
        }
      },
      "execution_count": null,
      "outputs": [
        {
          "output_type": "execute_result",
          "data": {
            "text/plain": [
              "78"
            ]
          },
          "metadata": {},
          "execution_count": 43
        }
      ]
    },
    {
      "cell_type": "markdown",
      "metadata": {
        "id": "IZkW6l5DdnvZ"
      },
      "source": [
        "There is another simpler way to solve the problem we just solved, which is not quite as\n",
        "useful as a programming exercise.\n",
        "\n",
        "It will be helpful to review our discussion of Counters in the book draft section on dictionaries.\n",
        "It will also be helpful to read the [Python docs](http://docs.python.org/2/library/collections.html)  to find a convenient method that finds the element in a counter with the highest count."
      ]
    },
    {
      "cell_type": "markdown",
      "metadata": {
        "id": "dkS-Ow_EdnvZ"
      },
      "source": [
        "## Exercise 9"
      ]
    },
    {
      "cell_type": "markdown",
      "metadata": {
        "id": "7LiiJwj5dnva"
      },
      "source": [
        "Write a **function** `remainder_one` that takes two arguments `dividend` and `divisor`; `remainder_one`  returns `True` when the result of dividing the `dividend` by  the `divisor` has a remainder of 1, and `False` when the remainder is some other integer;`remainder_one`  should return nothing (`None`) when either argument is a non-integer.  It's okay to raise an Exception for non numbers.  The `divisor` argument should be optional and should have a default value of `3`.\n",
        "\n",
        "Here is how it should  work:\n",
        "\n",
        "```\n",
        ">>> print(remainder_one(14,3))\n",
        "False\n",
        ">>> print(remainder_one(14))\n",
        "False\n",
        ">>> print(remainder_one(16))\n",
        "True\n",
        ">>> print(remainder_one(16.0))\n",
        "True\n",
        ">>> print(remainder_one(16,2))\n",
        "False\n",
        ">>> print(remainder_one(16.1))\n",
        "None\n",
        "```\n",
        "\n",
        "How will you test if something is an integer?  Usually this test\n",
        "would work:\n",
        "\n",
        "```\n",
        ">>> isinstance(16, int)\n",
        "True\n",
        "```\n",
        "\n",
        "but it won't work here because as the examples above show, we want 16.0\n",
        "to count as an integer and it doesn't per this test:\n",
        "\n",
        "```\n",
        ">>> isinstance(16.0, int)\n",
        "False\n",
        "```\n",
        "\n",
        "Try the following idea.  If the remainder is 0 when divided by 1,\n",
        "it's an integer.\n",
        "\n",
        "Your function body can be written in 2 lines of code.  Don't worry greatly\n",
        "if it is longer than that."
      ]
    },
    {
      "cell_type": "code",
      "execution_count": 24,
      "metadata": {
        "id": "hEcvTq1Odnva",
        "colab": {
          "base_uri": "https://localhost:8080/"
        },
        "outputId": "6867d20b-8553-49a4-d5f1-1978383a062d"
      },
      "outputs": [
        {
          "output_type": "stream",
          "name": "stdout",
          "text": [
            "None\n"
          ]
        }
      ],
      "source": [
        "# Below code will correct output for all above inputs.\n",
        "# Code is handling exception using try except blocks.\n",
        "# Lines of code exceeding because of handling exception and checking for the float value.\n",
        "\n",
        "def remainder_one (dividend, divisor=3):\n",
        "    \n",
        "    try:\n",
        "        if dividend % 1 != 0:\n",
        "            return None\n",
        "        if dividend % divisor == 1:\n",
        "            return True\n",
        "        else:\n",
        "            return False\n",
        "    except Exception as e:\n",
        "        print(\"Arguments are not integer\")\n",
        "    \n",
        "print(remainder_one(16.1))"
      ]
    },
    {
      "cell_type": "markdown",
      "metadata": {
        "id": "mb85vpYBdnva"
      },
      "source": [
        "## Exercise 10"
      ]
    },
    {
      "cell_type": "markdown",
      "metadata": {
        "id": "_ikjsRCndnva"
      },
      "source": [
        "Write a function that converts temperatures (as\n",
        "numbers) from Fahrenheit to Celsius scale. The temperature should be\n",
        "optional and its default value should be 32.  Here are some examples showing\n",
        "how you **call** the `fahrenheit-to_celsius` function and what it returns:\n",
        "\n",
        "```\n",
        "    In [ ]:  fahrenheit_to_celsius(212)\n",
        "    Out [ ]: 100\n",
        "    In [ ]: fahrenheit_to_celsius(-40)\n",
        "    Out [ ]: -40.0\n",
        "    In [ ]:  fahrenheit_to_celsius(32)\n",
        "    Out [ ]: 0\n",
        "    In [ ]:  fahrenheit_to_celsius()\n",
        "    Out [ ]: 0    \n",
        "```\n",
        "\n",
        "Please include a cell printing out your validation tests to show you have checked your work (which of course you **always** do).   \n",
        "To create new cells to demonstrate all the examples, you hold down the `[Control]` key while pressing `M` and then typing `b` (for \"below\").\n"
      ]
    },
    {
      "cell_type": "markdown",
      "metadata": {
        "id": "hrV296iJdnva"
      },
      "source": [
        "## Exercise 11"
      ]
    },
    {
      "cell_type": "code",
      "execution_count": 29,
      "metadata": {
        "id": "zHuYtIJCdnva",
        "colab": {
          "base_uri": "https://localhost:8080/"
        },
        "outputId": "38091eb8-b9b6-43c8-cee0-4d8ed3e214db"
      },
      "outputs": [
        {
          "output_type": "execute_result",
          "data": {
            "text/plain": [
              "-40.0"
            ]
          },
          "metadata": {},
          "execution_count": 29
        }
      ],
      "source": [
        "# Below code will converts temperature from Fahrenheit to Celsius scale\n",
        "# Below code is printing correct output for all the above inputs\n",
        "def fahrenheit_to_celsius(f=32):\n",
        "    \n",
        "    return ((f-32)*5)/9\n",
        "fahrenheit_to_celsius(-40)"
      ]
    },
    {
      "cell_type": "markdown",
      "metadata": {
        "id": "SU3o-sykdnvb"
      },
      "source": [
        "Write a function that can compute the difference between two temperatures.  Assume the\n",
        "input temperatures are Fahrenheit and the output temperatures are Celsius. You should take the differences in Celsus, as shown in the examples below.   Your\n",
        "definition should **call** the `fahrenheit_to_celsius`  function you defined in the previous problem, so **don't** just copy and paste the code from there.  Assume the first argument is obligatory and then the second argument is optional.  When the second argument is omitted, just return the result of converting the first argument to Celsius.\n",
        "Show that you have checked your work, using all of the following examples.\n",
        "\n",
        "Here is how the function should work:\n",
        "\n",
        "```\n",
        "    In [ ]:  fahrenheit_to_celsius_diff(212,32)\n",
        "    Out [ ]: 100\n",
        "    In [ ]: fahrenheit_to_celsius_diff(-40, 212)\n",
        "    Out [ ]: -140.0\n",
        "    In [ ]:  fahrenheit_to_celsius_diff(212)\n",
        "    Out [ ]: 100\n",
        "    In [ ]:  fahrenheit_to_celsius_diff(212, 0)\n",
        "    Out [ ]: 117.78\n",
        "\n",
        "```\n"
      ]
    },
    {
      "cell_type": "code",
      "execution_count": 34,
      "metadata": {
        "scrolled": true,
        "id": "dq-vHba3dnvb",
        "colab": {
          "base_uri": "https://localhost:8080/"
        },
        "outputId": "6fd391a2-2f5b-4fca-fb73-fa1bfcc23373"
      },
      "outputs": [
        {
          "output_type": "execute_result",
          "data": {
            "text/plain": [
              "117.78"
            ]
          },
          "metadata": {},
          "execution_count": 34
        }
      ],
      "source": [
        "# Below function will compute the difference between two temperature.\n",
        "# The f2 argument is optional with default value None\n",
        "# Reusing the fahrenheit_to_celsius() code to converts temperature from Fahrenheit to Celsius scale. fahrenheit_to_celsius() is implemented in above cell.\n",
        "def fahrenheit_to_celsius_diff(f1, f2=None):\n",
        "    \n",
        "    c1 = fahrenheit_to_celsius(f1)\n",
        "    if f2 == None:\n",
        "        c2 = 0\n",
        "    else: \n",
        "        c2 = fahrenheit_to_celsius(f2)\n",
        "    return round(c1-c2,2)\n",
        "fahrenheit_to_celsius_diff(212,0)"
      ]
    },
    {
      "cell_type": "markdown",
      "metadata": {
        "id": "BgCuZYH0dnvb"
      },
      "source": [
        "## Sudoku:  More list comprehension"
      ]
    },
    {
      "cell_type": "markdown",
      "metadata": {
        "id": "gKEVr8lQdnvb"
      },
      "source": [
        "This is the dreaded blank page problem I promised you at the beginning of the course.\n",
        "\n",
        "You are essentially being asked to write a non-trivial function from scratch.  The functions notebook tried to give you some hints, so try to read that material before doing this.  Here we present the helper code and the problem."
      ]
    },
    {
      "cell_type": "markdown",
      "metadata": {
        "id": "Sy_3APGPdnvb"
      },
      "source": [
        "For this exercise, execute the code below; we will use it, but only briefly discuss how it works. "
      ]
    },
    {
      "cell_type": "markdown",
      "metadata": {
        "id": "x3x8Ltmkdnvb"
      },
      "source": [
        "The code below is a simplified subset of the code defined in the functions_nb.  This version is slightly simpler than the code there and understanding this part of the code will help you complete this exercise.  You should make sure you understand how it works."
      ]
    },
    {
      "cell_type": "code",
      "execution_count": null,
      "metadata": {
        "id": "JD_toGbTdnvc"
      },
      "outputs": [],
      "source": [
        "def cross(A, B):\n",
        "    \"\"\"\n",
        "    Cross product of elements in sequence A and elements in sequence B. \n",
        "    When a and b are strings, we just concatenate them.\n",
        "    \"\"\"\n",
        "    return [a+b for a in A for b in B]\n",
        "\n",
        "\n",
        "digits   = '123456789'\n",
        "rows     = 'ABCDEFGHI'\n",
        "cols     = digits\n",
        "squares  = cross(rows, cols)\n",
        "unitlist = ([cross(rows, c) for c in cols] +\n",
        "            [cross(r, cols) for r in rows] +\n",
        "            [cross(rs, cs) for rs in ('ABC','DEF','GHI') for cs in ('123','456','789')])\n",
        "\n",
        "# Assign to each square s A set of sets of squares\n",
        "units = dict((s, [u for u in unitlist if s in u])\n",
        "             for s in squares)\n",
        "## Assign to each square s a set of squares, namely those that cant have the same value as s.\n",
        "peers = dict((s, set(sum(units[s],[]))-set([s]))\n",
        "             for s in squares)\n",
        "\n",
        "\n",
        "def grid_values(grid):\n",
        "    \"Convert grid into a dict of {square: char} with '0' or '.' for empties.\"\n",
        "    chars = [c for c in grid if c in digits or c in '0.']\n",
        "    assert len(chars) == 81\n",
        "    return dict(list(zip(squares, chars)))\n",
        "\n",
        "digits   = '123456789'\n",
        "rows     = 'ABCDEFGHI'\n",
        "cols     = digits\n",
        "squares  = cross(rows, cols)\n",
        "unitlist = ([cross(rows, c) for c in cols] +\n",
        "            [cross(r, cols) for r in rows] +\n",
        "            [cross(rs, cs) for rs in ('ABC','DEF','GHI') for cs in ('123','456','789')])\n",
        "\n",
        "# Assign to each square s A set of sets of squares\n",
        "units = dict((s, [u for u in unitlist if s in u])\n",
        "             for s in squares)\n",
        "## Assign to each square s a set of squares, namely those that cant have the same value as s.\n",
        "peers = dict((s, set(sum(units[s],[]))-set([s]))\n",
        "             for s in squares)\n",
        "\n",
        "##############################################################################################\n",
        "#  S o m e    D a t a    t o    P r a c t i c e     O n\n",
        "##############################################################################################\n",
        "grid1  = '003020600900305001001806400008102900700000008006708200002609500800203009005010300'\n",
        "grid1_soln = '483921657967345821251876493548132976729564138136798245372689514814253769695417382'\n",
        "grid2  = '003020600900305001001806400008102900700000008006708200002689500800203009005010300'\n",
        "# Some illegal grids (they break the rules of Sudoku)\n",
        "grid3  = '003020600900305001001806400008102900700000008006708200002609500800203089005010300'\n",
        "grid4  = '003020609900305001001806400008102900700000008006708200002609500800203009005010300'\n",
        "grid5  = '003020600900305061001806400008102900700000008006708200002609500800203009005010300'"
      ]
    },
    {
      "cell_type": "markdown",
      "metadata": {
        "id": "yGEp1J7Zdnvc"
      },
      "source": [
        "Your assignment is to write a function that will print out `Invalid` if the grid that is\n",
        "passed in as an argument is illegal and will print out `Valid` if the grid is legal.  It should work as follows:\n",
        "\n",
        "```\n",
        "test(grid_values(grid1))\n",
        "test(grid_values(grid2))\n",
        "test(grid_values(grid3))\n",
        "test(grid_values(grid4))\n",
        "test(grid_values(grid5))\n",
        "```\n",
        "\n",
        "When you finish your code and execute the lines above, the following should print out:\n",
        "\n",
        "```\n",
        "   Valid!\n",
        "   Valid!\n",
        "   Invalid!\n",
        "   Invalid!\n",
        "   Invalid!\n",
        "```"
      ]
    },
    {
      "cell_type": "markdown",
      "metadata": {
        "id": "ve7K61Utdnvc"
      },
      "source": [
        "Here some examples and the expected answers for testing your code.  The expected\n",
        "output is shown below the cell.\n",
        "\n",
        "You miught want to test in the cell below that so as not to lose track of what the original  expected output is."
      ]
    },
    {
      "cell_type": "code",
      "execution_count": null,
      "metadata": {
        "id": "47Otr5j8dnvc",
        "outputId": "886b5d16-6845-4492-c5d5-c51e05bfbdfb"
      },
      "outputs": [
        {
          "name": "stdout",
          "output_type": "stream",
          "text": [
            "Valid!\n",
            "Valid!\n",
            "Invalid!\n",
            "Invalid!\n",
            "Invalid!\n"
          ]
        }
      ],
      "source": [
        "\n",
        "pdict1 = grid_values(grid1)  # Valid\n",
        "pdict2 = grid_values(grid2)  # Valid\n",
        "pdict3 = grid_values(grid3)  # Invalid\n",
        "pdict4 = grid_values(grid4)  # Invalid\n",
        "pdict5 = grid_values(grid5)  # Invalid\n",
        "test(pdict1)\n",
        "test(pdict2)\n",
        "test(pdict3)\n",
        "test(pdict4)\n",
        "test(pdict5)"
      ]
    },
    {
      "cell_type": "code",
      "execution_count": null,
      "metadata": {
        "id": "F6bPN2ABdnvc"
      },
      "outputs": [],
      "source": [
        "pdict1 = grid_values(grid1)  # Valid\n",
        "pdict2 = grid_values(grid2)  # Valid\n",
        "pdict3 = grid_values(grid3)  # Invalid\n",
        "pdict4 = grid_values(grid4)  # Invalid\n",
        "pdict5 = grid_values(grid5)  # Invalid\n",
        "test(pdict1)\n",
        "test(pdict2)\n",
        "test(pdict3)\n",
        "test(pdict4)\n",
        "test(pdict5)"
      ]
    }
  ],
  "metadata": {
    "kernelspec": {
      "display_name": "Python 3",
      "language": "python",
      "name": "python3"
    },
    "language_info": {
      "codemirror_mode": {
        "name": "ipython",
        "version": 3
      },
      "file_extension": ".py",
      "mimetype": "text/x-python",
      "name": "python",
      "nbconvert_exporter": "python",
      "pygments_lexer": "ipython3",
      "version": "3.7.6"
    },
    "toc": {
      "base_numbering": 1,
      "nav_menu": {
        "height": "310px",
        "width": "252px"
      },
      "number_sections": true,
      "sideBar": true,
      "skip_h1_title": false,
      "title_cell": "Table of Contents",
      "title_sidebar": "Contents",
      "toc_cell": false,
      "toc_position": {},
      "toc_section_display": "block",
      "toc_window_display": false
    },
    "colab": {
      "name": "assignment_3.ipynb",
      "provenance": [],
      "include_colab_link": true
    }
  },
  "nbformat": 4,
  "nbformat_minor": 0
}