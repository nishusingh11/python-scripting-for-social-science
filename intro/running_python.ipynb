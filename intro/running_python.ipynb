{
  "cells": [
    {
      "cell_type": "markdown",
      "metadata": {
        "id": "UZw4IFWVvTwQ"
      },
      "source": [
        "Note:  If you are looking at this notebook on github and wondering how on earth to run it have a look [at this section of the online book](https://gawron.sdsu.edu/python_for_ss/course_core/book_draft/Introduction/starting_up_python.html).  Bear in mind you'll not only need to download the \"Open in colab\" extension of your Chrome browser.  You'll also need to be logged in to your Google account."
      ]
    },
    {
      "cell_type": "markdown",
      "metadata": {
        "id": "x9s5jJ4klqDx"
      },
      "source": [
        "# Running python"
      ]
    },
    {
      "cell_type": "markdown",
      "metadata": {
        "id": "teAxBAjhlqDy"
      },
      "source": [
        "The first command in the cell below will start off many notebooks.  It loads matplotlib (graphing) tools and numpy (extended math) tools into Python.  It also guarantees your plots will appear in the notebook rather than in a separate window."
      ]
    },
    {
      "cell_type": "code",
      "execution_count": 1,
      "metadata": {
        "colab": {
          "base_uri": "https://localhost:8080/",
          "height": 35
        },
        "id": "mwMxTTRzmAyU",
        "outputId": "42406c89-889e-4ee1-cdca-92bab662e22d"
      },
      "outputs": [
        {
          "output_type": "execute_result",
          "data": {
            "application/vnd.google.colaboratory.intrinsic+json": {
              "type": "string"
            },
            "text/plain": [
              "'3.7.12 (default, Sep 10 2021, 00:21:48) \\n[GCC 7.5.0]'"
            ]
          },
          "metadata": {},
          "execution_count": 1
        }
      ],
      "source": [
        "import sys\n",
        "sys.version"
      ]
    },
    {
      "cell_type": "code",
      "execution_count": 2,
      "metadata": {
        "colab": {
          "base_uri": "https://localhost:8080/"
        },
        "id": "SKB31DKrlqD1",
        "outputId": "fb30b7d0-7c34-48b4-917d-5a6ef194eaee"
      },
      "outputs": [
        {
          "output_type": "stream",
          "name": "stdout",
          "text": [
            "Populating the interactive namespace from numpy and matplotlib\n"
          ]
        }
      ],
      "source": [
        "%pylab inline"
      ]
    },
    {
      "cell_type": "code",
      "execution_count": 3,
      "metadata": {
        "id": "2a4Ebz5AlqD8"
      },
      "outputs": [],
      "source": [
        "total_secs = 7684\n",
        "hours = total_secs // 3600\n",
        "secs_still_remaining = total_secs % 3600\n",
        "minutes =  secs_still_remaining // 60\n",
        "secs_finally_remaining = secs_still_remaining  % 60"
      ]
    },
    {
      "cell_type": "markdown",
      "metadata": {
        "id": "-z86imZUlqD_"
      },
      "source": [
        "If youve just loaded this notebook, you might want to run the commands in the cell above.  This is done by placing your cursor in the cell and hitting the enter key **while** holding down shift, which we will henceforth write as `[Shift]`-`[Enter]`.  After you do that the 5 variables will have the values they were assigned in the cell. "
      ]
    },
    {
      "cell_type": "code",
      "execution_count": 4,
      "metadata": {
        "colab": {
          "base_uri": "https://localhost:8080/"
        },
        "id": "HeDbeOsZlqEA",
        "outputId": "0920d616-ff11-4eab-ec81-a9bf21738155"
      },
      "outputs": [
        {
          "output_type": "execute_result",
          "data": {
            "text/plain": [
              "7685"
            ]
          },
          "metadata": {},
          "execution_count": 4
        }
      ],
      "source": [
        "total_secs  + 1"
      ]
    },
    {
      "cell_type": "code",
      "execution_count": 5,
      "metadata": {
        "colab": {
          "base_uri": "https://localhost:8080/"
        },
        "id": "JS6Hr6xxlqED",
        "outputId": "acaad6c8-dc87-458c-e3e7-503fd0def0b3"
      },
      "outputs": [
        {
          "output_type": "execute_result",
          "data": {
            "text/plain": [
              "2"
            ]
          },
          "metadata": {},
          "execution_count": 5
        }
      ],
      "source": [
        "hours"
      ]
    },
    {
      "cell_type": "code",
      "execution_count": 6,
      "metadata": {
        "colab": {
          "base_uri": "https://localhost:8080/"
        },
        "id": "87nSqyjklqEG",
        "outputId": "12261c67-ebfe-4c62-f2cc-b2dd498cdfea"
      },
      "outputs": [
        {
          "output_type": "execute_result",
          "data": {
            "text/plain": [
              "8"
            ]
          },
          "metadata": {},
          "execution_count": 6
        }
      ],
      "source": [
        "minutes"
      ]
    },
    {
      "cell_type": "code",
      "execution_count": 7,
      "metadata": {
        "colab": {
          "base_uri": "https://localhost:8080/"
        },
        "id": "g35ld2tUlqEK",
        "outputId": "459e4de1-0b29-4b93-daa6-ffd3563fdc33"
      },
      "outputs": [
        {
          "output_type": "execute_result",
          "data": {
            "text/plain": [
              "484"
            ]
          },
          "metadata": {},
          "execution_count": 7
        }
      ],
      "source": [
        "secs_still_remaining"
      ]
    },
    {
      "cell_type": "code",
      "execution_count": 8,
      "metadata": {
        "colab": {
          "base_uri": "https://localhost:8080/"
        },
        "id": "QpbHNDK_lqEN",
        "outputId": "ec2ec09a-50e9-4d80-9e5b-d2933c76f5bd"
      },
      "outputs": [
        {
          "output_type": "execute_result",
          "data": {
            "text/plain": [
              "4"
            ]
          },
          "metadata": {},
          "execution_count": 8
        }
      ],
      "source": [
        "secs_finally_remaining"
      ]
    },
    {
      "cell_type": "markdown",
      "metadata": {
        "id": "C5Ulk3VslqEQ"
      },
      "source": [
        "To look at the values of a set of variables you can do what we just did, typing each variable to Python, but there are some other options.  One is to type a tuple to Python, to look at several variables at once."
      ]
    },
    {
      "cell_type": "code",
      "execution_count": 9,
      "metadata": {
        "colab": {
          "base_uri": "https://localhost:8080/"
        },
        "id": "54WkydbllqER",
        "outputId": "0298738e-7390-44c1-b725-e6ed31a328b9"
      },
      "outputs": [
        {
          "output_type": "execute_result",
          "data": {
            "text/plain": [
              "(7684, 2, 8, 484, 4)"
            ]
          },
          "metadata": {},
          "execution_count": 9
        }
      ],
      "source": [
        "(total_secs, hours, minutes, secs_still_remaining,secs_finally_remaining)"
      ]
    },
    {
      "cell_type": "markdown",
      "metadata": {
        "id": "q7br_VDjlqEU"
      },
      "source": [
        "Another is to use Python's print statement."
      ]
    },
    {
      "cell_type": "code",
      "execution_count": 10,
      "metadata": {
        "colab": {
          "base_uri": "https://localhost:8080/"
        },
        "id": "F9lgEGXglqEU",
        "outputId": "32f1bb81-18f1-43c2-d3bf-0acc66b6a68c",
        "scrolled": true
      },
      "outputs": [
        {
          "output_type": "stream",
          "name": "stdout",
          "text": [
            "Hrs = 2 mins = 8 secs = 4\n"
          ]
        }
      ],
      "source": [
        "print(\"Hrs =\", hours, \"mins =\", minutes, \"secs =\", secs_finally_remaining)"
      ]
    },
    {
      "cell_type": "markdown",
      "metadata": {
        "id": "uz0svQ8kmAya"
      },
      "source": [
        "Or equivalently and slightly more conveniently"
      ]
    },
    {
      "cell_type": "code",
      "execution_count": 11,
      "metadata": {
        "colab": {
          "base_uri": "https://localhost:8080/"
        },
        "id": "1sArAerHmAya",
        "outputId": "0c86036e-84d2-43da-acb1-0e961573cc38"
      },
      "outputs": [
        {
          "output_type": "stream",
          "name": "stdout",
          "text": [
            "Hrs = 2 mins = 8 secs = 4\n"
          ]
        }
      ],
      "source": [
        "print(f\"Hrs = {hours} mins = {minutes} secs = {secs_finally_remaining}\")"
      ]
    },
    {
      "cell_type": "markdown",
      "metadata": {
        "id": "RtoTHHATmAya"
      },
      "source": [
        "Notice the curly braces are important."
      ]
    },
    {
      "cell_type": "code",
      "execution_count": 12,
      "metadata": {
        "colab": {
          "base_uri": "https://localhost:8080/"
        },
        "id": "_38UbwwamAyb",
        "outputId": "e9ea09f0-3f7a-42f1-9474-f76444e339c9"
      },
      "outputs": [
        {
          "output_type": "stream",
          "name": "stdout",
          "text": [
            "Hrs = hours mins = minutes secs = secs_finally_remaining\n"
          ]
        }
      ],
      "source": [
        "print(f\"Hrs = hours mins = minutes secs = secs_finally_remaining\")"
      ]
    },
    {
      "cell_type": "markdown",
      "metadata": {
        "id": "v9Xmmm--lqEX"
      },
      "source": [
        "Some important features of the `print` statement are illustrated. In the first example we see `print` takes any number of arguments, separated by commas.  The commas are interpreted as spaces.  The final argument is not followed by a comma so print adds a newline character (\"\\n\").  The syntax of `print`, which used to  like nothing else in Python (no parens), has been changed in Python 3.0.  The new syntax is what's illustrated here."
      ]
    },
    {
      "cell_type": "markdown",
      "metadata": {
        "id": "TdfbhwySlqEY"
      },
      "source": [
        "# Python arithmetic "
      ]
    },
    {
      "cell_type": "markdown",
      "metadata": {
        "id": "LUmgRRRWlqEZ"
      },
      "source": [
        "Lets look at each of the lines in the code and see what it computes.  Python has two division operators, '//' and '/'. This is illustrated in the next line."
      ]
    },
    {
      "cell_type": "code",
      "execution_count": 13,
      "metadata": {
        "colab": {
          "base_uri": "https://localhost:8080/"
        },
        "id": "m6fl1vcnlqEa",
        "outputId": "512a19ec-df58-471f-8ddc-218c342e961b"
      },
      "outputs": [
        {
          "output_type": "execute_result",
          "data": {
            "text/plain": [
              "2"
            ]
          },
          "metadata": {},
          "execution_count": 13
        }
      ],
      "source": [
        "total_secs // 3600"
      ]
    },
    {
      "cell_type": "markdown",
      "metadata": {
        "id": "GecQMaQ1lqEd"
      },
      "source": [
        "Note that even though the value of *total_secs* is 7684, the value returned is an integer.  The '//' operator always rounds off to the nearest integer when necessary.  "
      ]
    },
    {
      "cell_type": "code",
      "execution_count": 14,
      "metadata": {
        "colab": {
          "base_uri": "https://localhost:8080/"
        },
        "id": "tn14JrgJlqEe",
        "outputId": "2c6e18c7-9e86-47d7-ae1d-3bc9bf140e30"
      },
      "outputs": [
        {
          "output_type": "execute_result",
          "data": {
            "text/plain": [
              "12.0"
            ]
          },
          "metadata": {},
          "execution_count": 14
        }
      ],
      "source": [
        "7200.1//600"
      ]
    },
    {
      "cell_type": "markdown",
      "metadata": {
        "id": "VEpDsT9RlqEh"
      },
      "source": [
        "The '%' operator (also called the **modulus** operator) computes the *remainder* in a division."
      ]
    },
    {
      "cell_type": "code",
      "execution_count": 15,
      "metadata": {
        "colab": {
          "base_uri": "https://localhost:8080/"
        },
        "id": "JFjIFROIlqEh",
        "outputId": "5f631b10-e2b7-42c0-b5e6-e66c0e38b695"
      },
      "outputs": [
        {
          "output_type": "execute_result",
          "data": {
            "text/plain": [
              "484"
            ]
          },
          "metadata": {},
          "execution_count": 15
        }
      ],
      "source": [
        "total_secs % 3600"
      ]
    },
    {
      "cell_type": "code",
      "execution_count": 16,
      "metadata": {
        "colab": {
          "base_uri": "https://localhost:8080/"
        },
        "id": "CdUWppz2lqEk",
        "outputId": "7919e20c-913f-47a6-855e-d59055aed9aa"
      },
      "outputs": [
        {
          "output_type": "execute_result",
          "data": {
            "text/plain": [
              "0.30000000000001137"
            ]
          },
          "metadata": {},
          "execution_count": 16
        }
      ],
      "source": [
        "345.3 % 3"
      ]
    },
    {
      "cell_type": "markdown",
      "metadata": {
        "id": "whOazm8UlqEn"
      },
      "source": [
        "## Basic arithmetic"
      ]
    },
    {
      "cell_type": "markdown",
      "metadata": {
        "id": "g68FE0_blqEn"
      },
      "source": [
        "Multiplication"
      ]
    },
    {
      "cell_type": "code",
      "execution_count": 17,
      "metadata": {
        "colab": {
          "base_uri": "https://localhost:8080/"
        },
        "id": "lnZDltEYlqEp",
        "outputId": "cbf28014-fb80-4f89-fdb4-ce0d31cc2ead"
      },
      "outputs": [
        {
          "output_type": "execute_result",
          "data": {
            "text/plain": [
              "6"
            ]
          },
          "metadata": {},
          "execution_count": 17
        }
      ],
      "source": [
        "3 * 2"
      ]
    },
    {
      "cell_type": "markdown",
      "metadata": {
        "id": "-z2LnvEjlqEt"
      },
      "source": [
        "Addition"
      ]
    },
    {
      "cell_type": "code",
      "execution_count": 18,
      "metadata": {
        "colab": {
          "base_uri": "https://localhost:8080/"
        },
        "id": "nYm0jGY2lqEu",
        "outputId": "39f77417-06eb-4cee-8472-7965a0ed263e"
      },
      "outputs": [
        {
          "output_type": "execute_result",
          "data": {
            "text/plain": [
              "5"
            ]
          },
          "metadata": {},
          "execution_count": 18
        }
      ],
      "source": [
        "3 + 2"
      ]
    },
    {
      "cell_type": "markdown",
      "metadata": {
        "id": "KX_F9O2BlqEy"
      },
      "source": [
        "Subtraction"
      ]
    },
    {
      "cell_type": "code",
      "execution_count": 19,
      "metadata": {
        "colab": {
          "base_uri": "https://localhost:8080/"
        },
        "id": "tQmvhITolqEz",
        "outputId": "926ae720-8142-4015-bffd-1245fe8ce1b2"
      },
      "outputs": [
        {
          "output_type": "execute_result",
          "data": {
            "text/plain": [
              "1"
            ]
          },
          "metadata": {},
          "execution_count": 19
        }
      ],
      "source": [
        "3 - 2"
      ]
    },
    {
      "cell_type": "markdown",
      "metadata": {
        "id": "PaqeCq0qlqE2"
      },
      "source": [
        "Raising to a power"
      ]
    },
    {
      "cell_type": "code",
      "execution_count": 20,
      "metadata": {
        "colab": {
          "base_uri": "https://localhost:8080/"
        },
        "id": "HuunR6ZblqE3",
        "outputId": "6ecf6886-4cb0-4ce9-8d10-6401e5c1a0ce"
      },
      "outputs": [
        {
          "output_type": "execute_result",
          "data": {
            "text/plain": [
              "9"
            ]
          },
          "metadata": {},
          "execution_count": 20
        }
      ],
      "source": [
        "3 ** 2"
      ]
    },
    {
      "cell_type": "markdown",
      "metadata": {
        "id": "M7uODFS0lqE6"
      },
      "source": [
        "Taking the log.  The next line is log of 3."
      ]
    },
    {
      "cell_type": "code",
      "execution_count": 22,
      "metadata": {
        "colab": {
          "base_uri": "https://localhost:8080/"
        },
        "id": "F7-uXHiHlqE6",
        "outputId": "80d68d79-0612-4651-c87d-b4232ab97b3e"
      },
      "outputs": [
        {
          "output_type": "execute_result",
          "data": {
            "text/plain": [
              "1.0986122886681098"
            ]
          },
          "metadata": {},
          "execution_count": 22
        }
      ],
      "source": [
        "log(3)"
      ]
    },
    {
      "cell_type": "markdown",
      "metadata": {
        "id": "St96VgO5lqE9"
      },
      "source": [
        "In regular Python, this would be a `NameError` because the *log function* is not one of the builtin Python math functions.  But because we executed `%pylab` when we started up this notebook, all the extended math functions defined in the `numpy` module are defined.  One of those is `log`.  As an example of some possible pitfalls, we'll compare this `log` with the more vanilla version from the standard Python `math` module.  `math.log` does give the same answers for real numbers."
      ]
    },
    {
      "cell_type": "code",
      "execution_count": 23,
      "metadata": {
        "colab": {
          "base_uri": "https://localhost:8080/"
        },
        "id": "xWuzczGalqE_",
        "outputId": "9f5020fd-d32c-4488-f81b-3fc928ed7c33"
      },
      "outputs": [
        {
          "output_type": "execute_result",
          "data": {
            "text/plain": [
              "1.0986122886681098"
            ]
          },
          "metadata": {},
          "execution_count": 23
        }
      ],
      "source": [
        "import math\n",
        "math.log(3)"
      ]
    },
    {
      "cell_type": "markdown",
      "metadata": {
        "id": "tSZ8J3EylqFB"
      },
      "source": [
        "By default, math.log does natural logarithms, as does `numpy.log`, so if you dont specify the base, it is **e**.  But unlike the numpy implementation, `math.log` lets you choose other bases."
      ]
    },
    {
      "cell_type": "code",
      "execution_count": 24,
      "metadata": {
        "colab": {
          "base_uri": "https://localhost:8080/"
        },
        "id": "N3W2eCvRlqFC",
        "outputId": "46332af3-7bcf-41a1-f6d2-4d4b07743e6e"
      },
      "outputs": [
        {
          "output_type": "execute_result",
          "data": {
            "text/plain": [
              "(1.5849625007211563, 1.0)"
            ]
          },
          "metadata": {},
          "execution_count": 24
        }
      ],
      "source": [
        "math.log(3,2),math.log(3,3)"
      ]
    },
    {
      "cell_type": "markdown",
      "metadata": {
        "id": "vNxr1jGKlqFE"
      },
      "source": [
        "Trying this with the `numpy.log` raises an exception.  `numpy.log` does take a second argument but it's used for purposes we won't delve into right now."
      ]
    },
    {
      "cell_type": "code",
      "execution_count": 25,
      "metadata": {
        "colab": {
          "base_uri": "https://localhost:8080/",
          "height": 164
        },
        "id": "L-EcWtrXlqFF",
        "outputId": "e2e6cecb-a994-49e4-8020-f17aab09d714"
      },
      "outputs": [
        {
          "output_type": "error",
          "ename": "TypeError",
          "evalue": "ignored",
          "traceback": [
            "\u001b[0;31m---------------------------------------------------------------------------\u001b[0m",
            "\u001b[0;31mTypeError\u001b[0m                                 Traceback (most recent call last)",
            "\u001b[0;32m<ipython-input-25-e5ab6086b242>\u001b[0m in \u001b[0;36m<module>\u001b[0;34m()\u001b[0m\n\u001b[0;32m----> 1\u001b[0;31m \u001b[0mlog\u001b[0m\u001b[0;34m(\u001b[0m\u001b[0;36m3\u001b[0m\u001b[0;34m,\u001b[0m\u001b[0;36m2\u001b[0m\u001b[0;34m)\u001b[0m\u001b[0;34m\u001b[0m\u001b[0;34m\u001b[0m\u001b[0m\n\u001b[0m",
            "\u001b[0;31mTypeError\u001b[0m: return arrays must be of ArrayType"
          ]
        }
      ],
      "source": [
        "log(3,2)"
      ]
    },
    {
      "cell_type": "code",
      "execution_count": 26,
      "metadata": {
        "colab": {
          "base_uri": "https://localhost:8080/"
        },
        "id": "xrFNJwLLlqFH",
        "outputId": "cf971449-c541-44f6-b0ca-4063ffc3b126"
      },
      "outputs": [
        {
          "output_type": "execute_result",
          "data": {
            "text/plain": [
              "1.0"
            ]
          },
          "metadata": {},
          "execution_count": 26
        }
      ],
      "source": [
        "from math import e\n",
        "math.log(e)"
      ]
    },
    {
      "cell_type": "code",
      "execution_count": 27,
      "metadata": {
        "colab": {
          "base_uri": "https://localhost:8080/"
        },
        "id": "-j7o52Z9lqFK",
        "outputId": "189339e2-34fb-4c75-83ed-13f23b290924"
      },
      "outputs": [
        {
          "output_type": "execute_result",
          "data": {
            "text/plain": [
              "2.718281828459045"
            ]
          },
          "metadata": {},
          "execution_count": 27
        }
      ],
      "source": [
        "e"
      ]
    },
    {
      "cell_type": "code",
      "execution_count": 28,
      "metadata": {
        "colab": {
          "base_uri": "https://localhost:8080/"
        },
        "id": "uSGh1_GclqFN",
        "outputId": "edd11fe9-6b49-43c2-a485-b70a189c5578"
      },
      "outputs": [
        {
          "output_type": "execute_result",
          "data": {
            "text/plain": [
              "1.3862943611198906"
            ]
          },
          "metadata": {},
          "execution_count": 28
        }
      ],
      "source": [
        "math.log(4)"
      ]
    },
    {
      "cell_type": "code",
      "execution_count": 29,
      "metadata": {
        "colab": {
          "base_uri": "https://localhost:8080/"
        },
        "id": "_xbdw0VMlqFP",
        "outputId": "1f513eba-b2ce-4625-b149-b1cbcc659bce"
      },
      "outputs": [
        {
          "output_type": "execute_result",
          "data": {
            "text/plain": [
              "2.0"
            ]
          },
          "metadata": {},
          "execution_count": 29
        }
      ],
      "source": [
        "math.log(4,2)"
      ]
    },
    {
      "cell_type": "markdown",
      "metadata": {
        "id": "XnRmiiO8lqFS"
      },
      "source": [
        "The numpy version of log is pretty geeky. For example, it's defined for complex numbers."
      ]
    },
    {
      "cell_type": "code",
      "execution_count": 30,
      "metadata": {
        "colab": {
          "base_uri": "https://localhost:8080/"
        },
        "id": "2JfHfmJSlqFT",
        "outputId": "b9ae34d4-cc35-4665-83ca-918d08cdf411"
      },
      "outputs": [
        {
          "output_type": "execute_result",
          "data": {
            "text/plain": [
              "(1.2824746787307684+0.5880026035475675j)"
            ]
          },
          "metadata": {},
          "execution_count": 30
        }
      ],
      "source": [
        "log(3+2j)"
      ]
    },
    {
      "cell_type": "markdown",
      "metadata": {
        "id": "guzlhKbYlqFW"
      },
      "source": [
        "The regular Python version of log is not."
      ]
    },
    {
      "cell_type": "code",
      "execution_count": 31,
      "metadata": {
        "colab": {
          "base_uri": "https://localhost:8080/",
          "height": 164
        },
        "id": "iCFtOO3olqFW",
        "outputId": "c12e473d-dfe0-41c8-8126-a7e24dbfbffa"
      },
      "outputs": [
        {
          "output_type": "error",
          "ename": "TypeError",
          "evalue": "ignored",
          "traceback": [
            "\u001b[0;31m---------------------------------------------------------------------------\u001b[0m",
            "\u001b[0;31mTypeError\u001b[0m                                 Traceback (most recent call last)",
            "\u001b[0;32m<ipython-input-31-17df8a628b26>\u001b[0m in \u001b[0;36m<module>\u001b[0;34m()\u001b[0m\n\u001b[0;32m----> 1\u001b[0;31m \u001b[0mmath\u001b[0m\u001b[0;34m.\u001b[0m\u001b[0mlog\u001b[0m\u001b[0;34m(\u001b[0m\u001b[0;36m3\u001b[0m\u001b[0;34m+\u001b[0m\u001b[0;36m2j\u001b[0m\u001b[0;34m)\u001b[0m\u001b[0;34m\u001b[0m\u001b[0;34m\u001b[0m\u001b[0m\n\u001b[0m",
            "\u001b[0;31mTypeError\u001b[0m: can't convert complex to float"
          ]
        }
      ],
      "source": [
        "math.log(3+2j)"
      ]
    },
    {
      "cell_type": "markdown",
      "metadata": {
        "id": "qCPY3vLUlqFb"
      },
      "source": [
        "The Python *math* module is very spare and lacks a number of important mathematical tools of interest to data scientists.  Later on in this course we will be introduced to the more complete set of tools available in the *numpy* module."
      ]
    },
    {
      "cell_type": "markdown",
      "metadata": {
        "id": "fCyujxkLlqFc"
      },
      "source": [
        "## Student confirmation section"
      ]
    },
    {
      "cell_type": "markdown",
      "metadata": {
        "id": "f5LzpcwYlqFc"
      },
      "source": [
        "Evaluate the cells below, to find out the value of the expressions.\n",
        "\n",
        "Note that you may get some errors, which we'll talk about.  They have to do when\n",
        "complex numbers are required and how to write them when they are.\n",
        "\n",
        "After evaluating all four cells, save the notebook and submit it on\n",
        "Canvas as your version of the first assignment.  Do not submit\n",
        "the notebook without evaluating the cells, or you won't get credit."
      ]
    },
    {
      "cell_type": "code",
      "execution_count": 33,
      "metadata": {
        "colab": {
          "base_uri": "https://localhost:8080/",
          "height": 181
        },
        "id": "uYavvgpslqFd",
        "outputId": "0259ef3e-a199-46fa-df64-bf94ca632a52"
      },
      "outputs": [
        {
          "output_type": "error",
          "ename": "NameError",
          "evalue": "ignored",
          "traceback": [
            "\u001b[0;31m---------------------------------------------------------------------------\u001b[0m",
            "\u001b[0;31mNameError\u001b[0m                                 Traceback (most recent call last)",
            "\u001b[0;32m<ipython-input-33-59dfc85bb107>\u001b[0m in \u001b[0;36m<module>\u001b[0;34m()\u001b[0m\n\u001b[1;32m      1\u001b[0m \u001b[0;32mfrom\u001b[0m \u001b[0mmath\u001b[0m \u001b[0;32mimport\u001b[0m \u001b[0mpi\u001b[0m\u001b[0;34m,\u001b[0m\u001b[0me\u001b[0m\u001b[0;34m\u001b[0m\u001b[0;34m\u001b[0m\u001b[0m\n\u001b[0;32m----> 2\u001b[0;31m \u001b[0mpow\u001b[0m\u001b[0;34m(\u001b[0m\u001b[0me\u001b[0m\u001b[0;34m,\u001b[0m\u001b[0;36m0\u001b[0m\u001b[0;34m+\u001b[0m\u001b[0;34m(\u001b[0m\u001b[0mpi\u001b[0m\u001b[0;34m*\u001b[0m\u001b[0mj\u001b[0m\u001b[0;34m)\u001b[0m\u001b[0;34m)\u001b[0m\u001b[0;34m\u001b[0m\u001b[0;34m\u001b[0m\u001b[0m\n\u001b[0m",
            "\u001b[0;31mNameError\u001b[0m: name 'j' is not defined"
          ]
        }
      ],
      "source": [
        "from math import pi,e\n",
        "pow(e,0+(pi*j))"
      ]
    },
    {
      "cell_type": "code",
      "execution_count": 34,
      "metadata": {
        "colab": {
          "base_uri": "https://localhost:8080/"
        },
        "id": "VZvDdThJCIuq",
        "outputId": "78a3aa24-7523-4438-8ac2-5c00cfb0315b"
      },
      "outputs": [
        {
          "output_type": "execute_result",
          "data": {
            "text/plain": [
              "(-1+1.2246467991473532e-16j)"
            ]
          },
          "metadata": {},
          "execution_count": 34
        }
      ],
      "source": [
        "pow(e,(1j*pi))"
      ]
    },
    {
      "cell_type": "code",
      "execution_count": 35,
      "metadata": {
        "colab": {
          "base_uri": "https://localhost:8080/"
        },
        "id": "raavqTQomAyh",
        "outputId": "3ab81bee-d6f6-4ce6-a0d5-01adf4a1f5b3"
      },
      "outputs": [
        {
          "output_type": "stream",
          "name": "stderr",
          "text": [
            "/usr/local/lib/python3.7/dist-packages/ipykernel_launcher.py:1: RuntimeWarning: invalid value encountered in log\n",
            "  \"\"\"Entry point for launching an IPython kernel.\n"
          ]
        },
        {
          "output_type": "execute_result",
          "data": {
            "text/plain": [
              "nan"
            ]
          },
          "metadata": {},
          "execution_count": 35
        }
      ],
      "source": [
        "log(-1)"
      ]
    },
    {
      "cell_type": "code",
      "execution_count": 36,
      "metadata": {
        "colab": {
          "base_uri": "https://localhost:8080/"
        },
        "id": "BFt69_yllqFg",
        "outputId": "24cf0f91-60a4-42bd-c6a3-67769606056d"
      },
      "outputs": [
        {
          "output_type": "execute_result",
          "data": {
            "text/plain": [
              "3.141592653589793j"
            ]
          },
          "metadata": {},
          "execution_count": 36
        }
      ],
      "source": [
        "log(-1+0j)"
      ]
    },
    {
      "cell_type": "markdown",
      "metadata": {
        "id": "8GtKWyXzD83X"
      },
      "source": [
        ""
      ]
    },
    {
      "cell_type": "markdown",
      "metadata": {
        "id": "vyQgJo2slqFi"
      },
      "source": [
        "# Textbook problems (also to be completed by students)"
      ]
    },
    {
      "cell_type": "markdown",
      "metadata": {
        "id": "B_uZD7hulqFj"
      },
      "source": [
        "Recall the first cell in this notebook."
      ]
    },
    {
      "cell_type": "code",
      "execution_count": null,
      "metadata": {
        "id": "Ppj7a-qalqFj"
      },
      "outputs": [],
      "source": [
        "total_secs = 7684\n",
        "hours = total_secs // 3600\n",
        "secs_still_remaining = total_secs % 3600\n",
        "minutes =  secs_still_remaining // 60\n",
        "secs_finally_remaining = secs_still_remaining  % 60"
      ]
    },
    {
      "cell_type": "markdown",
      "metadata": {
        "id": "0TqVexkglqFm"
      },
      "source": [
        "Each of these 5 lines involves assigning a value to a **name** or **variable**.  Pythonistas use both terms (there is a slight technical difference that needn't worry us now).  For example, the first line assigns the value 7684 to the **name** `total_secs`.  The second line assigns whatever you get by dividing `total_secs` by 3600 to the name `hours`. And so on."
      ]
    },
    {
      "cell_type": "markdown",
      "metadata": {
        "id": "uP9b_MwhlqFn"
      },
      "source": [
        "Above, we printed out information about all the above computations as follows:"
      ]
    },
    {
      "cell_type": "code",
      "execution_count": null,
      "metadata": {
        "id": "lw3OCwBelqFn",
        "outputId": "72503512-a449-4b80-e058-7c87ed202741"
      },
      "outputs": [
        {
          "name": "stdout",
          "output_type": "stream",
          "text": [
            "Hrs = 2 mins = 8 secs = 4\n"
          ]
        }
      ],
      "source": [
        "print(\"Hrs =\", hours, \"mins =\", minutes, \"secs =\", secs_finally_remaining)"
      ]
    },
    {
      "cell_type": "markdown",
      "metadata": {
        "id": "X0ZtKIkylqFq"
      },
      "source": [
        "There was another way to do the same thing that we illustrated:"
      ]
    },
    {
      "cell_type": "code",
      "execution_count": null,
      "metadata": {
        "id": "fzTKL2CllqFq",
        "outputId": "2578d067-d79a-4c1b-84c7-b76621be7195"
      },
      "outputs": [
        {
          "name": "stdout",
          "output_type": "stream",
          "text": [
            "Hrs = 2 mins = 8 secs = 4\n"
          ]
        }
      ],
      "source": [
        "print(f\"Hrs = {hours} mins = {minutes} secs = {secs_finally_remaining}\")"
      ]
    },
    {
      "cell_type": "markdown",
      "metadata": {
        "id": "39ROOwnzlqFt"
      },
      "source": [
        "When we print the string, the bracketed names `{hours}`, `{minutes}` and `{secs_finally_remaining}` are all replaced with the values of the names. For this to work, the names have to have been given values beforehand (as we did above), and we have to tell Python that this is a special kind of string that has variable slots by prefixing the string with \"f\".  Not surprisingly, these kind of strings are called **f-strings**."
      ]
    },
    {
      "cell_type": "markdown",
      "metadata": {
        "id": "YkL8e4sllqFu"
      },
      "source": [
        "**Exercise 1**. For your first exercise, use the cell below. Use a variable to represent a person's name, and print a message to the person using an f-string.  For example the name might be Bozo and the message might be \"Hey Bozo, you're pants are on fire!\""
      ]
    },
    {
      "cell_type": "code",
      "execution_count": null,
      "metadata": {
        "id": "T9zWvHK2lqFu",
        "outputId": "e645698f-a27a-4ae7-ed79-1bfe441047c1"
      },
      "outputs": [
        {
          "name": "stdout",
          "output_type": "stream",
          "text": [
            "Hey Bozo, your pants are on fire!\n"
          ]
        }
      ],
      "source": [
        "name = \"Bozo\"\n",
        "print(f\"Hey {name}, your pants are on fire!\")"
      ]
    },
    {
      "cell_type": "code",
      "execution_count": 54,
      "metadata": {
        "colab": {
          "base_uri": "https://localhost:8080/"
        },
        "id": "90VxY7CVlqFz",
        "outputId": "78d8aed7-1f18-45c5-f7b4-b5cc75df1c78"
      },
      "outputs": [
        {
          "output_type": "stream",
          "name": "stdout",
          "text": [
            "Hey Nishu, Welcome to python for social science course.\n"
          ]
        }
      ],
      "source": [
        "person_name = \"Nishu\"       # Declaring variable person_name to store string type name\n",
        "print(f\"Hey {person_name}, Welcome to python for social science course.\")     # Printing person_name with message using f-string."
      ]
    },
    {
      "cell_type": "markdown",
      "metadata": {
        "id": "lo_pYBj9lqF6"
      },
      "source": [
        "Your second exercise will make use of the string methods `title`, `upper` and `lower`, illustrated below:"
      ]
    },
    {
      "cell_type": "code",
      "execution_count": null,
      "metadata": {
        "id": "MLzyyLj0lqF6",
        "outputId": "43e6bfdc-3e64-404a-fa08-fe588e1e3a80"
      },
      "outputs": [
        {
          "name": "stdout",
          "output_type": "stream",
          "text": [
            "abcdefghijklmopqrstuvwxyz\n",
            "Abcdefghijklmopqrstuvwxyz\n",
            "abcdefghijklmopqrstuvwxyz\n",
            "ABCDEFGHIJKLMOPQRSTUVWXYZ\n",
            "\n",
            "The quick brown fox jumped over the lazy yellow dog.\n",
            "The Quick Brown Fox Jumped Over The Lazy Yellow Dog.\n",
            "the quick brown fox jumped over the lazy yellow dog.\n",
            "THE QUICK BROWN FOX JUMPED OVER THE LAZY YELLOW DOG.\n"
          ]
        }
      ],
      "source": [
        "alphabet = 'abcdefghijklmopqrstuvwxyz'\n",
        "sentence = 'The quick brown fox jumped over the lazy yellow dog.'\n",
        "\n",
        "print(alphabet)\n",
        "print (alphabet.title())\n",
        "print(alphabet.lower())\n",
        "print(alphabet.upper())\n",
        "print()\n",
        "print(sentence)\n",
        "print (sentence.title())\n",
        "print(sentence.lower())\n",
        "print(sentence.upper())"
      ]
    },
    {
      "cell_type": "markdown",
      "metadata": {
        "id": "nkbOUQAFlqF9"
      },
      "source": [
        "**Exercise 2**.\n",
        "In the next cell, use a variable to represent a person's name and print that name in lower case, upper case, and title case.  Be sure to use f-strings."
      ]
    },
    {
      "cell_type": "code",
      "execution_count": 40,
      "metadata": {
        "colab": {
          "base_uri": "https://localhost:8080/"
        },
        "id": "5fvdK047lqF-",
        "outputId": "9402fd8f-2a63-46c1-f736-c48a32c968f2"
      },
      "outputs": [
        {
          "output_type": "stream",
          "name": "stdout",
          "text": [
            "printing person name in lower case: nishu singh\n",
            "printing person name in upper case: NISHU SINGH\n",
            "printing person name in title case: Nishu Singh\n"
          ]
        }
      ],
      "source": [
        "person_name = \"Nishu Singh\"       # Declaring variable person_name to store the string typre name\n",
        "print(f\"printing person name in lower case: {person_name.lower()}\")    # Printing the person_name in lower case using format string\n",
        "print(f\"printing person name in upper case: {person_name.upper()}\")    # Printing the person_name in upper case using format string\n",
        "print(f\"printing person name in title case: {person_name.title()}\")    # Printing the person_name in title case using format string"
      ]
    },
    {
      "cell_type": "markdown",
      "metadata": {
        "id": "E-eiqq1OlqGI"
      },
      "source": [
        "**Exercise 3**.  Find a quote whose source you know and print the quote and the name of its author.  For example, as a particularly challenging example, you might want to print out\n",
        "\n",
        "```\n",
        "\"There's a sucker born every minute,\" P. T. Barnum once said.\n",
        "```\n",
        "Your answer should go in the next cell.  To understand how to create a string with quotes inside it, you might need to look at [the introduction to strings in the online textbook.](https://gawron.sdsu.edu/python_for_ss/course_core/book_draft/Python_introduction/python_types_first_pass.html#strings)"
      ]
    },
    {
      "cell_type": "code",
      "execution_count": 47,
      "metadata": {
        "colab": {
          "base_uri": "https://localhost:8080/"
        },
        "id": "uX2zwapplqGI",
        "outputId": "3c5829be-d632-4fd0-f37e-eb6f5594f226"
      },
      "outputs": [
        {
          "output_type": "stream",
          "name": "stdout",
          "text": [
            "\"Belief creates the actual fact\", Wiliam James once said.\n"
          ]
        }
      ],
      "source": [
        "qoute = \"Belief creates the actual fact\"      # Declaring variable qoute to store string type qoute\n",
        "author = \"Wiliam James\"                       # Declaring variable author to store string type author name\n",
        "print(f'\"{qoute}\", {author} once said.')      # Printing quote and author variable using format string"
      ]
    },
    {
      "cell_type": "markdown",
      "metadata": {
        "id": "MPH4R-5VlqGL"
      },
      "source": [
        "For your next exercise, you'll make use of some Python methods that trim white space (space, tab, newline) off strings.  These are illustrated below.  First `rstrip`:"
      ]
    },
    {
      "cell_type": "code",
      "execution_count": 48,
      "metadata": {
        "colab": {
          "base_uri": "https://localhost:8080/"
        },
        "id": "lAOD9wPwlqGM",
        "outputId": "8b8ae43b-b1d4-4312-d4d0-8ce1588976e1"
      },
      "outputs": [
        {
          "output_type": "stream",
          "name": "stdout",
          "text": [
            "fred\n",
            "fred \n",
            "X == Y:  False  len X: 4 len Y: 5\n",
            "X == Z:  True  len X: 4 len Z: 4\n"
          ]
        }
      ],
      "source": [
        "X = \"fred\"\n",
        "print(X)\n",
        "Y = \"fred \"  # add an extra space at the end ...\n",
        "print(Y)  # Looks deceptively just like printing X, BUT\n",
        "print(\"X == Y: \", X == Y, \" len X:\",len(X), \"len Y:\", len(Y))\n",
        "Z = Y.rstrip()  # Now strip away white space on the right.\n",
        "print(\"X == Z: \", X == Z, \" len X:\",len(X), \"len Z:\", len(Z))"
      ]
    },
    {
      "cell_type": "markdown",
      "metadata": {
        "id": "eHgyH3wClqGP"
      },
      "source": [
        "Now the mirror image method, `lstrip`:"
      ]
    },
    {
      "cell_type": "code",
      "execution_count": 49,
      "metadata": {
        "colab": {
          "base_uri": "https://localhost:8080/"
        },
        "id": "ASeNPvy8lqGP",
        "scrolled": false,
        "outputId": "96b4ef46-4bfb-46f4-811e-cf73d9d47f92"
      },
      "outputs": [
        {
          "output_type": "stream",
          "name": "stdout",
          "text": [
            "fred\n",
            " fred\n",
            "X == Y:  False  len X: 4 len Y: 5\n",
            "X == Z:  True  len X: 4 len Z: 4\n"
          ]
        }
      ],
      "source": [
        "X = \"fred\"\n",
        "print(X)\n",
        "Y = \" fred\"  # add an extra space at the beginning ...\n",
        "print(Y)  # This time X and Y print out differently\n",
        "print(\"X == Y: \", X == Y, \" len X:\",len(X), \"len Y:\", len(Y))\n",
        "Z = Y.lstrip()  # Now strip away white space on the left.\n",
        "print(\"X == Z: \", X == Z, \" len X:\",len(X), \"len Z:\", len(Z))"
      ]
    },
    {
      "cell_type": "markdown",
      "metadata": {
        "id": "E972_yhIlqGT"
      },
      "source": [
        "Now a convenient variant that strips white space on both the right and left sides, a very frequently used method in text preocessing."
      ]
    },
    {
      "cell_type": "code",
      "execution_count": 50,
      "metadata": {
        "colab": {
          "base_uri": "https://localhost:8080/"
        },
        "id": "WJv8aA8plqGT",
        "outputId": "e2206f9f-74e2-4200-ca60-2959e3551114"
      },
      "outputs": [
        {
          "output_type": "stream",
          "name": "stdout",
          "text": [
            "fred\n",
            " fred \n",
            "X == Y:  False  len X: 4 len Y: 6\n",
            "X == Z:  True  len X: 4 len Z: 4\n"
          ]
        }
      ],
      "source": [
        "X = \"fred\"\n",
        "print(X)\n",
        "Y = \" fred \"  # add an extra space at the beginning and at the end...\n",
        "print(Y)  # X and Y print out differently\n",
        "print(\"X == Y: \", X == Y, \" len X:\",len(X), \"len Y:\", len(Y))\n",
        "Z = Y.strip()  # Now strip away white space on both sides.\n",
        "print(\"X == Z: \", X == Z, \" len X:\",len(X), \"len Z:\", len(Z))"
      ]
    },
    {
      "cell_type": "code",
      "execution_count": null,
      "metadata": {
        "id": "ardnSazClqGV"
      },
      "outputs": [],
      "source": [
        "len(Z)"
      ]
    },
    {
      "cell_type": "markdown",
      "metadata": {
        "id": "Wd7r7lUTlqGa"
      },
      "source": [
        "**Exercise 4**.  In the next cell, use a variable to represent a person's name and include some white space both before and after the name.  Print the name once so the white space around the name is displayed.  Then print the name using each of the three stripping functions `lstrip`, `rstrip`, and `strip`."
      ]
    },
    {
      "cell_type": "code",
      "execution_count": 53,
      "metadata": {
        "colab": {
          "base_uri": "https://localhost:8080/"
        },
        "id": "ExH1MQgWlqGa",
        "outputId": "c2159993-df9d-40d3-924f-e489d2e936d9"
      },
      "outputs": [
        {
          "output_type": "stream",
          "name": "stdout",
          "text": [
            "person name without stripping spaces is :   John \n",
            "person name with lstrip  is : John \n",
            "person name with rstrip is :   John\n",
            "person name with strip is : John\n"
          ]
        }
      ],
      "source": [
        "person_name = \"  John \"   # Creating variable person_name to store the name as string\n",
        "print(f\"person name without stripping spaces is : {person_name}\")    # Printing variable without using lsrip(), rstrip(), strip()\n",
        "print(f\"person name with lstrip  is : {person_name.lstrip()}\")       # printing variable using lstrip() - remove left whitespace\n",
        "print(f\"person name with rstrip is : {person_name.rstrip()}\")        # Printing variable using rstrip() - remove right whitespace\n",
        "print(f\"person name with strip is : {person_name.strip()}\")          # Printing variable using strip()  - remove both left and right white space"
      ]
    },
    {
      "cell_type": "markdown",
      "metadata": {
        "id": "F8PQx7aM2NpY"
      },
      "source": [
        ""
      ]
    },
    {
      "cell_type": "code",
      "execution_count": null,
      "metadata": {
        "id": "ocpwxle4lqGc"
      },
      "outputs": [],
      "source": [
        ""
      ]
    }
  ],
  "metadata": {
    "colab": {
      "collapsed_sections": [],
      "name": "Copy of gawron2_running_python.ipynb",
      "provenance": []
    },
    "kernelspec": {
      "display_name": "Python 3",
      "language": "python",
      "name": "python3"
    },
    "language_info": {
      "codemirror_mode": {
        "name": "ipython",
        "version": 3
      },
      "file_extension": ".py",
      "mimetype": "text/x-python",
      "name": "python",
      "nbconvert_exporter": "python",
      "pygments_lexer": "ipython3",
      "version": "3.7.6"
    },
    "toc": {
      "base_numbering": 1,
      "nav_menu": {
        "height": "85px",
        "width": "252px"
      },
      "number_sections": true,
      "sideBar": true,
      "skip_h1_title": false,
      "title_cell": "Table of Contents",
      "title_sidebar": "Contents",
      "toc_cell": false,
      "toc_position": {},
      "toc_section_display": "block",
      "toc_window_display": false
    }
  },
  "nbformat": 4,
  "nbformat_minor": 0
}